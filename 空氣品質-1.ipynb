{
 "cells": [
  {
   "cell_type": "code",
   "execution_count": 1,
   "metadata": {},
   "outputs": [
    {
     "data": {
      "text/html": [
       "        <script type=\"text/javascript\">\n",
       "        window.PlotlyConfig = {MathJaxConfig: 'local'};\n",
       "        if (window.MathJax) {MathJax.Hub.Config({SVG: {font: \"STIX-Web\"}});}\n",
       "        if (typeof require !== 'undefined') {\n",
       "        require.undef(\"plotly\");\n",
       "        requirejs.config({\n",
       "            paths: {\n",
       "                'plotly': ['https://cdn.plot.ly/plotly-2.4.2.min']\n",
       "            }\n",
       "        });\n",
       "        require(['plotly'], function(Plotly) {\n",
       "            window._Plotly = Plotly;\n",
       "        });\n",
       "        }\n",
       "        </script>\n",
       "        "
      ]
     },
     "metadata": {},
     "output_type": "display_data"
    }
   ],
   "source": [
    "import numpy as np\n",
    "import pandas as pd\n",
    "import plotly\n",
    "import plotly.express as px\n",
    "plotly.offline.init_notebook_mode(connected=True)"
   ]
  },
  {
   "cell_type": "markdown",
   "metadata": {},
   "source": [
    "## 利用迴圈把十年資料讀取並合併儲存成DataFrame"
   ]
  },
  {
   "cell_type": "markdown",
   "metadata": {},
   "source": [
    "    path = 'C:/Users/user/workspace/souce' \n",
    "    \n",
    "    years = os.listdir(path)\n",
    "    \n",
    "    list2 = []\n",
    "    \n",
    "    for year in years:\n",
    "        path2 = 'C:/Users/user/workspace/souce' + year    \n",
    "        files = os.listdir(path2)    \n",
    "        for file in files:        \n",
    "            df = pd.read_csv(path2+'/'+file, index_col=None, header=0)        \n",
    "            list2.append(df)\n",
    "    \n",
    "    dfall = pd.concat(list2, ignore_index=True)"
   ]
  },
  {
   "cell_type": "markdown",
   "metadata": {},
   "source": [
    "## 將DataFrame儲存成CSV檔並命成名'10year-org.csv'"
   ]
  },
  {
   "cell_type": "markdown",
   "metadata": {},
   "source": [
    "    dfall.to_csv('10year-org.csv', index=False)"
   ]
  },
  {
   "cell_type": "markdown",
   "metadata": {},
   "source": [
    "## 進行資料篩選"
   ]
  },
  {
   "cell_type": "markdown",
   "metadata": {},
   "source": [
    "#### 把不需要的column刪除"
   ]
  },
  {
   "cell_type": "markdown",
   "metadata": {},
   "source": [
    "    col = ['SiteId', 'ItemId', 'ItemUnit', 'ItemEngName']\n",
    "    dfall.drop(columns=col, inplace= True)"
   ]
  },
  {
   "cell_type": "markdown",
   "metadata": {},
   "source": [
    "#### 把SiteName取值為['豐原', '大里', '忠明', '西屯', '沙鹿']，ItemName取值為懸浮微粒，並重設INDEX"
   ]
  },
  {
   "cell_type": "markdown",
   "metadata": {},
   "source": [
    "    col = ['豐原', '大里', '忠明', '西屯', '沙鹿']\n",
    "    dfall = dfall[(dfall['SiteName'].isin(col)) & (dfall['ItemName'] =='懸浮微粒')]\n",
    "    dfall.reset_index(drop = True, inplace=True)"
   ]
  },
  {
   "cell_type": "markdown",
   "metadata": {},
   "source": [
    "## 把篩選完的資料存成另外一個CSV檔命名成10yearsTXG PM2.5-org.csv"
   ]
  },
  {
   "cell_type": "markdown",
   "metadata": {},
   "source": [
    "    dfall.to_csv('10yearsTXG-org.csv', index=False)"
   ]
  },
  {
   "cell_type": "code",
   "execution_count": 2,
   "metadata": {},
   "outputs": [],
   "source": [
    "dfall = pd.read_csv('./10yearsTXG PM2.5-org.csv')"
   ]
  },
  {
   "cell_type": "code",
   "execution_count": 3,
   "metadata": {},
   "outputs": [
    {
     "data": {
      "text/html": [
       "<div>\n",
       "<style scoped>\n",
       "    .dataframe tbody tr th:only-of-type {\n",
       "        vertical-align: middle;\n",
       "    }\n",
       "\n",
       "    .dataframe tbody tr th {\n",
       "        vertical-align: top;\n",
       "    }\n",
       "\n",
       "    .dataframe thead th {\n",
       "        text-align: right;\n",
       "    }\n",
       "</style>\n",
       "<table border=\"1\" class=\"dataframe\">\n",
       "  <thead>\n",
       "    <tr style=\"text-align: right;\">\n",
       "      <th></th>\n",
       "      <th>SiteName</th>\n",
       "      <th>ItemName</th>\n",
       "      <th>MonitorDate</th>\n",
       "      <th>MonitorValue00</th>\n",
       "      <th>MonitorValue01</th>\n",
       "      <th>MonitorValue02</th>\n",
       "      <th>MonitorValue03</th>\n",
       "      <th>MonitorValue04</th>\n",
       "      <th>MonitorValue05</th>\n",
       "      <th>MonitorValue06</th>\n",
       "      <th>...</th>\n",
       "      <th>MonitorValue14</th>\n",
       "      <th>MonitorValue15</th>\n",
       "      <th>MonitorValue16</th>\n",
       "      <th>MonitorValue17</th>\n",
       "      <th>MonitorValue18</th>\n",
       "      <th>MonitorValue19</th>\n",
       "      <th>MonitorValue20</th>\n",
       "      <th>MonitorValue21</th>\n",
       "      <th>MonitorValue22</th>\n",
       "      <th>MonitorValue23</th>\n",
       "    </tr>\n",
       "  </thead>\n",
       "  <tbody>\n",
       "    <tr>\n",
       "      <th>0</th>\n",
       "      <td>豐原</td>\n",
       "      <td>懸浮微粒</td>\n",
       "      <td>2011-01-01</td>\n",
       "      <td>45</td>\n",
       "      <td>48</td>\n",
       "      <td>40</td>\n",
       "      <td>37</td>\n",
       "      <td>45</td>\n",
       "      <td>42</td>\n",
       "      <td>31</td>\n",
       "      <td>...</td>\n",
       "      <td>70</td>\n",
       "      <td>80</td>\n",
       "      <td>77</td>\n",
       "      <td>71</td>\n",
       "      <td>59</td>\n",
       "      <td>60</td>\n",
       "      <td>58</td>\n",
       "      <td>60</td>\n",
       "      <td>58</td>\n",
       "      <td>47</td>\n",
       "    </tr>\n",
       "    <tr>\n",
       "      <th>1</th>\n",
       "      <td>沙鹿</td>\n",
       "      <td>懸浮微粒</td>\n",
       "      <td>2011-01-01</td>\n",
       "      <td>NaN</td>\n",
       "      <td>NaN</td>\n",
       "      <td>NaN</td>\n",
       "      <td>NaN</td>\n",
       "      <td>NaN</td>\n",
       "      <td>NaN</td>\n",
       "      <td>NaN</td>\n",
       "      <td>...</td>\n",
       "      <td>79</td>\n",
       "      <td>76</td>\n",
       "      <td>70</td>\n",
       "      <td>61</td>\n",
       "      <td>48</td>\n",
       "      <td>40</td>\n",
       "      <td>38</td>\n",
       "      <td>34</td>\n",
       "      <td>33</td>\n",
       "      <td>34</td>\n",
       "    </tr>\n",
       "    <tr>\n",
       "      <th>2</th>\n",
       "      <td>大里</td>\n",
       "      <td>懸浮微粒</td>\n",
       "      <td>2011-01-01</td>\n",
       "      <td>87</td>\n",
       "      <td>78</td>\n",
       "      <td>62</td>\n",
       "      <td>50</td>\n",
       "      <td>52</td>\n",
       "      <td>56</td>\n",
       "      <td>60</td>\n",
       "      <td>...</td>\n",
       "      <td>58</td>\n",
       "      <td>63</td>\n",
       "      <td>70</td>\n",
       "      <td>72</td>\n",
       "      <td>71</td>\n",
       "      <td>68</td>\n",
       "      <td>59</td>\n",
       "      <td>52</td>\n",
       "      <td>50</td>\n",
       "      <td>48</td>\n",
       "    </tr>\n",
       "    <tr>\n",
       "      <th>3</th>\n",
       "      <td>忠明</td>\n",
       "      <td>懸浮微粒</td>\n",
       "      <td>2011-01-01</td>\n",
       "      <td>37</td>\n",
       "      <td>41</td>\n",
       "      <td>49</td>\n",
       "      <td>29</td>\n",
       "      <td>30</td>\n",
       "      <td>40</td>\n",
       "      <td>35</td>\n",
       "      <td>...</td>\n",
       "      <td>70</td>\n",
       "      <td>70</td>\n",
       "      <td>70</td>\n",
       "      <td>70</td>\n",
       "      <td>57</td>\n",
       "      <td>49</td>\n",
       "      <td>49</td>\n",
       "      <td>49</td>\n",
       "      <td>36</td>\n",
       "      <td>42</td>\n",
       "    </tr>\n",
       "    <tr>\n",
       "      <th>4</th>\n",
       "      <td>西屯</td>\n",
       "      <td>懸浮微粒</td>\n",
       "      <td>2011-01-01</td>\n",
       "      <td>48</td>\n",
       "      <td>48</td>\n",
       "      <td>48</td>\n",
       "      <td>46</td>\n",
       "      <td>47</td>\n",
       "      <td>42</td>\n",
       "      <td>46</td>\n",
       "      <td>...</td>\n",
       "      <td>70</td>\n",
       "      <td>79</td>\n",
       "      <td>76</td>\n",
       "      <td>66</td>\n",
       "      <td>62</td>\n",
       "      <td>57</td>\n",
       "      <td>57</td>\n",
       "      <td>50</td>\n",
       "      <td>45</td>\n",
       "      <td>39</td>\n",
       "    </tr>\n",
       "    <tr>\n",
       "      <th>...</th>\n",
       "      <td>...</td>\n",
       "      <td>...</td>\n",
       "      <td>...</td>\n",
       "      <td>...</td>\n",
       "      <td>...</td>\n",
       "      <td>...</td>\n",
       "      <td>...</td>\n",
       "      <td>...</td>\n",
       "      <td>...</td>\n",
       "      <td>...</td>\n",
       "      <td>...</td>\n",
       "      <td>...</td>\n",
       "      <td>...</td>\n",
       "      <td>...</td>\n",
       "      <td>...</td>\n",
       "      <td>...</td>\n",
       "      <td>...</td>\n",
       "      <td>...</td>\n",
       "      <td>...</td>\n",
       "      <td>...</td>\n",
       "      <td>...</td>\n",
       "    </tr>\n",
       "    <tr>\n",
       "      <th>18165</th>\n",
       "      <td>豐原</td>\n",
       "      <td>懸浮微粒</td>\n",
       "      <td>2020-12-31</td>\n",
       "      <td>41</td>\n",
       "      <td>41.0</td>\n",
       "      <td>34</td>\n",
       "      <td>30</td>\n",
       "      <td>32</td>\n",
       "      <td>32</td>\n",
       "      <td>34</td>\n",
       "      <td>...</td>\n",
       "      <td>26</td>\n",
       "      <td>30</td>\n",
       "      <td>33</td>\n",
       "      <td>34</td>\n",
       "      <td>36</td>\n",
       "      <td>33</td>\n",
       "      <td>28</td>\n",
       "      <td>25</td>\n",
       "      <td>22</td>\n",
       "      <td>20</td>\n",
       "    </tr>\n",
       "    <tr>\n",
       "      <th>18166</th>\n",
       "      <td>沙鹿</td>\n",
       "      <td>懸浮微粒</td>\n",
       "      <td>2020-12-31</td>\n",
       "      <td>44</td>\n",
       "      <td>47.0</td>\n",
       "      <td>44</td>\n",
       "      <td>35</td>\n",
       "      <td>26</td>\n",
       "      <td>37</td>\n",
       "      <td>35</td>\n",
       "      <td>...</td>\n",
       "      <td>35</td>\n",
       "      <td>34</td>\n",
       "      <td>30</td>\n",
       "      <td>32</td>\n",
       "      <td>31</td>\n",
       "      <td>32</td>\n",
       "      <td>25</td>\n",
       "      <td>24</td>\n",
       "      <td>22</td>\n",
       "      <td>22</td>\n",
       "    </tr>\n",
       "    <tr>\n",
       "      <th>18167</th>\n",
       "      <td>大里</td>\n",
       "      <td>懸浮微粒</td>\n",
       "      <td>2020-12-31</td>\n",
       "      <td>42</td>\n",
       "      <td>42.0</td>\n",
       "      <td>33</td>\n",
       "      <td>31</td>\n",
       "      <td>25</td>\n",
       "      <td>28</td>\n",
       "      <td>32</td>\n",
       "      <td>...</td>\n",
       "      <td>35</td>\n",
       "      <td>38</td>\n",
       "      <td>34</td>\n",
       "      <td>32</td>\n",
       "      <td>30</td>\n",
       "      <td>26</td>\n",
       "      <td>28</td>\n",
       "      <td>23</td>\n",
       "      <td>23</td>\n",
       "      <td>24</td>\n",
       "    </tr>\n",
       "    <tr>\n",
       "      <th>18168</th>\n",
       "      <td>忠明</td>\n",
       "      <td>懸浮微粒</td>\n",
       "      <td>2020-12-31</td>\n",
       "      <td>45</td>\n",
       "      <td>42.0</td>\n",
       "      <td>38</td>\n",
       "      <td>32</td>\n",
       "      <td>38</td>\n",
       "      <td>37</td>\n",
       "      <td>34</td>\n",
       "      <td>...</td>\n",
       "      <td>35</td>\n",
       "      <td>35</td>\n",
       "      <td>39</td>\n",
       "      <td>34</td>\n",
       "      <td>35</td>\n",
       "      <td>36</td>\n",
       "      <td>32</td>\n",
       "      <td>22</td>\n",
       "      <td>27</td>\n",
       "      <td>22</td>\n",
       "    </tr>\n",
       "    <tr>\n",
       "      <th>18169</th>\n",
       "      <td>西屯</td>\n",
       "      <td>懸浮微粒</td>\n",
       "      <td>2020-12-31</td>\n",
       "      <td>40</td>\n",
       "      <td>45.0</td>\n",
       "      <td>44</td>\n",
       "      <td>42</td>\n",
       "      <td>32</td>\n",
       "      <td>35</td>\n",
       "      <td>35</td>\n",
       "      <td>...</td>\n",
       "      <td>37</td>\n",
       "      <td>37</td>\n",
       "      <td>38</td>\n",
       "      <td>35</td>\n",
       "      <td>34</td>\n",
       "      <td>34</td>\n",
       "      <td>33</td>\n",
       "      <td>31</td>\n",
       "      <td>29</td>\n",
       "      <td>31</td>\n",
       "    </tr>\n",
       "  </tbody>\n",
       "</table>\n",
       "<p>18170 rows × 27 columns</p>\n",
       "</div>"
      ],
      "text/plain": [
       "      SiteName ItemName MonitorDate MonitorValue00 MonitorValue01  \\\n",
       "0           豐原     懸浮微粒  2011-01-01             45             48   \n",
       "1           沙鹿     懸浮微粒  2011-01-01            NaN            NaN   \n",
       "2           大里     懸浮微粒  2011-01-01             87             78   \n",
       "3           忠明     懸浮微粒  2011-01-01             37             41   \n",
       "4           西屯     懸浮微粒  2011-01-01             48             48   \n",
       "...        ...      ...         ...            ...            ...   \n",
       "18165       豐原     懸浮微粒  2020-12-31             41           41.0   \n",
       "18166       沙鹿     懸浮微粒  2020-12-31             44           47.0   \n",
       "18167       大里     懸浮微粒  2020-12-31             42           42.0   \n",
       "18168       忠明     懸浮微粒  2020-12-31             45           42.0   \n",
       "18169       西屯     懸浮微粒  2020-12-31             40           45.0   \n",
       "\n",
       "      MonitorValue02 MonitorValue03 MonitorValue04 MonitorValue05  \\\n",
       "0                 40             37             45             42   \n",
       "1                NaN            NaN            NaN            NaN   \n",
       "2                 62             50             52             56   \n",
       "3                 49             29             30             40   \n",
       "4                 48             46             47             42   \n",
       "...              ...            ...            ...            ...   \n",
       "18165             34             30             32             32   \n",
       "18166             44             35             26             37   \n",
       "18167             33             31             25             28   \n",
       "18168             38             32             38             37   \n",
       "18169             44             42             32             35   \n",
       "\n",
       "      MonitorValue06  ... MonitorValue14 MonitorValue15 MonitorValue16  \\\n",
       "0                 31  ...             70             80             77   \n",
       "1                NaN  ...             79             76             70   \n",
       "2                 60  ...             58             63             70   \n",
       "3                 35  ...             70             70             70   \n",
       "4                 46  ...             70             79             76   \n",
       "...              ...  ...            ...            ...            ...   \n",
       "18165             34  ...             26             30             33   \n",
       "18166             35  ...             35             34             30   \n",
       "18167             32  ...             35             38             34   \n",
       "18168             34  ...             35             35             39   \n",
       "18169             35  ...             37             37             38   \n",
       "\n",
       "      MonitorValue17 MonitorValue18 MonitorValue19 MonitorValue20  \\\n",
       "0                 71             59             60             58   \n",
       "1                 61             48             40             38   \n",
       "2                 72             71             68             59   \n",
       "3                 70             57             49             49   \n",
       "4                 66             62             57             57   \n",
       "...              ...            ...            ...            ...   \n",
       "18165             34             36             33             28   \n",
       "18166             32             31             32             25   \n",
       "18167             32             30             26             28   \n",
       "18168             34             35             36             32   \n",
       "18169             35             34             34             33   \n",
       "\n",
       "      MonitorValue21 MonitorValue22 MonitorValue23  \n",
       "0                 60             58             47  \n",
       "1                 34             33             34  \n",
       "2                 52             50             48  \n",
       "3                 49             36             42  \n",
       "4                 50             45             39  \n",
       "...              ...            ...            ...  \n",
       "18165             25             22             20  \n",
       "18166             24             22             22  \n",
       "18167             23             23             24  \n",
       "18168             22             27             22  \n",
       "18169             31             29             31  \n",
       "\n",
       "[18170 rows x 27 columns]"
      ]
     },
     "execution_count": 3,
     "metadata": {},
     "output_type": "execute_result"
    }
   ],
   "source": [
    "dfall"
   ]
  },
  {
   "cell_type": "code",
   "execution_count": 4,
   "metadata": {},
   "outputs": [],
   "source": [
    "#把MonitorValue轉成float\n",
    "for i in range(3,len(dfall.columns)):\n",
    "   dfall.iloc[:,i] = pd.to_numeric(dfall.iloc[:,i], errors='coerce')\n",
    "\n",
    "#把MonitorDate轉成日期型態\n",
    "dfall['MonitorDate'] = pd.to_datetime(dfall['MonitorDate'], errors='coerce')"
   ]
  },
  {
   "cell_type": "code",
   "execution_count": 5,
   "metadata": {},
   "outputs": [
    {
     "name": "stdout",
     "output_type": "stream",
     "text": [
      "<class 'pandas.core.frame.DataFrame'>\n",
      "RangeIndex: 18170 entries, 0 to 18169\n",
      "Data columns (total 27 columns):\n",
      " #   Column          Non-Null Count  Dtype         \n",
      "---  ------          --------------  -----         \n",
      " 0   SiteName        18170 non-null  object        \n",
      " 1   ItemName        18170 non-null  object        \n",
      " 2   MonitorDate     18170 non-null  datetime64[ns]\n",
      " 3   MonitorValue00  17709 non-null  float64       \n",
      " 4   MonitorValue01  17674 non-null  float64       \n",
      " 5   MonitorValue02  17656 non-null  float64       \n",
      " 6   MonitorValue03  17618 non-null  float64       \n",
      " 7   MonitorValue04  17584 non-null  float64       \n",
      " 8   MonitorValue05  17586 non-null  float64       \n",
      " 9   MonitorValue06  17575 non-null  float64       \n",
      " 10  MonitorValue07  17604 non-null  float64       \n",
      " 11  MonitorValue08  17643 non-null  float64       \n",
      " 12  MonitorValue09  17595 non-null  float64       \n",
      " 13  MonitorValue10  16918 non-null  float64       \n",
      " 14  MonitorValue11  17108 non-null  float64       \n",
      " 15  MonitorValue12  17399 non-null  float64       \n",
      " 16  MonitorValue13  17299 non-null  float64       \n",
      " 17  MonitorValue14  16926 non-null  float64       \n",
      " 18  MonitorValue15  17129 non-null  float64       \n",
      " 19  MonitorValue16  17498 non-null  float64       \n",
      " 20  MonitorValue17  17710 non-null  float64       \n",
      " 21  MonitorValue18  17753 non-null  float64       \n",
      " 22  MonitorValue19  17771 non-null  float64       \n",
      " 23  MonitorValue20  17779 non-null  float64       \n",
      " 24  MonitorValue21  17760 non-null  float64       \n",
      " 25  MonitorValue22  17765 non-null  float64       \n",
      " 26  MonitorValue23  17745 non-null  float64       \n",
      "dtypes: datetime64[ns](1), float64(24), object(2)\n",
      "memory usage: 3.7+ MB\n"
     ]
    }
   ],
   "source": [
    "dfall.info()"
   ]
  },
  {
   "cell_type": "code",
   "execution_count": 6,
   "metadata": {},
   "outputs": [
    {
     "data": {
      "text/html": [
       "<div>\n",
       "<style scoped>\n",
       "    .dataframe tbody tr th:only-of-type {\n",
       "        vertical-align: middle;\n",
       "    }\n",
       "\n",
       "    .dataframe tbody tr th {\n",
       "        vertical-align: top;\n",
       "    }\n",
       "\n",
       "    .dataframe thead th {\n",
       "        text-align: right;\n",
       "    }\n",
       "</style>\n",
       "<table border=\"1\" class=\"dataframe\">\n",
       "  <thead>\n",
       "    <tr style=\"text-align: right;\">\n",
       "      <th></th>\n",
       "      <th>SiteName</th>\n",
       "      <th>ItemName</th>\n",
       "      <th>MonitorDate</th>\n",
       "      <th>MonitorValue00</th>\n",
       "      <th>MonitorValue01</th>\n",
       "      <th>MonitorValue02</th>\n",
       "      <th>MonitorValue03</th>\n",
       "      <th>MonitorValue04</th>\n",
       "      <th>MonitorValue05</th>\n",
       "      <th>MonitorValue06</th>\n",
       "      <th>...</th>\n",
       "      <th>MonitorValue15</th>\n",
       "      <th>MonitorValue16</th>\n",
       "      <th>MonitorValue17</th>\n",
       "      <th>MonitorValue18</th>\n",
       "      <th>MonitorValue19</th>\n",
       "      <th>MonitorValue20</th>\n",
       "      <th>MonitorValue21</th>\n",
       "      <th>MonitorValue22</th>\n",
       "      <th>MonitorValue23</th>\n",
       "      <th>24Hmean</th>\n",
       "    </tr>\n",
       "  </thead>\n",
       "  <tbody>\n",
       "    <tr>\n",
       "      <th>0</th>\n",
       "      <td>豐原</td>\n",
       "      <td>懸浮微粒</td>\n",
       "      <td>2011-01-01</td>\n",
       "      <td>45.0</td>\n",
       "      <td>48.0</td>\n",
       "      <td>40.0</td>\n",
       "      <td>37.0</td>\n",
       "      <td>45.0</td>\n",
       "      <td>42.0</td>\n",
       "      <td>31.0</td>\n",
       "      <td>...</td>\n",
       "      <td>80.0</td>\n",
       "      <td>77.0</td>\n",
       "      <td>71.0</td>\n",
       "      <td>59.0</td>\n",
       "      <td>60.0</td>\n",
       "      <td>58.0</td>\n",
       "      <td>60.0</td>\n",
       "      <td>58.0</td>\n",
       "      <td>47.0</td>\n",
       "      <td>52.17</td>\n",
       "    </tr>\n",
       "    <tr>\n",
       "      <th>1</th>\n",
       "      <td>沙鹿</td>\n",
       "      <td>懸浮微粒</td>\n",
       "      <td>2011-01-01</td>\n",
       "      <td>NaN</td>\n",
       "      <td>NaN</td>\n",
       "      <td>NaN</td>\n",
       "      <td>NaN</td>\n",
       "      <td>NaN</td>\n",
       "      <td>NaN</td>\n",
       "      <td>NaN</td>\n",
       "      <td>...</td>\n",
       "      <td>76.0</td>\n",
       "      <td>70.0</td>\n",
       "      <td>61.0</td>\n",
       "      <td>48.0</td>\n",
       "      <td>40.0</td>\n",
       "      <td>38.0</td>\n",
       "      <td>34.0</td>\n",
       "      <td>33.0</td>\n",
       "      <td>34.0</td>\n",
       "      <td>53.00</td>\n",
       "    </tr>\n",
       "    <tr>\n",
       "      <th>2</th>\n",
       "      <td>大里</td>\n",
       "      <td>懸浮微粒</td>\n",
       "      <td>2011-01-01</td>\n",
       "      <td>87.0</td>\n",
       "      <td>78.0</td>\n",
       "      <td>62.0</td>\n",
       "      <td>50.0</td>\n",
       "      <td>52.0</td>\n",
       "      <td>56.0</td>\n",
       "      <td>60.0</td>\n",
       "      <td>...</td>\n",
       "      <td>63.0</td>\n",
       "      <td>70.0</td>\n",
       "      <td>72.0</td>\n",
       "      <td>71.0</td>\n",
       "      <td>68.0</td>\n",
       "      <td>59.0</td>\n",
       "      <td>52.0</td>\n",
       "      <td>50.0</td>\n",
       "      <td>48.0</td>\n",
       "      <td>60.42</td>\n",
       "    </tr>\n",
       "    <tr>\n",
       "      <th>3</th>\n",
       "      <td>忠明</td>\n",
       "      <td>懸浮微粒</td>\n",
       "      <td>2011-01-01</td>\n",
       "      <td>37.0</td>\n",
       "      <td>41.0</td>\n",
       "      <td>49.0</td>\n",
       "      <td>29.0</td>\n",
       "      <td>30.0</td>\n",
       "      <td>40.0</td>\n",
       "      <td>35.0</td>\n",
       "      <td>...</td>\n",
       "      <td>70.0</td>\n",
       "      <td>70.0</td>\n",
       "      <td>70.0</td>\n",
       "      <td>57.0</td>\n",
       "      <td>49.0</td>\n",
       "      <td>49.0</td>\n",
       "      <td>49.0</td>\n",
       "      <td>36.0</td>\n",
       "      <td>42.0</td>\n",
       "      <td>47.17</td>\n",
       "    </tr>\n",
       "    <tr>\n",
       "      <th>4</th>\n",
       "      <td>西屯</td>\n",
       "      <td>懸浮微粒</td>\n",
       "      <td>2011-01-01</td>\n",
       "      <td>48.0</td>\n",
       "      <td>48.0</td>\n",
       "      <td>48.0</td>\n",
       "      <td>46.0</td>\n",
       "      <td>47.0</td>\n",
       "      <td>42.0</td>\n",
       "      <td>46.0</td>\n",
       "      <td>...</td>\n",
       "      <td>79.0</td>\n",
       "      <td>76.0</td>\n",
       "      <td>66.0</td>\n",
       "      <td>62.0</td>\n",
       "      <td>57.0</td>\n",
       "      <td>57.0</td>\n",
       "      <td>50.0</td>\n",
       "      <td>45.0</td>\n",
       "      <td>39.0</td>\n",
       "      <td>53.96</td>\n",
       "    </tr>\n",
       "  </tbody>\n",
       "</table>\n",
       "<p>5 rows × 28 columns</p>\n",
       "</div>"
      ],
      "text/plain": [
       "  SiteName ItemName MonitorDate  MonitorValue00  MonitorValue01  \\\n",
       "0       豐原     懸浮微粒  2011-01-01            45.0            48.0   \n",
       "1       沙鹿     懸浮微粒  2011-01-01             NaN             NaN   \n",
       "2       大里     懸浮微粒  2011-01-01            87.0            78.0   \n",
       "3       忠明     懸浮微粒  2011-01-01            37.0            41.0   \n",
       "4       西屯     懸浮微粒  2011-01-01            48.0            48.0   \n",
       "\n",
       "   MonitorValue02  MonitorValue03  MonitorValue04  MonitorValue05  \\\n",
       "0            40.0            37.0            45.0            42.0   \n",
       "1             NaN             NaN             NaN             NaN   \n",
       "2            62.0            50.0            52.0            56.0   \n",
       "3            49.0            29.0            30.0            40.0   \n",
       "4            48.0            46.0            47.0            42.0   \n",
       "\n",
       "   MonitorValue06  ...  MonitorValue15  MonitorValue16  MonitorValue17  \\\n",
       "0            31.0  ...            80.0            77.0            71.0   \n",
       "1             NaN  ...            76.0            70.0            61.0   \n",
       "2            60.0  ...            63.0            70.0            72.0   \n",
       "3            35.0  ...            70.0            70.0            70.0   \n",
       "4            46.0  ...            79.0            76.0            66.0   \n",
       "\n",
       "   MonitorValue18  MonitorValue19  MonitorValue20  MonitorValue21  \\\n",
       "0            59.0            60.0            58.0            60.0   \n",
       "1            48.0            40.0            38.0            34.0   \n",
       "2            71.0            68.0            59.0            52.0   \n",
       "3            57.0            49.0            49.0            49.0   \n",
       "4            62.0            57.0            57.0            50.0   \n",
       "\n",
       "   MonitorValue22  MonitorValue23  24Hmean  \n",
       "0            58.0            47.0    52.17  \n",
       "1            33.0            34.0    53.00  \n",
       "2            50.0            48.0    60.42  \n",
       "3            36.0            42.0    47.17  \n",
       "4            45.0            39.0    53.96  \n",
       "\n",
       "[5 rows x 28 columns]"
      ]
     },
     "execution_count": 6,
     "metadata": {},
     "output_type": "execute_result"
    }
   ],
   "source": [
    "#創建24小時平均的column，命名為24Hmean\n",
    "dfall['24Hmean'] = dfall.iloc[:,3:].mean(axis=1).round(2)\n",
    "dfall.head()"
   ]
  },
  {
   "cell_type": "markdown",
   "metadata": {},
   "source": [
    "# 日平均"
   ]
  },
  {
   "cell_type": "code",
   "execution_count": 7,
   "metadata": {},
   "outputs": [
    {
     "data": {
      "text/html": [
       "<div>\n",
       "<style scoped>\n",
       "    .dataframe tbody tr th:only-of-type {\n",
       "        vertical-align: middle;\n",
       "    }\n",
       "\n",
       "    .dataframe tbody tr th {\n",
       "        vertical-align: top;\n",
       "    }\n",
       "\n",
       "    .dataframe thead th {\n",
       "        text-align: right;\n",
       "    }\n",
       "</style>\n",
       "<table border=\"1\" class=\"dataframe\">\n",
       "  <thead>\n",
       "    <tr style=\"text-align: right;\">\n",
       "      <th>SiteName</th>\n",
       "      <th>MonitorValue</th>\n",
       "      <th>大里</th>\n",
       "      <th>忠明</th>\n",
       "      <th>沙鹿</th>\n",
       "      <th>西屯</th>\n",
       "      <th>豐原</th>\n",
       "      <th>台中</th>\n",
       "    </tr>\n",
       "  </thead>\n",
       "  <tbody>\n",
       "    <tr>\n",
       "      <th>0</th>\n",
       "      <td>MonitorValue00</td>\n",
       "      <td>48.541410</td>\n",
       "      <td>40.643593</td>\n",
       "      <td>41.691025</td>\n",
       "      <td>46.032581</td>\n",
       "      <td>35.986083</td>\n",
       "      <td>42.578939</td>\n",
       "    </tr>\n",
       "    <tr>\n",
       "      <th>1</th>\n",
       "      <td>MonitorValue01</td>\n",
       "      <td>46.549818</td>\n",
       "      <td>39.339639</td>\n",
       "      <td>41.708878</td>\n",
       "      <td>45.300223</td>\n",
       "      <td>35.018578</td>\n",
       "      <td>41.583427</td>\n",
       "    </tr>\n",
       "    <tr>\n",
       "      <th>2</th>\n",
       "      <td>MonitorValue02</td>\n",
       "      <td>44.440697</td>\n",
       "      <td>38.142898</td>\n",
       "      <td>41.274652</td>\n",
       "      <td>44.353812</td>\n",
       "      <td>34.158597</td>\n",
       "      <td>40.474131</td>\n",
       "    </tr>\n",
       "    <tr>\n",
       "      <th>3</th>\n",
       "      <td>MonitorValue03</td>\n",
       "      <td>42.795371</td>\n",
       "      <td>36.840380</td>\n",
       "      <td>40.878484</td>\n",
       "      <td>43.350000</td>\n",
       "      <td>33.514577</td>\n",
       "      <td>39.475762</td>\n",
       "    </tr>\n",
       "    <tr>\n",
       "      <th>4</th>\n",
       "      <td>MonitorValue04</td>\n",
       "      <td>41.357588</td>\n",
       "      <td>36.097371</td>\n",
       "      <td>40.431799</td>\n",
       "      <td>42.686888</td>\n",
       "      <td>32.606882</td>\n",
       "      <td>38.636106</td>\n",
       "    </tr>\n",
       "    <tr>\n",
       "      <th>5</th>\n",
       "      <td>MonitorValue05</td>\n",
       "      <td>40.252617</td>\n",
       "      <td>35.185892</td>\n",
       "      <td>40.528344</td>\n",
       "      <td>42.147133</td>\n",
       "      <td>31.952561</td>\n",
       "      <td>38.013309</td>\n",
       "    </tr>\n",
       "    <tr>\n",
       "      <th>6</th>\n",
       "      <td>MonitorValue06</td>\n",
       "      <td>40.314148</td>\n",
       "      <td>34.904019</td>\n",
       "      <td>41.113250</td>\n",
       "      <td>42.256503</td>\n",
       "      <td>31.857101</td>\n",
       "      <td>38.089004</td>\n",
       "    </tr>\n",
       "    <tr>\n",
       "      <th>7</th>\n",
       "      <td>MonitorValue07</td>\n",
       "      <td>41.533579</td>\n",
       "      <td>35.658516</td>\n",
       "      <td>42.556083</td>\n",
       "      <td>43.211673</td>\n",
       "      <td>33.389633</td>\n",
       "      <td>39.269897</td>\n",
       "    </tr>\n",
       "    <tr>\n",
       "      <th>8</th>\n",
       "      <td>MonitorValue08</td>\n",
       "      <td>44.202553</td>\n",
       "      <td>38.223851</td>\n",
       "      <td>43.420423</td>\n",
       "      <td>45.629351</td>\n",
       "      <td>36.331885</td>\n",
       "      <td>41.561613</td>\n",
       "    </tr>\n",
       "    <tr>\n",
       "      <th>9</th>\n",
       "      <td>MonitorValue09</td>\n",
       "      <td>47.541100</td>\n",
       "      <td>41.042160</td>\n",
       "      <td>44.118370</td>\n",
       "      <td>47.856103</td>\n",
       "      <td>39.714493</td>\n",
       "      <td>44.054445</td>\n",
       "    </tr>\n",
       "    <tr>\n",
       "      <th>10</th>\n",
       "      <td>MonitorValue10</td>\n",
       "      <td>50.450296</td>\n",
       "      <td>42.834330</td>\n",
       "      <td>45.443797</td>\n",
       "      <td>49.095377</td>\n",
       "      <td>42.298705</td>\n",
       "      <td>46.024501</td>\n",
       "    </tr>\n",
       "    <tr>\n",
       "      <th>11</th>\n",
       "      <td>MonitorValue11</td>\n",
       "      <td>52.196818</td>\n",
       "      <td>43.724978</td>\n",
       "      <td>47.576081</td>\n",
       "      <td>49.865757</td>\n",
       "      <td>44.831075</td>\n",
       "      <td>47.638942</td>\n",
       "    </tr>\n",
       "    <tr>\n",
       "      <th>12</th>\n",
       "      <td>MonitorValue12</td>\n",
       "      <td>52.784314</td>\n",
       "      <td>43.952989</td>\n",
       "      <td>47.891709</td>\n",
       "      <td>49.679299</td>\n",
       "      <td>44.973259</td>\n",
       "      <td>47.856314</td>\n",
       "    </tr>\n",
       "    <tr>\n",
       "      <th>13</th>\n",
       "      <td>MonitorValue13</td>\n",
       "      <td>52.682695</td>\n",
       "      <td>43.897398</td>\n",
       "      <td>46.647276</td>\n",
       "      <td>49.873465</td>\n",
       "      <td>46.097041</td>\n",
       "      <td>47.839575</td>\n",
       "    </tr>\n",
       "    <tr>\n",
       "      <th>14</th>\n",
       "      <td>MonitorValue14</td>\n",
       "      <td>52.263962</td>\n",
       "      <td>44.265503</td>\n",
       "      <td>46.035745</td>\n",
       "      <td>49.916837</td>\n",
       "      <td>47.210970</td>\n",
       "      <td>47.938604</td>\n",
       "    </tr>\n",
       "    <tr>\n",
       "      <th>15</th>\n",
       "      <td>MonitorValue15</td>\n",
       "      <td>51.976887</td>\n",
       "      <td>44.282090</td>\n",
       "      <td>46.007401</td>\n",
       "      <td>50.048044</td>\n",
       "      <td>46.822064</td>\n",
       "      <td>47.827297</td>\n",
       "    </tr>\n",
       "    <tr>\n",
       "      <th>16</th>\n",
       "      <td>MonitorValue16</td>\n",
       "      <td>52.557517</td>\n",
       "      <td>44.431705</td>\n",
       "      <td>45.658659</td>\n",
       "      <td>50.403558</td>\n",
       "      <td>47.558038</td>\n",
       "      <td>48.121896</td>\n",
       "    </tr>\n",
       "    <tr>\n",
       "      <th>17</th>\n",
       "      <td>MonitorValue17</td>\n",
       "      <td>53.052262</td>\n",
       "      <td>44.240275</td>\n",
       "      <td>45.211549</td>\n",
       "      <td>49.755512</td>\n",
       "      <td>46.682997</td>\n",
       "      <td>47.788519</td>\n",
       "    </tr>\n",
       "    <tr>\n",
       "      <th>18</th>\n",
       "      <td>MonitorValue18</td>\n",
       "      <td>53.453374</td>\n",
       "      <td>43.900400</td>\n",
       "      <td>44.931636</td>\n",
       "      <td>49.315423</td>\n",
       "      <td>46.022747</td>\n",
       "      <td>47.524716</td>\n",
       "    </tr>\n",
       "    <tr>\n",
       "      <th>19</th>\n",
       "      <td>MonitorValue19</td>\n",
       "      <td>53.715363</td>\n",
       "      <td>43.455870</td>\n",
       "      <td>44.561981</td>\n",
       "      <td>49.012792</td>\n",
       "      <td>44.277586</td>\n",
       "      <td>47.004718</td>\n",
       "    </tr>\n",
       "    <tr>\n",
       "      <th>20</th>\n",
       "      <td>MonitorValue20</td>\n",
       "      <td>53.750768</td>\n",
       "      <td>43.032497</td>\n",
       "      <td>43.987006</td>\n",
       "      <td>49.016681</td>\n",
       "      <td>42.125359</td>\n",
       "      <td>46.382462</td>\n",
       "    </tr>\n",
       "    <tr>\n",
       "      <th>21</th>\n",
       "      <td>MonitorValue21</td>\n",
       "      <td>53.501118</td>\n",
       "      <td>42.831050</td>\n",
       "      <td>43.386062</td>\n",
       "      <td>49.001670</td>\n",
       "      <td>40.325648</td>\n",
       "      <td>45.809110</td>\n",
       "    </tr>\n",
       "    <tr>\n",
       "      <th>22</th>\n",
       "      <td>MonitorValue22</td>\n",
       "      <td>52.407770</td>\n",
       "      <td>42.645124</td>\n",
       "      <td>42.931082</td>\n",
       "      <td>48.250000</td>\n",
       "      <td>38.343112</td>\n",
       "      <td>44.915418</td>\n",
       "    </tr>\n",
       "    <tr>\n",
       "      <th>23</th>\n",
       "      <td>MonitorValue23</td>\n",
       "      <td>50.808671</td>\n",
       "      <td>41.823361</td>\n",
       "      <td>42.361096</td>\n",
       "      <td>47.513754</td>\n",
       "      <td>37.087182</td>\n",
       "      <td>43.918813</td>\n",
       "    </tr>\n",
       "  </tbody>\n",
       "</table>\n",
       "</div>"
      ],
      "text/plain": [
       "SiteName    MonitorValue         大里         忠明         沙鹿         西屯  \\\n",
       "0         MonitorValue00  48.541410  40.643593  41.691025  46.032581   \n",
       "1         MonitorValue01  46.549818  39.339639  41.708878  45.300223   \n",
       "2         MonitorValue02  44.440697  38.142898  41.274652  44.353812   \n",
       "3         MonitorValue03  42.795371  36.840380  40.878484  43.350000   \n",
       "4         MonitorValue04  41.357588  36.097371  40.431799  42.686888   \n",
       "5         MonitorValue05  40.252617  35.185892  40.528344  42.147133   \n",
       "6         MonitorValue06  40.314148  34.904019  41.113250  42.256503   \n",
       "7         MonitorValue07  41.533579  35.658516  42.556083  43.211673   \n",
       "8         MonitorValue08  44.202553  38.223851  43.420423  45.629351   \n",
       "9         MonitorValue09  47.541100  41.042160  44.118370  47.856103   \n",
       "10        MonitorValue10  50.450296  42.834330  45.443797  49.095377   \n",
       "11        MonitorValue11  52.196818  43.724978  47.576081  49.865757   \n",
       "12        MonitorValue12  52.784314  43.952989  47.891709  49.679299   \n",
       "13        MonitorValue13  52.682695  43.897398  46.647276  49.873465   \n",
       "14        MonitorValue14  52.263962  44.265503  46.035745  49.916837   \n",
       "15        MonitorValue15  51.976887  44.282090  46.007401  50.048044   \n",
       "16        MonitorValue16  52.557517  44.431705  45.658659  50.403558   \n",
       "17        MonitorValue17  53.052262  44.240275  45.211549  49.755512   \n",
       "18        MonitorValue18  53.453374  43.900400  44.931636  49.315423   \n",
       "19        MonitorValue19  53.715363  43.455870  44.561981  49.012792   \n",
       "20        MonitorValue20  53.750768  43.032497  43.987006  49.016681   \n",
       "21        MonitorValue21  53.501118  42.831050  43.386062  49.001670   \n",
       "22        MonitorValue22  52.407770  42.645124  42.931082  48.250000   \n",
       "23        MonitorValue23  50.808671  41.823361  42.361096  47.513754   \n",
       "\n",
       "SiteName         豐原         台中  \n",
       "0         35.986083  42.578939  \n",
       "1         35.018578  41.583427  \n",
       "2         34.158597  40.474131  \n",
       "3         33.514577  39.475762  \n",
       "4         32.606882  38.636106  \n",
       "5         31.952561  38.013309  \n",
       "6         31.857101  38.089004  \n",
       "7         33.389633  39.269897  \n",
       "8         36.331885  41.561613  \n",
       "9         39.714493  44.054445  \n",
       "10        42.298705  46.024501  \n",
       "11        44.831075  47.638942  \n",
       "12        44.973259  47.856314  \n",
       "13        46.097041  47.839575  \n",
       "14        47.210970  47.938604  \n",
       "15        46.822064  47.827297  \n",
       "16        47.558038  48.121896  \n",
       "17        46.682997  47.788519  \n",
       "18        46.022747  47.524716  \n",
       "19        44.277586  47.004718  \n",
       "20        42.125359  46.382462  \n",
       "21        40.325648  45.809110  \n",
       "22        38.343112  44.915418  \n",
       "23        37.087182  43.918813  "
      ]
     },
     "execution_count": 7,
     "metadata": {},
     "output_type": "execute_result"
    }
   ],
   "source": [
    "#進行資料篩選跟平均值運算，得到各區域每小時平均\n",
    "#再創建台中全區的資料\n",
    "df_day_dist_mean = dfall.drop(columns = '24Hmean').groupby('SiteName').mean().T\n",
    "df_day_dist_mean.reset_index(inplace=True)\n",
    "df_day_dist_mean.rename(columns={'index':'MonitorValue'}, inplace=True)\n",
    "df_day_dist_mean['台中'] = df_day_dist_mean.iloc[:,1:6].mean(axis=1)\n",
    "df_day_dist_mean"
   ]
  },
  {
   "cell_type": "code",
   "execution_count": 8,
   "metadata": {},
   "outputs": [],
   "source": [
    "#把MonitorValue00~24變成00~24\n",
    "for i in range(24):\n",
    "    df_day_dist_mean.iloc[i,0]=df_day_dist_mean.iloc[i,0][-2:]"
   ]
  },
  {
   "cell_type": "code",
   "execution_count": 9,
   "metadata": {},
   "outputs": [
    {
     "data": {
      "application/vnd.plotly.v1+json": {
       "config": {
        "plotlyServerURL": "https://plot.ly"
       },
       "data": [
        {
         "hovertemplate": "區域=大里<br>小時=%{x}<br>平均濃度(μg/m3)=%{y}<extra></extra>",
         "legendgroup": "大里",
         "line": {
          "color": "#636efa",
          "dash": "solid"
         },
         "marker": {
          "symbol": "circle"
         },
         "mode": "markers+lines",
         "name": "大里",
         "orientation": "v",
         "showlegend": true,
         "type": "scatter",
         "x": [
          "00",
          "01",
          "02",
          "03",
          "04",
          "05",
          "06",
          "07",
          "08",
          "09",
          "10",
          "11",
          "12",
          "13",
          "14",
          "15",
          "16",
          "17",
          "18",
          "19",
          "20",
          "21",
          "22",
          "23"
         ],
         "xaxis": "x",
         "y": [
          48.541410184667036,
          46.54981756946393,
          44.440697020798204,
          42.79537115438894,
          41.357587768969424,
          40.25261669024045,
          40.31414800113411,
          41.53357891754038,
          44.202553191489365,
          47.54109977324263,
          50.450295857988166,
          52.19681791396582,
          52.78431372549019,
          52.682695076302906,
          52.26396237507348,
          51.97688706846109,
          52.55751708428246,
          53.05226187131217,
          53.45337440492859,
          53.71536312849162,
          53.75076837105337,
          53.501117942984905,
          52.40776970374511,
          50.80867132867133
         ],
         "yaxis": "y"
        },
        {
         "hovertemplate": "區域=忠明<br>小時=%{x}<br>平均濃度(μg/m3)=%{y}<extra></extra>",
         "legendgroup": "忠明",
         "line": {
          "color": "#EF553B",
          "dash": "solid"
         },
         "marker": {
          "symbol": "circle"
         },
         "mode": "markers+lines",
         "name": "忠明",
         "orientation": "v",
         "showlegend": true,
         "type": "scatter",
         "x": [
          "00",
          "01",
          "02",
          "03",
          "04",
          "05",
          "06",
          "07",
          "08",
          "09",
          "10",
          "11",
          "12",
          "13",
          "14",
          "15",
          "16",
          "17",
          "18",
          "19",
          "20",
          "21",
          "22",
          "23"
         ],
         "xaxis": "x",
         "y": [
          40.64359267734554,
          39.3396388650043,
          38.1428982173663,
          36.84037963761864,
          36.09737070210922,
          35.18589187626482,
          34.904018502457355,
          35.65851553509781,
          38.22385057471264,
          41.042159976898645,
          42.83433014354067,
          43.72497798649839,
          43.952988972722,
          43.897398421514175,
          44.26550270921132,
          44.28208955223881,
          44.43170517695233,
          44.24027459954233,
          43.900399543378995,
          43.45586975149957,
          43.032497149372865,
          42.8310502283105,
          42.645124392336285,
          41.823361007729744
         ],
         "yaxis": "y"
        },
        {
         "hovertemplate": "區域=沙鹿<br>小時=%{x}<br>平均濃度(μg/m3)=%{y}<extra></extra>",
         "legendgroup": "沙鹿",
         "line": {
          "color": "#00cc96",
          "dash": "solid"
         },
         "marker": {
          "symbol": "circle"
         },
         "mode": "markers+lines",
         "name": "沙鹿",
         "orientation": "v",
         "showlegend": true,
         "type": "scatter",
         "x": [
          "00",
          "01",
          "02",
          "03",
          "04",
          "05",
          "06",
          "07",
          "08",
          "09",
          "10",
          "11",
          "12",
          "13",
          "14",
          "15",
          "16",
          "17",
          "18",
          "19",
          "20",
          "21",
          "22",
          "23"
         ],
         "xaxis": "x",
         "y": [
          41.691025284801334,
          41.70887837461731,
          41.274651810584956,
          40.878483835005575,
          40.43179916317992,
          40.528344037978215,
          41.11324965132496,
          42.556082589285715,
          43.420422927100724,
          44.11836962590731,
          45.44379732090856,
          47.57608069164265,
          47.8917089678511,
          46.64727582292849,
          46.03574517151917,
          46.00740108169656,
          45.658659217877094,
          45.211549139367015,
          44.93163575975643,
          44.56198118428334,
          43.9870058059165,
          43.38606194690266,
          42.93108220315527,
          42.36109573879358
         ],
         "yaxis": "y"
        },
        {
         "hovertemplate": "區域=西屯<br>小時=%{x}<br>平均濃度(μg/m3)=%{y}<extra></extra>",
         "legendgroup": "西屯",
         "line": {
          "color": "#ab63fa",
          "dash": "solid"
         },
         "marker": {
          "symbol": "circle"
         },
         "mode": "markers+lines",
         "name": "西屯",
         "orientation": "v",
         "showlegend": true,
         "type": "scatter",
         "x": [
          "00",
          "01",
          "02",
          "03",
          "04",
          "05",
          "06",
          "07",
          "08",
          "09",
          "10",
          "11",
          "12",
          "13",
          "14",
          "15",
          "16",
          "17",
          "18",
          "19",
          "20",
          "21",
          "22",
          "23"
         ],
         "xaxis": "x",
         "y": [
          46.03258145363409,
          45.300223214285715,
          44.35381178441776,
          43.35,
          42.68688845401174,
          42.14713286713287,
          42.2565034965035,
          43.21167271711813,
          45.629351155666946,
          47.85610302351624,
          49.09537656295435,
          49.86575654152446,
          49.67929864253394,
          49.87346472436447,
          49.91683748169839,
          50.04804372842347,
          50.403558316859645,
          49.75551214066425,
          49.31542316258352,
          49.012791991101224,
          49.01668056713928,
          49.00167037861915,
          48.25,
          47.5137538205057
         ],
         "yaxis": "y"
        },
        {
         "hovertemplate": "區域=豐原<br>小時=%{x}<br>平均濃度(μg/m3)=%{y}<extra></extra>",
         "legendgroup": "豐原",
         "line": {
          "color": "#FFA15A",
          "dash": "solid"
         },
         "marker": {
          "symbol": "circle"
         },
         "mode": "markers+lines",
         "name": "豐原",
         "orientation": "v",
         "showlegend": true,
         "type": "scatter",
         "x": [
          "00",
          "01",
          "02",
          "03",
          "04",
          "05",
          "06",
          "07",
          "08",
          "09",
          "10",
          "11",
          "12",
          "13",
          "14",
          "15",
          "16",
          "17",
          "18",
          "19",
          "20",
          "21",
          "22",
          "23"
         ],
         "xaxis": "x",
         "y": [
          35.986082922586256,
          35.018577648766325,
          34.15859669469411,
          33.51457725947522,
          32.60688247302421,
          31.95256111757858,
          31.857101195683875,
          33.38963308095516,
          36.33188531711555,
          39.71449275362319,
          42.29870520927432,
          44.83107497741644,
          44.9732588892154,
          46.097041420118344,
          47.21097046413502,
          46.8220640569395,
          47.558038305281485,
          46.68299711815562,
          46.02274690469335,
          44.27758620689655,
          42.125359401955144,
          40.325648414985594,
          38.343111878055794,
          37.08718244803695
         ],
         "yaxis": "y"
        },
        {
         "hovertemplate": "區域=台中<br>小時=%{x}<br>平均濃度(μg/m3)=%{y}<extra></extra>",
         "legendgroup": "台中",
         "line": {
          "color": "#19d3f3",
          "dash": "solid"
         },
         "marker": {
          "symbol": "circle"
         },
         "mode": "markers+lines",
         "name": "台中",
         "orientation": "v",
         "showlegend": true,
         "type": "scatter",
         "x": [
          "00",
          "01",
          "02",
          "03",
          "04",
          "05",
          "06",
          "07",
          "08",
          "09",
          "10",
          "11",
          "12",
          "13",
          "14",
          "15",
          "16",
          "17",
          "18",
          "19",
          "20",
          "21",
          "22",
          "23"
         ],
         "xaxis": "x",
         "y": [
          42.57893850460685,
          41.58342713442752,
          40.47413110557227,
          39.47576237729767,
          38.636105712258896,
          38.01330931783899,
          38.08900416942076,
          39.26989656799944,
          41.561612633217045,
          44.0544450306376,
          46.02450101893321,
          47.63894162220956,
          47.85631383956253,
          47.839575093045674,
          47.93860364032747,
          47.827297097551885,
          48.121895620250605,
          47.78851897380828,
          47.524715955068174,
          47.00471845245446,
          46.38246225908743,
          45.809109782360565,
          44.91541763545849,
          43.91881286874746
         ],
         "yaxis": "y"
        }
       ],
       "layout": {
        "autosize": true,
        "legend": {
         "title": {
          "text": "區域"
         },
         "tracegroupgap": 0
        },
        "margin": {
         "t": 60
        },
        "shapes": [
         {
          "line": {
           "color": "green",
           "dash": "dot",
           "width": 3
          },
          "type": "line",
          "x0": 0,
          "x1": 1,
          "xref": "paper",
          "y0": 35,
          "y1": 35,
          "yref": "y"
         },
         {
          "line": {
           "color": "red",
           "dash": "dot",
           "width": 3
          },
          "type": "line",
          "x0": 0,
          "x1": 1,
          "xref": "paper",
          "y0": 53,
          "y1": 53,
          "yref": "y"
         }
        ],
        "template": {
         "data": {
          "bar": [
           {
            "error_x": {
             "color": "#2a3f5f"
            },
            "error_y": {
             "color": "#2a3f5f"
            },
            "marker": {
             "line": {
              "color": "#E5ECF6",
              "width": 0.5
             },
             "pattern": {
              "fillmode": "overlay",
              "size": 10,
              "solidity": 0.2
             }
            },
            "type": "bar"
           }
          ],
          "barpolar": [
           {
            "marker": {
             "line": {
              "color": "#E5ECF6",
              "width": 0.5
             },
             "pattern": {
              "fillmode": "overlay",
              "size": 10,
              "solidity": 0.2
             }
            },
            "type": "barpolar"
           }
          ],
          "carpet": [
           {
            "aaxis": {
             "endlinecolor": "#2a3f5f",
             "gridcolor": "white",
             "linecolor": "white",
             "minorgridcolor": "white",
             "startlinecolor": "#2a3f5f"
            },
            "baxis": {
             "endlinecolor": "#2a3f5f",
             "gridcolor": "white",
             "linecolor": "white",
             "minorgridcolor": "white",
             "startlinecolor": "#2a3f5f"
            },
            "type": "carpet"
           }
          ],
          "choropleth": [
           {
            "colorbar": {
             "outlinewidth": 0,
             "ticks": ""
            },
            "type": "choropleth"
           }
          ],
          "contour": [
           {
            "colorbar": {
             "outlinewidth": 0,
             "ticks": ""
            },
            "colorscale": [
             [
              0,
              "#0d0887"
             ],
             [
              0.1111111111111111,
              "#46039f"
             ],
             [
              0.2222222222222222,
              "#7201a8"
             ],
             [
              0.3333333333333333,
              "#9c179e"
             ],
             [
              0.4444444444444444,
              "#bd3786"
             ],
             [
              0.5555555555555556,
              "#d8576b"
             ],
             [
              0.6666666666666666,
              "#ed7953"
             ],
             [
              0.7777777777777778,
              "#fb9f3a"
             ],
             [
              0.8888888888888888,
              "#fdca26"
             ],
             [
              1,
              "#f0f921"
             ]
            ],
            "type": "contour"
           }
          ],
          "contourcarpet": [
           {
            "colorbar": {
             "outlinewidth": 0,
             "ticks": ""
            },
            "type": "contourcarpet"
           }
          ],
          "heatmap": [
           {
            "colorbar": {
             "outlinewidth": 0,
             "ticks": ""
            },
            "colorscale": [
             [
              0,
              "#0d0887"
             ],
             [
              0.1111111111111111,
              "#46039f"
             ],
             [
              0.2222222222222222,
              "#7201a8"
             ],
             [
              0.3333333333333333,
              "#9c179e"
             ],
             [
              0.4444444444444444,
              "#bd3786"
             ],
             [
              0.5555555555555556,
              "#d8576b"
             ],
             [
              0.6666666666666666,
              "#ed7953"
             ],
             [
              0.7777777777777778,
              "#fb9f3a"
             ],
             [
              0.8888888888888888,
              "#fdca26"
             ],
             [
              1,
              "#f0f921"
             ]
            ],
            "type": "heatmap"
           }
          ],
          "heatmapgl": [
           {
            "colorbar": {
             "outlinewidth": 0,
             "ticks": ""
            },
            "colorscale": [
             [
              0,
              "#0d0887"
             ],
             [
              0.1111111111111111,
              "#46039f"
             ],
             [
              0.2222222222222222,
              "#7201a8"
             ],
             [
              0.3333333333333333,
              "#9c179e"
             ],
             [
              0.4444444444444444,
              "#bd3786"
             ],
             [
              0.5555555555555556,
              "#d8576b"
             ],
             [
              0.6666666666666666,
              "#ed7953"
             ],
             [
              0.7777777777777778,
              "#fb9f3a"
             ],
             [
              0.8888888888888888,
              "#fdca26"
             ],
             [
              1,
              "#f0f921"
             ]
            ],
            "type": "heatmapgl"
           }
          ],
          "histogram": [
           {
            "marker": {
             "pattern": {
              "fillmode": "overlay",
              "size": 10,
              "solidity": 0.2
             }
            },
            "type": "histogram"
           }
          ],
          "histogram2d": [
           {
            "colorbar": {
             "outlinewidth": 0,
             "ticks": ""
            },
            "colorscale": [
             [
              0,
              "#0d0887"
             ],
             [
              0.1111111111111111,
              "#46039f"
             ],
             [
              0.2222222222222222,
              "#7201a8"
             ],
             [
              0.3333333333333333,
              "#9c179e"
             ],
             [
              0.4444444444444444,
              "#bd3786"
             ],
             [
              0.5555555555555556,
              "#d8576b"
             ],
             [
              0.6666666666666666,
              "#ed7953"
             ],
             [
              0.7777777777777778,
              "#fb9f3a"
             ],
             [
              0.8888888888888888,
              "#fdca26"
             ],
             [
              1,
              "#f0f921"
             ]
            ],
            "type": "histogram2d"
           }
          ],
          "histogram2dcontour": [
           {
            "colorbar": {
             "outlinewidth": 0,
             "ticks": ""
            },
            "colorscale": [
             [
              0,
              "#0d0887"
             ],
             [
              0.1111111111111111,
              "#46039f"
             ],
             [
              0.2222222222222222,
              "#7201a8"
             ],
             [
              0.3333333333333333,
              "#9c179e"
             ],
             [
              0.4444444444444444,
              "#bd3786"
             ],
             [
              0.5555555555555556,
              "#d8576b"
             ],
             [
              0.6666666666666666,
              "#ed7953"
             ],
             [
              0.7777777777777778,
              "#fb9f3a"
             ],
             [
              0.8888888888888888,
              "#fdca26"
             ],
             [
              1,
              "#f0f921"
             ]
            ],
            "type": "histogram2dcontour"
           }
          ],
          "mesh3d": [
           {
            "colorbar": {
             "outlinewidth": 0,
             "ticks": ""
            },
            "type": "mesh3d"
           }
          ],
          "parcoords": [
           {
            "line": {
             "colorbar": {
              "outlinewidth": 0,
              "ticks": ""
             }
            },
            "type": "parcoords"
           }
          ],
          "pie": [
           {
            "automargin": true,
            "type": "pie"
           }
          ],
          "scatter": [
           {
            "marker": {
             "colorbar": {
              "outlinewidth": 0,
              "ticks": ""
             }
            },
            "type": "scatter"
           }
          ],
          "scatter3d": [
           {
            "line": {
             "colorbar": {
              "outlinewidth": 0,
              "ticks": ""
             }
            },
            "marker": {
             "colorbar": {
              "outlinewidth": 0,
              "ticks": ""
             }
            },
            "type": "scatter3d"
           }
          ],
          "scattercarpet": [
           {
            "marker": {
             "colorbar": {
              "outlinewidth": 0,
              "ticks": ""
             }
            },
            "type": "scattercarpet"
           }
          ],
          "scattergeo": [
           {
            "marker": {
             "colorbar": {
              "outlinewidth": 0,
              "ticks": ""
             }
            },
            "type": "scattergeo"
           }
          ],
          "scattergl": [
           {
            "marker": {
             "colorbar": {
              "outlinewidth": 0,
              "ticks": ""
             }
            },
            "type": "scattergl"
           }
          ],
          "scattermapbox": [
           {
            "marker": {
             "colorbar": {
              "outlinewidth": 0,
              "ticks": ""
             }
            },
            "type": "scattermapbox"
           }
          ],
          "scatterpolar": [
           {
            "marker": {
             "colorbar": {
              "outlinewidth": 0,
              "ticks": ""
             }
            },
            "type": "scatterpolar"
           }
          ],
          "scatterpolargl": [
           {
            "marker": {
             "colorbar": {
              "outlinewidth": 0,
              "ticks": ""
             }
            },
            "type": "scatterpolargl"
           }
          ],
          "scatterternary": [
           {
            "marker": {
             "colorbar": {
              "outlinewidth": 0,
              "ticks": ""
             }
            },
            "type": "scatterternary"
           }
          ],
          "surface": [
           {
            "colorbar": {
             "outlinewidth": 0,
             "ticks": ""
            },
            "colorscale": [
             [
              0,
              "#0d0887"
             ],
             [
              0.1111111111111111,
              "#46039f"
             ],
             [
              0.2222222222222222,
              "#7201a8"
             ],
             [
              0.3333333333333333,
              "#9c179e"
             ],
             [
              0.4444444444444444,
              "#bd3786"
             ],
             [
              0.5555555555555556,
              "#d8576b"
             ],
             [
              0.6666666666666666,
              "#ed7953"
             ],
             [
              0.7777777777777778,
              "#fb9f3a"
             ],
             [
              0.8888888888888888,
              "#fdca26"
             ],
             [
              1,
              "#f0f921"
             ]
            ],
            "type": "surface"
           }
          ],
          "table": [
           {
            "cells": {
             "fill": {
              "color": "#EBF0F8"
             },
             "line": {
              "color": "white"
             }
            },
            "header": {
             "fill": {
              "color": "#C8D4E3"
             },
             "line": {
              "color": "white"
             }
            },
            "type": "table"
           }
          ]
         },
         "layout": {
          "annotationdefaults": {
           "arrowcolor": "#2a3f5f",
           "arrowhead": 0,
           "arrowwidth": 1
          },
          "autotypenumbers": "strict",
          "coloraxis": {
           "colorbar": {
            "outlinewidth": 0,
            "ticks": ""
           }
          },
          "colorscale": {
           "diverging": [
            [
             0,
             "#8e0152"
            ],
            [
             0.1,
             "#c51b7d"
            ],
            [
             0.2,
             "#de77ae"
            ],
            [
             0.3,
             "#f1b6da"
            ],
            [
             0.4,
             "#fde0ef"
            ],
            [
             0.5,
             "#f7f7f7"
            ],
            [
             0.6,
             "#e6f5d0"
            ],
            [
             0.7,
             "#b8e186"
            ],
            [
             0.8,
             "#7fbc41"
            ],
            [
             0.9,
             "#4d9221"
            ],
            [
             1,
             "#276419"
            ]
           ],
           "sequential": [
            [
             0,
             "#0d0887"
            ],
            [
             0.1111111111111111,
             "#46039f"
            ],
            [
             0.2222222222222222,
             "#7201a8"
            ],
            [
             0.3333333333333333,
             "#9c179e"
            ],
            [
             0.4444444444444444,
             "#bd3786"
            ],
            [
             0.5555555555555556,
             "#d8576b"
            ],
            [
             0.6666666666666666,
             "#ed7953"
            ],
            [
             0.7777777777777778,
             "#fb9f3a"
            ],
            [
             0.8888888888888888,
             "#fdca26"
            ],
            [
             1,
             "#f0f921"
            ]
           ],
           "sequentialminus": [
            [
             0,
             "#0d0887"
            ],
            [
             0.1111111111111111,
             "#46039f"
            ],
            [
             0.2222222222222222,
             "#7201a8"
            ],
            [
             0.3333333333333333,
             "#9c179e"
            ],
            [
             0.4444444444444444,
             "#bd3786"
            ],
            [
             0.5555555555555556,
             "#d8576b"
            ],
            [
             0.6666666666666666,
             "#ed7953"
            ],
            [
             0.7777777777777778,
             "#fb9f3a"
            ],
            [
             0.8888888888888888,
             "#fdca26"
            ],
            [
             1,
             "#f0f921"
            ]
           ]
          },
          "colorway": [
           "#636efa",
           "#EF553B",
           "#00cc96",
           "#ab63fa",
           "#FFA15A",
           "#19d3f3",
           "#FF6692",
           "#B6E880",
           "#FF97FF",
           "#FECB52"
          ],
          "font": {
           "color": "#2a3f5f"
          },
          "geo": {
           "bgcolor": "white",
           "lakecolor": "white",
           "landcolor": "#E5ECF6",
           "showlakes": true,
           "showland": true,
           "subunitcolor": "white"
          },
          "hoverlabel": {
           "align": "left"
          },
          "hovermode": "closest",
          "mapbox": {
           "style": "light"
          },
          "paper_bgcolor": "white",
          "plot_bgcolor": "#E5ECF6",
          "polar": {
           "angularaxis": {
            "gridcolor": "white",
            "linecolor": "white",
            "ticks": ""
           },
           "bgcolor": "#E5ECF6",
           "radialaxis": {
            "gridcolor": "white",
            "linecolor": "white",
            "ticks": ""
           }
          },
          "scene": {
           "xaxis": {
            "backgroundcolor": "#E5ECF6",
            "gridcolor": "white",
            "gridwidth": 2,
            "linecolor": "white",
            "showbackground": true,
            "ticks": "",
            "zerolinecolor": "white"
           },
           "yaxis": {
            "backgroundcolor": "#E5ECF6",
            "gridcolor": "white",
            "gridwidth": 2,
            "linecolor": "white",
            "showbackground": true,
            "ticks": "",
            "zerolinecolor": "white"
           },
           "zaxis": {
            "backgroundcolor": "#E5ECF6",
            "gridcolor": "white",
            "gridwidth": 2,
            "linecolor": "white",
            "showbackground": true,
            "ticks": "",
            "zerolinecolor": "white"
           }
          },
          "shapedefaults": {
           "line": {
            "color": "#2a3f5f"
           }
          },
          "ternary": {
           "aaxis": {
            "gridcolor": "white",
            "linecolor": "white",
            "ticks": ""
           },
           "baxis": {
            "gridcolor": "white",
            "linecolor": "white",
            "ticks": ""
           },
           "bgcolor": "#E5ECF6",
           "caxis": {
            "gridcolor": "white",
            "linecolor": "white",
            "ticks": ""
           }
          },
          "title": {
           "x": 0.05
          },
          "xaxis": {
           "automargin": true,
           "gridcolor": "white",
           "linecolor": "white",
           "ticks": "",
           "title": {
            "standoff": 15
           },
           "zerolinecolor": "white",
           "zerolinewidth": 2
          },
          "yaxis": {
           "automargin": true,
           "gridcolor": "white",
           "linecolor": "white",
           "ticks": "",
           "title": {
            "standoff": 15
           },
           "zerolinecolor": "white",
           "zerolinewidth": 2
          }
         }
        },
        "title": {
         "font": {
          "size": 30
         },
         "text": "台中各測站PM2.5濃度十年日平均值",
         "x": 0.5
        },
        "xaxis": {
         "anchor": "y",
         "domain": [
          0,
          1
         ],
         "range": [
          0,
          23
         ],
         "title": {
          "text": "小時"
         },
         "type": "category"
        },
        "yaxis": {
         "anchor": "x",
         "autorange": true,
         "domain": [
          0,
          1
         ],
         "range": [
          30.30478777717241,
          55.303081789564835
         ],
         "title": {
          "text": "平均濃度(μg/m3)"
         },
         "type": "linear"
        }
       }
      },
      "text/html": [
       "<div>                            <div id=\"8d611485-2bfa-401a-840c-3322c7b861c8\" class=\"plotly-graph-div\" style=\"height:525px; width:100%;\"></div>            <script type=\"text/javascript\">                require([\"plotly\"], function(Plotly) {                    window.PLOTLYENV=window.PLOTLYENV || {};                                    if (document.getElementById(\"8d611485-2bfa-401a-840c-3322c7b861c8\")) {                    Plotly.newPlot(                        \"8d611485-2bfa-401a-840c-3322c7b861c8\",                        [{\"hovertemplate\":\"\\u5340\\u57df=\\u5927\\u91cc<br>\\u5c0f\\u6642=%{x}<br>\\u5e73\\u5747\\u6fc3\\u5ea6(\\u03bcg/m3)=%{y}<extra></extra>\",\"legendgroup\":\"\\u5927\\u91cc\",\"line\":{\"color\":\"#636efa\",\"dash\":\"solid\"},\"marker\":{\"symbol\":\"circle\"},\"mode\":\"markers+lines\",\"name\":\"\\u5927\\u91cc\",\"orientation\":\"v\",\"showlegend\":true,\"type\":\"scatter\",\"x\":[\"00\",\"01\",\"02\",\"03\",\"04\",\"05\",\"06\",\"07\",\"08\",\"09\",\"10\",\"11\",\"12\",\"13\",\"14\",\"15\",\"16\",\"17\",\"18\",\"19\",\"20\",\"21\",\"22\",\"23\"],\"xaxis\":\"x\",\"y\":[48.541410184667036,46.54981756946393,44.440697020798204,42.79537115438894,41.357587768969424,40.25261669024045,40.31414800113411,41.53357891754038,44.202553191489365,47.54109977324263,50.450295857988166,52.19681791396582,52.78431372549019,52.682695076302906,52.26396237507348,51.97688706846109,52.55751708428246,53.05226187131217,53.45337440492859,53.71536312849162,53.75076837105337,53.501117942984905,52.40776970374511,50.80867132867133],\"yaxis\":\"y\"},{\"hovertemplate\":\"\\u5340\\u57df=\\u5fe0\\u660e<br>\\u5c0f\\u6642=%{x}<br>\\u5e73\\u5747\\u6fc3\\u5ea6(\\u03bcg/m3)=%{y}<extra></extra>\",\"legendgroup\":\"\\u5fe0\\u660e\",\"line\":{\"color\":\"#EF553B\",\"dash\":\"solid\"},\"marker\":{\"symbol\":\"circle\"},\"mode\":\"markers+lines\",\"name\":\"\\u5fe0\\u660e\",\"orientation\":\"v\",\"showlegend\":true,\"type\":\"scatter\",\"x\":[\"00\",\"01\",\"02\",\"03\",\"04\",\"05\",\"06\",\"07\",\"08\",\"09\",\"10\",\"11\",\"12\",\"13\",\"14\",\"15\",\"16\",\"17\",\"18\",\"19\",\"20\",\"21\",\"22\",\"23\"],\"xaxis\":\"x\",\"y\":[40.64359267734554,39.3396388650043,38.1428982173663,36.84037963761864,36.09737070210922,35.18589187626482,34.904018502457355,35.65851553509781,38.22385057471264,41.042159976898645,42.83433014354067,43.72497798649839,43.952988972722,43.897398421514175,44.26550270921132,44.28208955223881,44.43170517695233,44.24027459954233,43.900399543378995,43.45586975149957,43.032497149372865,42.8310502283105,42.645124392336285,41.823361007729744],\"yaxis\":\"y\"},{\"hovertemplate\":\"\\u5340\\u57df=\\u6c99\\u9e7f<br>\\u5c0f\\u6642=%{x}<br>\\u5e73\\u5747\\u6fc3\\u5ea6(\\u03bcg/m3)=%{y}<extra></extra>\",\"legendgroup\":\"\\u6c99\\u9e7f\",\"line\":{\"color\":\"#00cc96\",\"dash\":\"solid\"},\"marker\":{\"symbol\":\"circle\"},\"mode\":\"markers+lines\",\"name\":\"\\u6c99\\u9e7f\",\"orientation\":\"v\",\"showlegend\":true,\"type\":\"scatter\",\"x\":[\"00\",\"01\",\"02\",\"03\",\"04\",\"05\",\"06\",\"07\",\"08\",\"09\",\"10\",\"11\",\"12\",\"13\",\"14\",\"15\",\"16\",\"17\",\"18\",\"19\",\"20\",\"21\",\"22\",\"23\"],\"xaxis\":\"x\",\"y\":[41.691025284801334,41.70887837461731,41.274651810584956,40.878483835005575,40.43179916317992,40.528344037978215,41.11324965132496,42.556082589285715,43.420422927100724,44.11836962590731,45.44379732090856,47.57608069164265,47.8917089678511,46.64727582292849,46.03574517151917,46.00740108169656,45.658659217877094,45.211549139367015,44.93163575975643,44.56198118428334,43.9870058059165,43.38606194690266,42.93108220315527,42.36109573879358],\"yaxis\":\"y\"},{\"hovertemplate\":\"\\u5340\\u57df=\\u897f\\u5c6f<br>\\u5c0f\\u6642=%{x}<br>\\u5e73\\u5747\\u6fc3\\u5ea6(\\u03bcg/m3)=%{y}<extra></extra>\",\"legendgroup\":\"\\u897f\\u5c6f\",\"line\":{\"color\":\"#ab63fa\",\"dash\":\"solid\"},\"marker\":{\"symbol\":\"circle\"},\"mode\":\"markers+lines\",\"name\":\"\\u897f\\u5c6f\",\"orientation\":\"v\",\"showlegend\":true,\"type\":\"scatter\",\"x\":[\"00\",\"01\",\"02\",\"03\",\"04\",\"05\",\"06\",\"07\",\"08\",\"09\",\"10\",\"11\",\"12\",\"13\",\"14\",\"15\",\"16\",\"17\",\"18\",\"19\",\"20\",\"21\",\"22\",\"23\"],\"xaxis\":\"x\",\"y\":[46.03258145363409,45.300223214285715,44.35381178441776,43.35,42.68688845401174,42.14713286713287,42.2565034965035,43.21167271711813,45.629351155666946,47.85610302351624,49.09537656295435,49.86575654152446,49.67929864253394,49.87346472436447,49.91683748169839,50.04804372842347,50.403558316859645,49.75551214066425,49.31542316258352,49.012791991101224,49.01668056713928,49.00167037861915,48.25,47.5137538205057],\"yaxis\":\"y\"},{\"hovertemplate\":\"\\u5340\\u57df=\\u8c50\\u539f<br>\\u5c0f\\u6642=%{x}<br>\\u5e73\\u5747\\u6fc3\\u5ea6(\\u03bcg/m3)=%{y}<extra></extra>\",\"legendgroup\":\"\\u8c50\\u539f\",\"line\":{\"color\":\"#FFA15A\",\"dash\":\"solid\"},\"marker\":{\"symbol\":\"circle\"},\"mode\":\"markers+lines\",\"name\":\"\\u8c50\\u539f\",\"orientation\":\"v\",\"showlegend\":true,\"type\":\"scatter\",\"x\":[\"00\",\"01\",\"02\",\"03\",\"04\",\"05\",\"06\",\"07\",\"08\",\"09\",\"10\",\"11\",\"12\",\"13\",\"14\",\"15\",\"16\",\"17\",\"18\",\"19\",\"20\",\"21\",\"22\",\"23\"],\"xaxis\":\"x\",\"y\":[35.986082922586256,35.018577648766325,34.15859669469411,33.51457725947522,32.60688247302421,31.95256111757858,31.857101195683875,33.38963308095516,36.33188531711555,39.71449275362319,42.29870520927432,44.83107497741644,44.9732588892154,46.097041420118344,47.21097046413502,46.8220640569395,47.558038305281485,46.68299711815562,46.02274690469335,44.27758620689655,42.125359401955144,40.325648414985594,38.343111878055794,37.08718244803695],\"yaxis\":\"y\"},{\"hovertemplate\":\"\\u5340\\u57df=\\u53f0\\u4e2d<br>\\u5c0f\\u6642=%{x}<br>\\u5e73\\u5747\\u6fc3\\u5ea6(\\u03bcg/m3)=%{y}<extra></extra>\",\"legendgroup\":\"\\u53f0\\u4e2d\",\"line\":{\"color\":\"#19d3f3\",\"dash\":\"solid\"},\"marker\":{\"symbol\":\"circle\"},\"mode\":\"markers+lines\",\"name\":\"\\u53f0\\u4e2d\",\"orientation\":\"v\",\"showlegend\":true,\"type\":\"scatter\",\"x\":[\"00\",\"01\",\"02\",\"03\",\"04\",\"05\",\"06\",\"07\",\"08\",\"09\",\"10\",\"11\",\"12\",\"13\",\"14\",\"15\",\"16\",\"17\",\"18\",\"19\",\"20\",\"21\",\"22\",\"23\"],\"xaxis\":\"x\",\"y\":[42.57893850460685,41.58342713442752,40.47413110557227,39.47576237729767,38.636105712258896,38.01330931783899,38.08900416942076,39.26989656799944,41.561612633217045,44.0544450306376,46.02450101893321,47.63894162220956,47.85631383956253,47.839575093045674,47.93860364032747,47.827297097551885,48.121895620250605,47.78851897380828,47.524715955068174,47.00471845245446,46.38246225908743,45.809109782360565,44.91541763545849,43.91881286874746],\"yaxis\":\"y\"}],                        {\"legend\":{\"title\":{\"text\":\"\\u5340\\u57df\"},\"tracegroupgap\":0},\"margin\":{\"t\":60},\"shapes\":[{\"line\":{\"color\":\"green\",\"dash\":\"dot\",\"width\":3},\"type\":\"line\",\"x0\":0,\"x1\":1,\"xref\":\"paper\",\"y0\":35,\"y1\":35,\"yref\":\"y\"},{\"line\":{\"color\":\"red\",\"dash\":\"dot\",\"width\":3},\"type\":\"line\",\"x0\":0,\"x1\":1,\"xref\":\"paper\",\"y0\":53,\"y1\":53,\"yref\":\"y\"}],\"template\":{\"data\":{\"bar\":[{\"error_x\":{\"color\":\"#2a3f5f\"},\"error_y\":{\"color\":\"#2a3f5f\"},\"marker\":{\"line\":{\"color\":\"#E5ECF6\",\"width\":0.5},\"pattern\":{\"fillmode\":\"overlay\",\"size\":10,\"solidity\":0.2}},\"type\":\"bar\"}],\"barpolar\":[{\"marker\":{\"line\":{\"color\":\"#E5ECF6\",\"width\":0.5},\"pattern\":{\"fillmode\":\"overlay\",\"size\":10,\"solidity\":0.2}},\"type\":\"barpolar\"}],\"carpet\":[{\"aaxis\":{\"endlinecolor\":\"#2a3f5f\",\"gridcolor\":\"white\",\"linecolor\":\"white\",\"minorgridcolor\":\"white\",\"startlinecolor\":\"#2a3f5f\"},\"baxis\":{\"endlinecolor\":\"#2a3f5f\",\"gridcolor\":\"white\",\"linecolor\":\"white\",\"minorgridcolor\":\"white\",\"startlinecolor\":\"#2a3f5f\"},\"type\":\"carpet\"}],\"choropleth\":[{\"colorbar\":{\"outlinewidth\":0,\"ticks\":\"\"},\"type\":\"choropleth\"}],\"contour\":[{\"colorbar\":{\"outlinewidth\":0,\"ticks\":\"\"},\"colorscale\":[[0.0,\"#0d0887\"],[0.1111111111111111,\"#46039f\"],[0.2222222222222222,\"#7201a8\"],[0.3333333333333333,\"#9c179e\"],[0.4444444444444444,\"#bd3786\"],[0.5555555555555556,\"#d8576b\"],[0.6666666666666666,\"#ed7953\"],[0.7777777777777778,\"#fb9f3a\"],[0.8888888888888888,\"#fdca26\"],[1.0,\"#f0f921\"]],\"type\":\"contour\"}],\"contourcarpet\":[{\"colorbar\":{\"outlinewidth\":0,\"ticks\":\"\"},\"type\":\"contourcarpet\"}],\"heatmap\":[{\"colorbar\":{\"outlinewidth\":0,\"ticks\":\"\"},\"colorscale\":[[0.0,\"#0d0887\"],[0.1111111111111111,\"#46039f\"],[0.2222222222222222,\"#7201a8\"],[0.3333333333333333,\"#9c179e\"],[0.4444444444444444,\"#bd3786\"],[0.5555555555555556,\"#d8576b\"],[0.6666666666666666,\"#ed7953\"],[0.7777777777777778,\"#fb9f3a\"],[0.8888888888888888,\"#fdca26\"],[1.0,\"#f0f921\"]],\"type\":\"heatmap\"}],\"heatmapgl\":[{\"colorbar\":{\"outlinewidth\":0,\"ticks\":\"\"},\"colorscale\":[[0.0,\"#0d0887\"],[0.1111111111111111,\"#46039f\"],[0.2222222222222222,\"#7201a8\"],[0.3333333333333333,\"#9c179e\"],[0.4444444444444444,\"#bd3786\"],[0.5555555555555556,\"#d8576b\"],[0.6666666666666666,\"#ed7953\"],[0.7777777777777778,\"#fb9f3a\"],[0.8888888888888888,\"#fdca26\"],[1.0,\"#f0f921\"]],\"type\":\"heatmapgl\"}],\"histogram\":[{\"marker\":{\"pattern\":{\"fillmode\":\"overlay\",\"size\":10,\"solidity\":0.2}},\"type\":\"histogram\"}],\"histogram2d\":[{\"colorbar\":{\"outlinewidth\":0,\"ticks\":\"\"},\"colorscale\":[[0.0,\"#0d0887\"],[0.1111111111111111,\"#46039f\"],[0.2222222222222222,\"#7201a8\"],[0.3333333333333333,\"#9c179e\"],[0.4444444444444444,\"#bd3786\"],[0.5555555555555556,\"#d8576b\"],[0.6666666666666666,\"#ed7953\"],[0.7777777777777778,\"#fb9f3a\"],[0.8888888888888888,\"#fdca26\"],[1.0,\"#f0f921\"]],\"type\":\"histogram2d\"}],\"histogram2dcontour\":[{\"colorbar\":{\"outlinewidth\":0,\"ticks\":\"\"},\"colorscale\":[[0.0,\"#0d0887\"],[0.1111111111111111,\"#46039f\"],[0.2222222222222222,\"#7201a8\"],[0.3333333333333333,\"#9c179e\"],[0.4444444444444444,\"#bd3786\"],[0.5555555555555556,\"#d8576b\"],[0.6666666666666666,\"#ed7953\"],[0.7777777777777778,\"#fb9f3a\"],[0.8888888888888888,\"#fdca26\"],[1.0,\"#f0f921\"]],\"type\":\"histogram2dcontour\"}],\"mesh3d\":[{\"colorbar\":{\"outlinewidth\":0,\"ticks\":\"\"},\"type\":\"mesh3d\"}],\"parcoords\":[{\"line\":{\"colorbar\":{\"outlinewidth\":0,\"ticks\":\"\"}},\"type\":\"parcoords\"}],\"pie\":[{\"automargin\":true,\"type\":\"pie\"}],\"scatter\":[{\"marker\":{\"colorbar\":{\"outlinewidth\":0,\"ticks\":\"\"}},\"type\":\"scatter\"}],\"scatter3d\":[{\"line\":{\"colorbar\":{\"outlinewidth\":0,\"ticks\":\"\"}},\"marker\":{\"colorbar\":{\"outlinewidth\":0,\"ticks\":\"\"}},\"type\":\"scatter3d\"}],\"scattercarpet\":[{\"marker\":{\"colorbar\":{\"outlinewidth\":0,\"ticks\":\"\"}},\"type\":\"scattercarpet\"}],\"scattergeo\":[{\"marker\":{\"colorbar\":{\"outlinewidth\":0,\"ticks\":\"\"}},\"type\":\"scattergeo\"}],\"scattergl\":[{\"marker\":{\"colorbar\":{\"outlinewidth\":0,\"ticks\":\"\"}},\"type\":\"scattergl\"}],\"scattermapbox\":[{\"marker\":{\"colorbar\":{\"outlinewidth\":0,\"ticks\":\"\"}},\"type\":\"scattermapbox\"}],\"scatterpolar\":[{\"marker\":{\"colorbar\":{\"outlinewidth\":0,\"ticks\":\"\"}},\"type\":\"scatterpolar\"}],\"scatterpolargl\":[{\"marker\":{\"colorbar\":{\"outlinewidth\":0,\"ticks\":\"\"}},\"type\":\"scatterpolargl\"}],\"scatterternary\":[{\"marker\":{\"colorbar\":{\"outlinewidth\":0,\"ticks\":\"\"}},\"type\":\"scatterternary\"}],\"surface\":[{\"colorbar\":{\"outlinewidth\":0,\"ticks\":\"\"},\"colorscale\":[[0.0,\"#0d0887\"],[0.1111111111111111,\"#46039f\"],[0.2222222222222222,\"#7201a8\"],[0.3333333333333333,\"#9c179e\"],[0.4444444444444444,\"#bd3786\"],[0.5555555555555556,\"#d8576b\"],[0.6666666666666666,\"#ed7953\"],[0.7777777777777778,\"#fb9f3a\"],[0.8888888888888888,\"#fdca26\"],[1.0,\"#f0f921\"]],\"type\":\"surface\"}],\"table\":[{\"cells\":{\"fill\":{\"color\":\"#EBF0F8\"},\"line\":{\"color\":\"white\"}},\"header\":{\"fill\":{\"color\":\"#C8D4E3\"},\"line\":{\"color\":\"white\"}},\"type\":\"table\"}]},\"layout\":{\"annotationdefaults\":{\"arrowcolor\":\"#2a3f5f\",\"arrowhead\":0,\"arrowwidth\":1},\"autotypenumbers\":\"strict\",\"coloraxis\":{\"colorbar\":{\"outlinewidth\":0,\"ticks\":\"\"}},\"colorscale\":{\"diverging\":[[0,\"#8e0152\"],[0.1,\"#c51b7d\"],[0.2,\"#de77ae\"],[0.3,\"#f1b6da\"],[0.4,\"#fde0ef\"],[0.5,\"#f7f7f7\"],[0.6,\"#e6f5d0\"],[0.7,\"#b8e186\"],[0.8,\"#7fbc41\"],[0.9,\"#4d9221\"],[1,\"#276419\"]],\"sequential\":[[0.0,\"#0d0887\"],[0.1111111111111111,\"#46039f\"],[0.2222222222222222,\"#7201a8\"],[0.3333333333333333,\"#9c179e\"],[0.4444444444444444,\"#bd3786\"],[0.5555555555555556,\"#d8576b\"],[0.6666666666666666,\"#ed7953\"],[0.7777777777777778,\"#fb9f3a\"],[0.8888888888888888,\"#fdca26\"],[1.0,\"#f0f921\"]],\"sequentialminus\":[[0.0,\"#0d0887\"],[0.1111111111111111,\"#46039f\"],[0.2222222222222222,\"#7201a8\"],[0.3333333333333333,\"#9c179e\"],[0.4444444444444444,\"#bd3786\"],[0.5555555555555556,\"#d8576b\"],[0.6666666666666666,\"#ed7953\"],[0.7777777777777778,\"#fb9f3a\"],[0.8888888888888888,\"#fdca26\"],[1.0,\"#f0f921\"]]},\"colorway\":[\"#636efa\",\"#EF553B\",\"#00cc96\",\"#ab63fa\",\"#FFA15A\",\"#19d3f3\",\"#FF6692\",\"#B6E880\",\"#FF97FF\",\"#FECB52\"],\"font\":{\"color\":\"#2a3f5f\"},\"geo\":{\"bgcolor\":\"white\",\"lakecolor\":\"white\",\"landcolor\":\"#E5ECF6\",\"showlakes\":true,\"showland\":true,\"subunitcolor\":\"white\"},\"hoverlabel\":{\"align\":\"left\"},\"hovermode\":\"closest\",\"mapbox\":{\"style\":\"light\"},\"paper_bgcolor\":\"white\",\"plot_bgcolor\":\"#E5ECF6\",\"polar\":{\"angularaxis\":{\"gridcolor\":\"white\",\"linecolor\":\"white\",\"ticks\":\"\"},\"bgcolor\":\"#E5ECF6\",\"radialaxis\":{\"gridcolor\":\"white\",\"linecolor\":\"white\",\"ticks\":\"\"}},\"scene\":{\"xaxis\":{\"backgroundcolor\":\"#E5ECF6\",\"gridcolor\":\"white\",\"gridwidth\":2,\"linecolor\":\"white\",\"showbackground\":true,\"ticks\":\"\",\"zerolinecolor\":\"white\"},\"yaxis\":{\"backgroundcolor\":\"#E5ECF6\",\"gridcolor\":\"white\",\"gridwidth\":2,\"linecolor\":\"white\",\"showbackground\":true,\"ticks\":\"\",\"zerolinecolor\":\"white\"},\"zaxis\":{\"backgroundcolor\":\"#E5ECF6\",\"gridcolor\":\"white\",\"gridwidth\":2,\"linecolor\":\"white\",\"showbackground\":true,\"ticks\":\"\",\"zerolinecolor\":\"white\"}},\"shapedefaults\":{\"line\":{\"color\":\"#2a3f5f\"}},\"ternary\":{\"aaxis\":{\"gridcolor\":\"white\",\"linecolor\":\"white\",\"ticks\":\"\"},\"baxis\":{\"gridcolor\":\"white\",\"linecolor\":\"white\",\"ticks\":\"\"},\"bgcolor\":\"#E5ECF6\",\"caxis\":{\"gridcolor\":\"white\",\"linecolor\":\"white\",\"ticks\":\"\"}},\"title\":{\"x\":0.05},\"xaxis\":{\"automargin\":true,\"gridcolor\":\"white\",\"linecolor\":\"white\",\"ticks\":\"\",\"title\":{\"standoff\":15},\"zerolinecolor\":\"white\",\"zerolinewidth\":2},\"yaxis\":{\"automargin\":true,\"gridcolor\":\"white\",\"linecolor\":\"white\",\"ticks\":\"\",\"title\":{\"standoff\":15},\"zerolinecolor\":\"white\",\"zerolinewidth\":2}}},\"title\":{\"font\":{\"size\":30},\"text\":\"\\u53f0\\u4e2d\\u5404\\u6e2c\\u7ad9PM2.5\\u6fc3\\u5ea6\\u5341\\u5e74\\u65e5\\u5e73\\u5747\\u503c\",\"x\":0.5},\"xaxis\":{\"anchor\":\"y\",\"domain\":[0.0,1.0],\"range\":[0,23],\"title\":{\"text\":\"\\u5c0f\\u6642\"}},\"yaxis\":{\"anchor\":\"x\",\"domain\":[0.0,1.0],\"title\":{\"text\":\"\\u5e73\\u5747\\u6fc3\\u5ea6(\\u03bcg/m3)\"}}},                        {\"responsive\": true}                    ).then(function(){\n",
       "                            \n",
       "var gd = document.getElementById('8d611485-2bfa-401a-840c-3322c7b861c8');\n",
       "var x = new MutationObserver(function (mutations, observer) {{\n",
       "        var display = window.getComputedStyle(gd).display;\n",
       "        if (!display || display === 'none') {{\n",
       "            console.log([gd, 'removed!']);\n",
       "            Plotly.purge(gd);\n",
       "            observer.disconnect();\n",
       "        }}\n",
       "}});\n",
       "\n",
       "// Listen for the removal of the full notebook cells\n",
       "var notebookContainer = gd.closest('#notebook-container');\n",
       "if (notebookContainer) {{\n",
       "    x.observe(notebookContainer, {childList: true});\n",
       "}}\n",
       "\n",
       "// Listen for the clearing of the current output cell\n",
       "var outputEl = gd.closest('.output');\n",
       "if (outputEl) {{\n",
       "    x.observe(outputEl, {childList: true});\n",
       "}}\n",
       "\n",
       "                        })                };                });            </script>        </div>"
      ]
     },
     "metadata": {},
     "output_type": "display_data"
    }
   ],
   "source": [
    "fig = px.line(\n",
    "    df_day_dist_mean, x='MonitorValue', y=df_day_dist_mean.columns[1:7],\n",
    "    labels={\"value\": \"平均濃度(μg/m3)\", \"variable\": \"區域\", 'MonitorValue':'小時'}\n",
    ")\n",
    "\n",
    "fig.update_traces(mode='markers+lines')\n",
    "\n",
    "fig.update_layout(\n",
    "    title_text='台中各測站PM2.5濃度十年日平均值',\n",
    "    title_font_size=30,\n",
    "    title_x=0.5,\n",
    "    xaxis_range=[0, 23]\n",
    "\n",
    ")\n",
    "\n",
    "\n",
    "fig.add_shape( # add a horizontal \"target\" line\n",
    "    type=\"line\", line_color=\"green\", line_width=3, line_dash=\"dot\",\n",
    "    x0=0, x1=1, xref=\"paper\", y0=35, y1=35, yref=\"y\"\n",
    ")\n",
    "\n",
    "fig.add_shape( # add a horizontal \"target\" line\n",
    "    type=\"line\", line_color=\"red\", line_width=3, line_dash=\"dot\",\n",
    "    x0=0, x1=1, xref=\"paper\", y0=53, y1=53, yref=\"y\"\n",
    ")\n",
    "\n",
    "\n",
    "fig.show()"
   ]
  },
  {
   "cell_type": "markdown",
   "metadata": {},
   "source": [
    "# 月平均"
   ]
  },
  {
   "cell_type": "code",
   "execution_count": 10,
   "metadata": {},
   "outputs": [
    {
     "data": {
      "text/html": [
       "<div>\n",
       "<style scoped>\n",
       "    .dataframe tbody tr th:only-of-type {\n",
       "        vertical-align: middle;\n",
       "    }\n",
       "\n",
       "    .dataframe tbody tr th {\n",
       "        vertical-align: top;\n",
       "    }\n",
       "\n",
       "    .dataframe thead th {\n",
       "        text-align: right;\n",
       "    }\n",
       "</style>\n",
       "<table border=\"1\" class=\"dataframe\">\n",
       "  <thead>\n",
       "    <tr style=\"text-align: right;\">\n",
       "      <th></th>\n",
       "      <th>SiteName</th>\n",
       "      <th>ItemName</th>\n",
       "      <th>MonitorDate</th>\n",
       "      <th>MonitorValue00</th>\n",
       "      <th>MonitorValue01</th>\n",
       "      <th>MonitorValue02</th>\n",
       "      <th>MonitorValue03</th>\n",
       "      <th>MonitorValue04</th>\n",
       "      <th>MonitorValue05</th>\n",
       "      <th>MonitorValue06</th>\n",
       "      <th>...</th>\n",
       "      <th>MonitorValue15</th>\n",
       "      <th>MonitorValue16</th>\n",
       "      <th>MonitorValue17</th>\n",
       "      <th>MonitorValue18</th>\n",
       "      <th>MonitorValue19</th>\n",
       "      <th>MonitorValue20</th>\n",
       "      <th>MonitorValue21</th>\n",
       "      <th>MonitorValue22</th>\n",
       "      <th>MonitorValue23</th>\n",
       "      <th>24Hmean</th>\n",
       "    </tr>\n",
       "  </thead>\n",
       "  <tbody>\n",
       "    <tr>\n",
       "      <th>0</th>\n",
       "      <td>豐原</td>\n",
       "      <td>懸浮微粒</td>\n",
       "      <td>2011-01-01</td>\n",
       "      <td>45.0</td>\n",
       "      <td>48.0</td>\n",
       "      <td>40.0</td>\n",
       "      <td>37.0</td>\n",
       "      <td>45.0</td>\n",
       "      <td>42.0</td>\n",
       "      <td>31.0</td>\n",
       "      <td>...</td>\n",
       "      <td>80.0</td>\n",
       "      <td>77.0</td>\n",
       "      <td>71.0</td>\n",
       "      <td>59.0</td>\n",
       "      <td>60.0</td>\n",
       "      <td>58.0</td>\n",
       "      <td>60.0</td>\n",
       "      <td>58.0</td>\n",
       "      <td>47.0</td>\n",
       "      <td>52.17</td>\n",
       "    </tr>\n",
       "    <tr>\n",
       "      <th>1</th>\n",
       "      <td>沙鹿</td>\n",
       "      <td>懸浮微粒</td>\n",
       "      <td>2011-01-01</td>\n",
       "      <td>NaN</td>\n",
       "      <td>NaN</td>\n",
       "      <td>NaN</td>\n",
       "      <td>NaN</td>\n",
       "      <td>NaN</td>\n",
       "      <td>NaN</td>\n",
       "      <td>NaN</td>\n",
       "      <td>...</td>\n",
       "      <td>76.0</td>\n",
       "      <td>70.0</td>\n",
       "      <td>61.0</td>\n",
       "      <td>48.0</td>\n",
       "      <td>40.0</td>\n",
       "      <td>38.0</td>\n",
       "      <td>34.0</td>\n",
       "      <td>33.0</td>\n",
       "      <td>34.0</td>\n",
       "      <td>53.00</td>\n",
       "    </tr>\n",
       "    <tr>\n",
       "      <th>2</th>\n",
       "      <td>大里</td>\n",
       "      <td>懸浮微粒</td>\n",
       "      <td>2011-01-01</td>\n",
       "      <td>87.0</td>\n",
       "      <td>78.0</td>\n",
       "      <td>62.0</td>\n",
       "      <td>50.0</td>\n",
       "      <td>52.0</td>\n",
       "      <td>56.0</td>\n",
       "      <td>60.0</td>\n",
       "      <td>...</td>\n",
       "      <td>63.0</td>\n",
       "      <td>70.0</td>\n",
       "      <td>72.0</td>\n",
       "      <td>71.0</td>\n",
       "      <td>68.0</td>\n",
       "      <td>59.0</td>\n",
       "      <td>52.0</td>\n",
       "      <td>50.0</td>\n",
       "      <td>48.0</td>\n",
       "      <td>60.42</td>\n",
       "    </tr>\n",
       "    <tr>\n",
       "      <th>3</th>\n",
       "      <td>忠明</td>\n",
       "      <td>懸浮微粒</td>\n",
       "      <td>2011-01-01</td>\n",
       "      <td>37.0</td>\n",
       "      <td>41.0</td>\n",
       "      <td>49.0</td>\n",
       "      <td>29.0</td>\n",
       "      <td>30.0</td>\n",
       "      <td>40.0</td>\n",
       "      <td>35.0</td>\n",
       "      <td>...</td>\n",
       "      <td>70.0</td>\n",
       "      <td>70.0</td>\n",
       "      <td>70.0</td>\n",
       "      <td>57.0</td>\n",
       "      <td>49.0</td>\n",
       "      <td>49.0</td>\n",
       "      <td>49.0</td>\n",
       "      <td>36.0</td>\n",
       "      <td>42.0</td>\n",
       "      <td>47.17</td>\n",
       "    </tr>\n",
       "    <tr>\n",
       "      <th>4</th>\n",
       "      <td>西屯</td>\n",
       "      <td>懸浮微粒</td>\n",
       "      <td>2011-01-01</td>\n",
       "      <td>48.0</td>\n",
       "      <td>48.0</td>\n",
       "      <td>48.0</td>\n",
       "      <td>46.0</td>\n",
       "      <td>47.0</td>\n",
       "      <td>42.0</td>\n",
       "      <td>46.0</td>\n",
       "      <td>...</td>\n",
       "      <td>79.0</td>\n",
       "      <td>76.0</td>\n",
       "      <td>66.0</td>\n",
       "      <td>62.0</td>\n",
       "      <td>57.0</td>\n",
       "      <td>57.0</td>\n",
       "      <td>50.0</td>\n",
       "      <td>45.0</td>\n",
       "      <td>39.0</td>\n",
       "      <td>53.96</td>\n",
       "    </tr>\n",
       "  </tbody>\n",
       "</table>\n",
       "<p>5 rows × 28 columns</p>\n",
       "</div>"
      ],
      "text/plain": [
       "  SiteName ItemName MonitorDate  MonitorValue00  MonitorValue01  \\\n",
       "0       豐原     懸浮微粒  2011-01-01            45.0            48.0   \n",
       "1       沙鹿     懸浮微粒  2011-01-01             NaN             NaN   \n",
       "2       大里     懸浮微粒  2011-01-01            87.0            78.0   \n",
       "3       忠明     懸浮微粒  2011-01-01            37.0            41.0   \n",
       "4       西屯     懸浮微粒  2011-01-01            48.0            48.0   \n",
       "\n",
       "   MonitorValue02  MonitorValue03  MonitorValue04  MonitorValue05  \\\n",
       "0            40.0            37.0            45.0            42.0   \n",
       "1             NaN             NaN             NaN             NaN   \n",
       "2            62.0            50.0            52.0            56.0   \n",
       "3            49.0            29.0            30.0            40.0   \n",
       "4            48.0            46.0            47.0            42.0   \n",
       "\n",
       "   MonitorValue06  ...  MonitorValue15  MonitorValue16  MonitorValue17  \\\n",
       "0            31.0  ...            80.0            77.0            71.0   \n",
       "1             NaN  ...            76.0            70.0            61.0   \n",
       "2            60.0  ...            63.0            70.0            72.0   \n",
       "3            35.0  ...            70.0            70.0            70.0   \n",
       "4            46.0  ...            79.0            76.0            66.0   \n",
       "\n",
       "   MonitorValue18  MonitorValue19  MonitorValue20  MonitorValue21  \\\n",
       "0            59.0            60.0            58.0            60.0   \n",
       "1            48.0            40.0            38.0            34.0   \n",
       "2            71.0            68.0            59.0            52.0   \n",
       "3            57.0            49.0            49.0            49.0   \n",
       "4            62.0            57.0            57.0            50.0   \n",
       "\n",
       "   MonitorValue22  MonitorValue23  24Hmean  \n",
       "0            58.0            47.0    52.17  \n",
       "1            33.0            34.0    53.00  \n",
       "2            50.0            48.0    60.42  \n",
       "3            36.0            42.0    47.17  \n",
       "4            45.0            39.0    53.96  \n",
       "\n",
       "[5 rows x 28 columns]"
      ]
     },
     "execution_count": 10,
     "metadata": {},
     "output_type": "execute_result"
    }
   ],
   "source": [
    "dfall.head()"
   ]
  },
  {
   "cell_type": "code",
   "execution_count": 11,
   "metadata": {},
   "outputs": [
    {
     "data": {
      "text/html": [
       "<div>\n",
       "<style scoped>\n",
       "    .dataframe tbody tr th:only-of-type {\n",
       "        vertical-align: middle;\n",
       "    }\n",
       "\n",
       "    .dataframe tbody tr th {\n",
       "        vertical-align: top;\n",
       "    }\n",
       "\n",
       "    .dataframe thead th {\n",
       "        text-align: right;\n",
       "    }\n",
       "</style>\n",
       "<table border=\"1\" class=\"dataframe\">\n",
       "  <thead>\n",
       "    <tr style=\"text-align: right;\">\n",
       "      <th></th>\n",
       "      <th>SiteName</th>\n",
       "      <th>ItemName</th>\n",
       "      <th>MonitorDate</th>\n",
       "      <th>MonitorValue00</th>\n",
       "      <th>MonitorValue01</th>\n",
       "      <th>MonitorValue02</th>\n",
       "      <th>MonitorValue03</th>\n",
       "      <th>MonitorValue04</th>\n",
       "      <th>MonitorValue05</th>\n",
       "      <th>MonitorValue06</th>\n",
       "      <th>...</th>\n",
       "      <th>MonitorValue15</th>\n",
       "      <th>MonitorValue16</th>\n",
       "      <th>MonitorValue17</th>\n",
       "      <th>MonitorValue18</th>\n",
       "      <th>MonitorValue19</th>\n",
       "      <th>MonitorValue20</th>\n",
       "      <th>MonitorValue21</th>\n",
       "      <th>MonitorValue22</th>\n",
       "      <th>MonitorValue23</th>\n",
       "      <th>24Hmean</th>\n",
       "    </tr>\n",
       "  </thead>\n",
       "  <tbody>\n",
       "    <tr>\n",
       "      <th>0</th>\n",
       "      <td>豐原</td>\n",
       "      <td>懸浮微粒</td>\n",
       "      <td>01</td>\n",
       "      <td>45.0</td>\n",
       "      <td>48.0</td>\n",
       "      <td>40.0</td>\n",
       "      <td>37.0</td>\n",
       "      <td>45.0</td>\n",
       "      <td>42.0</td>\n",
       "      <td>31.0</td>\n",
       "      <td>...</td>\n",
       "      <td>80.0</td>\n",
       "      <td>77.0</td>\n",
       "      <td>71.0</td>\n",
       "      <td>59.0</td>\n",
       "      <td>60.0</td>\n",
       "      <td>58.0</td>\n",
       "      <td>60.0</td>\n",
       "      <td>58.0</td>\n",
       "      <td>47.0</td>\n",
       "      <td>52.17</td>\n",
       "    </tr>\n",
       "    <tr>\n",
       "      <th>1</th>\n",
       "      <td>沙鹿</td>\n",
       "      <td>懸浮微粒</td>\n",
       "      <td>01</td>\n",
       "      <td>NaN</td>\n",
       "      <td>NaN</td>\n",
       "      <td>NaN</td>\n",
       "      <td>NaN</td>\n",
       "      <td>NaN</td>\n",
       "      <td>NaN</td>\n",
       "      <td>NaN</td>\n",
       "      <td>...</td>\n",
       "      <td>76.0</td>\n",
       "      <td>70.0</td>\n",
       "      <td>61.0</td>\n",
       "      <td>48.0</td>\n",
       "      <td>40.0</td>\n",
       "      <td>38.0</td>\n",
       "      <td>34.0</td>\n",
       "      <td>33.0</td>\n",
       "      <td>34.0</td>\n",
       "      <td>53.00</td>\n",
       "    </tr>\n",
       "    <tr>\n",
       "      <th>2</th>\n",
       "      <td>大里</td>\n",
       "      <td>懸浮微粒</td>\n",
       "      <td>01</td>\n",
       "      <td>87.0</td>\n",
       "      <td>78.0</td>\n",
       "      <td>62.0</td>\n",
       "      <td>50.0</td>\n",
       "      <td>52.0</td>\n",
       "      <td>56.0</td>\n",
       "      <td>60.0</td>\n",
       "      <td>...</td>\n",
       "      <td>63.0</td>\n",
       "      <td>70.0</td>\n",
       "      <td>72.0</td>\n",
       "      <td>71.0</td>\n",
       "      <td>68.0</td>\n",
       "      <td>59.0</td>\n",
       "      <td>52.0</td>\n",
       "      <td>50.0</td>\n",
       "      <td>48.0</td>\n",
       "      <td>60.42</td>\n",
       "    </tr>\n",
       "    <tr>\n",
       "      <th>3</th>\n",
       "      <td>忠明</td>\n",
       "      <td>懸浮微粒</td>\n",
       "      <td>01</td>\n",
       "      <td>37.0</td>\n",
       "      <td>41.0</td>\n",
       "      <td>49.0</td>\n",
       "      <td>29.0</td>\n",
       "      <td>30.0</td>\n",
       "      <td>40.0</td>\n",
       "      <td>35.0</td>\n",
       "      <td>...</td>\n",
       "      <td>70.0</td>\n",
       "      <td>70.0</td>\n",
       "      <td>70.0</td>\n",
       "      <td>57.0</td>\n",
       "      <td>49.0</td>\n",
       "      <td>49.0</td>\n",
       "      <td>49.0</td>\n",
       "      <td>36.0</td>\n",
       "      <td>42.0</td>\n",
       "      <td>47.17</td>\n",
       "    </tr>\n",
       "    <tr>\n",
       "      <th>4</th>\n",
       "      <td>西屯</td>\n",
       "      <td>懸浮微粒</td>\n",
       "      <td>01</td>\n",
       "      <td>48.0</td>\n",
       "      <td>48.0</td>\n",
       "      <td>48.0</td>\n",
       "      <td>46.0</td>\n",
       "      <td>47.0</td>\n",
       "      <td>42.0</td>\n",
       "      <td>46.0</td>\n",
       "      <td>...</td>\n",
       "      <td>79.0</td>\n",
       "      <td>76.0</td>\n",
       "      <td>66.0</td>\n",
       "      <td>62.0</td>\n",
       "      <td>57.0</td>\n",
       "      <td>57.0</td>\n",
       "      <td>50.0</td>\n",
       "      <td>45.0</td>\n",
       "      <td>39.0</td>\n",
       "      <td>53.96</td>\n",
       "    </tr>\n",
       "    <tr>\n",
       "      <th>...</th>\n",
       "      <td>...</td>\n",
       "      <td>...</td>\n",
       "      <td>...</td>\n",
       "      <td>...</td>\n",
       "      <td>...</td>\n",
       "      <td>...</td>\n",
       "      <td>...</td>\n",
       "      <td>...</td>\n",
       "      <td>...</td>\n",
       "      <td>...</td>\n",
       "      <td>...</td>\n",
       "      <td>...</td>\n",
       "      <td>...</td>\n",
       "      <td>...</td>\n",
       "      <td>...</td>\n",
       "      <td>...</td>\n",
       "      <td>...</td>\n",
       "      <td>...</td>\n",
       "      <td>...</td>\n",
       "      <td>...</td>\n",
       "      <td>...</td>\n",
       "    </tr>\n",
       "    <tr>\n",
       "      <th>18165</th>\n",
       "      <td>豐原</td>\n",
       "      <td>懸浮微粒</td>\n",
       "      <td>31</td>\n",
       "      <td>41.0</td>\n",
       "      <td>41.0</td>\n",
       "      <td>34.0</td>\n",
       "      <td>30.0</td>\n",
       "      <td>32.0</td>\n",
       "      <td>32.0</td>\n",
       "      <td>34.0</td>\n",
       "      <td>...</td>\n",
       "      <td>30.0</td>\n",
       "      <td>33.0</td>\n",
       "      <td>34.0</td>\n",
       "      <td>36.0</td>\n",
       "      <td>33.0</td>\n",
       "      <td>28.0</td>\n",
       "      <td>25.0</td>\n",
       "      <td>22.0</td>\n",
       "      <td>20.0</td>\n",
       "      <td>31.75</td>\n",
       "    </tr>\n",
       "    <tr>\n",
       "      <th>18166</th>\n",
       "      <td>沙鹿</td>\n",
       "      <td>懸浮微粒</td>\n",
       "      <td>31</td>\n",
       "      <td>44.0</td>\n",
       "      <td>47.0</td>\n",
       "      <td>44.0</td>\n",
       "      <td>35.0</td>\n",
       "      <td>26.0</td>\n",
       "      <td>37.0</td>\n",
       "      <td>35.0</td>\n",
       "      <td>...</td>\n",
       "      <td>34.0</td>\n",
       "      <td>30.0</td>\n",
       "      <td>32.0</td>\n",
       "      <td>31.0</td>\n",
       "      <td>32.0</td>\n",
       "      <td>25.0</td>\n",
       "      <td>24.0</td>\n",
       "      <td>22.0</td>\n",
       "      <td>22.0</td>\n",
       "      <td>33.12</td>\n",
       "    </tr>\n",
       "    <tr>\n",
       "      <th>18167</th>\n",
       "      <td>大里</td>\n",
       "      <td>懸浮微粒</td>\n",
       "      <td>31</td>\n",
       "      <td>42.0</td>\n",
       "      <td>42.0</td>\n",
       "      <td>33.0</td>\n",
       "      <td>31.0</td>\n",
       "      <td>25.0</td>\n",
       "      <td>28.0</td>\n",
       "      <td>32.0</td>\n",
       "      <td>...</td>\n",
       "      <td>38.0</td>\n",
       "      <td>34.0</td>\n",
       "      <td>32.0</td>\n",
       "      <td>30.0</td>\n",
       "      <td>26.0</td>\n",
       "      <td>28.0</td>\n",
       "      <td>23.0</td>\n",
       "      <td>23.0</td>\n",
       "      <td>24.0</td>\n",
       "      <td>31.48</td>\n",
       "    </tr>\n",
       "    <tr>\n",
       "      <th>18168</th>\n",
       "      <td>忠明</td>\n",
       "      <td>懸浮微粒</td>\n",
       "      <td>31</td>\n",
       "      <td>45.0</td>\n",
       "      <td>42.0</td>\n",
       "      <td>38.0</td>\n",
       "      <td>32.0</td>\n",
       "      <td>38.0</td>\n",
       "      <td>37.0</td>\n",
       "      <td>34.0</td>\n",
       "      <td>...</td>\n",
       "      <td>35.0</td>\n",
       "      <td>39.0</td>\n",
       "      <td>34.0</td>\n",
       "      <td>35.0</td>\n",
       "      <td>36.0</td>\n",
       "      <td>32.0</td>\n",
       "      <td>22.0</td>\n",
       "      <td>27.0</td>\n",
       "      <td>22.0</td>\n",
       "      <td>34.96</td>\n",
       "    </tr>\n",
       "    <tr>\n",
       "      <th>18169</th>\n",
       "      <td>西屯</td>\n",
       "      <td>懸浮微粒</td>\n",
       "      <td>31</td>\n",
       "      <td>40.0</td>\n",
       "      <td>45.0</td>\n",
       "      <td>44.0</td>\n",
       "      <td>42.0</td>\n",
       "      <td>32.0</td>\n",
       "      <td>35.0</td>\n",
       "      <td>35.0</td>\n",
       "      <td>...</td>\n",
       "      <td>37.0</td>\n",
       "      <td>38.0</td>\n",
       "      <td>35.0</td>\n",
       "      <td>34.0</td>\n",
       "      <td>34.0</td>\n",
       "      <td>33.0</td>\n",
       "      <td>31.0</td>\n",
       "      <td>29.0</td>\n",
       "      <td>31.0</td>\n",
       "      <td>36.29</td>\n",
       "    </tr>\n",
       "  </tbody>\n",
       "</table>\n",
       "<p>18170 rows × 28 columns</p>\n",
       "</div>"
      ],
      "text/plain": [
       "      SiteName ItemName MonitorDate  MonitorValue00  MonitorValue01  \\\n",
       "0           豐原     懸浮微粒          01            45.0            48.0   \n",
       "1           沙鹿     懸浮微粒          01             NaN             NaN   \n",
       "2           大里     懸浮微粒          01            87.0            78.0   \n",
       "3           忠明     懸浮微粒          01            37.0            41.0   \n",
       "4           西屯     懸浮微粒          01            48.0            48.0   \n",
       "...        ...      ...         ...             ...             ...   \n",
       "18165       豐原     懸浮微粒          31            41.0            41.0   \n",
       "18166       沙鹿     懸浮微粒          31            44.0            47.0   \n",
       "18167       大里     懸浮微粒          31            42.0            42.0   \n",
       "18168       忠明     懸浮微粒          31            45.0            42.0   \n",
       "18169       西屯     懸浮微粒          31            40.0            45.0   \n",
       "\n",
       "       MonitorValue02  MonitorValue03  MonitorValue04  MonitorValue05  \\\n",
       "0                40.0            37.0            45.0            42.0   \n",
       "1                 NaN             NaN             NaN             NaN   \n",
       "2                62.0            50.0            52.0            56.0   \n",
       "3                49.0            29.0            30.0            40.0   \n",
       "4                48.0            46.0            47.0            42.0   \n",
       "...               ...             ...             ...             ...   \n",
       "18165            34.0            30.0            32.0            32.0   \n",
       "18166            44.0            35.0            26.0            37.0   \n",
       "18167            33.0            31.0            25.0            28.0   \n",
       "18168            38.0            32.0            38.0            37.0   \n",
       "18169            44.0            42.0            32.0            35.0   \n",
       "\n",
       "       MonitorValue06  ...  MonitorValue15  MonitorValue16  MonitorValue17  \\\n",
       "0                31.0  ...            80.0            77.0            71.0   \n",
       "1                 NaN  ...            76.0            70.0            61.0   \n",
       "2                60.0  ...            63.0            70.0            72.0   \n",
       "3                35.0  ...            70.0            70.0            70.0   \n",
       "4                46.0  ...            79.0            76.0            66.0   \n",
       "...               ...  ...             ...             ...             ...   \n",
       "18165            34.0  ...            30.0            33.0            34.0   \n",
       "18166            35.0  ...            34.0            30.0            32.0   \n",
       "18167            32.0  ...            38.0            34.0            32.0   \n",
       "18168            34.0  ...            35.0            39.0            34.0   \n",
       "18169            35.0  ...            37.0            38.0            35.0   \n",
       "\n",
       "       MonitorValue18  MonitorValue19  MonitorValue20  MonitorValue21  \\\n",
       "0                59.0            60.0            58.0            60.0   \n",
       "1                48.0            40.0            38.0            34.0   \n",
       "2                71.0            68.0            59.0            52.0   \n",
       "3                57.0            49.0            49.0            49.0   \n",
       "4                62.0            57.0            57.0            50.0   \n",
       "...               ...             ...             ...             ...   \n",
       "18165            36.0            33.0            28.0            25.0   \n",
       "18166            31.0            32.0            25.0            24.0   \n",
       "18167            30.0            26.0            28.0            23.0   \n",
       "18168            35.0            36.0            32.0            22.0   \n",
       "18169            34.0            34.0            33.0            31.0   \n",
       "\n",
       "       MonitorValue22  MonitorValue23  24Hmean  \n",
       "0                58.0            47.0    52.17  \n",
       "1                33.0            34.0    53.00  \n",
       "2                50.0            48.0    60.42  \n",
       "3                36.0            42.0    47.17  \n",
       "4                45.0            39.0    53.96  \n",
       "...               ...             ...      ...  \n",
       "18165            22.0            20.0    31.75  \n",
       "18166            22.0            22.0    33.12  \n",
       "18167            23.0            24.0    31.48  \n",
       "18168            27.0            22.0    34.96  \n",
       "18169            29.0            31.0    36.29  \n",
       "\n",
       "[18170 rows x 28 columns]"
      ]
     },
     "execution_count": 11,
     "metadata": {},
     "output_type": "execute_result"
    }
   ],
   "source": [
    "#將MonitorDate變成顯示日期\n",
    "df_dtest = dfall.copy()\n",
    "df_dtest['MonitorDate'] = [x.strftime('%d') for x in df_dtest['MonitorDate']]\n",
    "df_dtest"
   ]
  },
  {
   "cell_type": "code",
   "execution_count": 12,
   "metadata": {},
   "outputs": [
    {
     "data": {
      "text/html": [
       "<div>\n",
       "<style scoped>\n",
       "    .dataframe tbody tr th:only-of-type {\n",
       "        vertical-align: middle;\n",
       "    }\n",
       "\n",
       "    .dataframe tbody tr th {\n",
       "        vertical-align: top;\n",
       "    }\n",
       "\n",
       "    .dataframe thead th {\n",
       "        text-align: right;\n",
       "    }\n",
       "</style>\n",
       "<table border=\"1\" class=\"dataframe\">\n",
       "  <thead>\n",
       "    <tr style=\"text-align: right;\">\n",
       "      <th>SiteName</th>\n",
       "      <th>大里</th>\n",
       "      <th>忠明</th>\n",
       "      <th>沙鹿</th>\n",
       "      <th>西屯</th>\n",
       "      <th>豐原</th>\n",
       "      <th>台中</th>\n",
       "    </tr>\n",
       "    <tr>\n",
       "      <th>MonitorDate</th>\n",
       "      <th></th>\n",
       "      <th></th>\n",
       "      <th></th>\n",
       "      <th></th>\n",
       "      <th></th>\n",
       "      <th></th>\n",
       "    </tr>\n",
       "  </thead>\n",
       "  <tbody>\n",
       "    <tr>\n",
       "      <th>01</th>\n",
       "      <td>47.426325</td>\n",
       "      <td>39.693534</td>\n",
       "      <td>42.747000</td>\n",
       "      <td>45.570593</td>\n",
       "      <td>38.991368</td>\n",
       "      <td>42.885764</td>\n",
       "    </tr>\n",
       "    <tr>\n",
       "      <th>02</th>\n",
       "      <td>47.920932</td>\n",
       "      <td>40.658276</td>\n",
       "      <td>44.541083</td>\n",
       "      <td>47.414492</td>\n",
       "      <td>40.215776</td>\n",
       "      <td>44.150112</td>\n",
       "    </tr>\n",
       "    <tr>\n",
       "      <th>03</th>\n",
       "      <td>49.416325</td>\n",
       "      <td>42.050603</td>\n",
       "      <td>45.005500</td>\n",
       "      <td>48.116667</td>\n",
       "      <td>41.214522</td>\n",
       "      <td>45.160723</td>\n",
       "    </tr>\n",
       "    <tr>\n",
       "      <th>04</th>\n",
       "      <td>49.553761</td>\n",
       "      <td>41.299828</td>\n",
       "      <td>44.589417</td>\n",
       "      <td>47.233583</td>\n",
       "      <td>40.630348</td>\n",
       "      <td>44.661387</td>\n",
       "    </tr>\n",
       "    <tr>\n",
       "      <th>05</th>\n",
       "      <td>50.283017</td>\n",
       "      <td>42.181810</td>\n",
       "      <td>45.373750</td>\n",
       "      <td>48.921417</td>\n",
       "      <td>41.614000</td>\n",
       "      <td>45.674799</td>\n",
       "    </tr>\n",
       "    <tr>\n",
       "      <th>06</th>\n",
       "      <td>53.244576</td>\n",
       "      <td>43.790259</td>\n",
       "      <td>46.311917</td>\n",
       "      <td>50.479667</td>\n",
       "      <td>42.959052</td>\n",
       "      <td>47.357094</td>\n",
       "    </tr>\n",
       "    <tr>\n",
       "      <th>07</th>\n",
       "      <td>50.779748</td>\n",
       "      <td>42.506379</td>\n",
       "      <td>44.740083</td>\n",
       "      <td>48.750583</td>\n",
       "      <td>40.868103</td>\n",
       "      <td>45.528979</td>\n",
       "    </tr>\n",
       "    <tr>\n",
       "      <th>08</th>\n",
       "      <td>46.255917</td>\n",
       "      <td>39.761404</td>\n",
       "      <td>42.529417</td>\n",
       "      <td>46.602167</td>\n",
       "      <td>37.975345</td>\n",
       "      <td>42.624850</td>\n",
       "    </tr>\n",
       "    <tr>\n",
       "      <th>09</th>\n",
       "      <td>43.284286</td>\n",
       "      <td>35.665929</td>\n",
       "      <td>38.838750</td>\n",
       "      <td>42.633917</td>\n",
       "      <td>35.704224</td>\n",
       "      <td>39.225421</td>\n",
       "    </tr>\n",
       "    <tr>\n",
       "      <th>10</th>\n",
       "      <td>44.816750</td>\n",
       "      <td>37.313130</td>\n",
       "      <td>40.412167</td>\n",
       "      <td>44.063083</td>\n",
       "      <td>37.960522</td>\n",
       "      <td>40.913130</td>\n",
       "    </tr>\n",
       "    <tr>\n",
       "      <th>11</th>\n",
       "      <td>46.321008</td>\n",
       "      <td>37.859237</td>\n",
       "      <td>39.569083</td>\n",
       "      <td>44.260917</td>\n",
       "      <td>37.235752</td>\n",
       "      <td>41.049200</td>\n",
       "    </tr>\n",
       "    <tr>\n",
       "      <th>12</th>\n",
       "      <td>46.403417</td>\n",
       "      <td>39.056949</td>\n",
       "      <td>41.293250</td>\n",
       "      <td>44.728571</td>\n",
       "      <td>38.296053</td>\n",
       "      <td>41.955648</td>\n",
       "    </tr>\n",
       "    <tr>\n",
       "      <th>13</th>\n",
       "      <td>47.824000</td>\n",
       "      <td>40.071271</td>\n",
       "      <td>42.180750</td>\n",
       "      <td>46.412185</td>\n",
       "      <td>38.710348</td>\n",
       "      <td>43.039711</td>\n",
       "    </tr>\n",
       "    <tr>\n",
       "      <th>14</th>\n",
       "      <td>46.803833</td>\n",
       "      <td>39.120598</td>\n",
       "      <td>42.444034</td>\n",
       "      <td>45.131513</td>\n",
       "      <td>38.029565</td>\n",
       "      <td>42.305909</td>\n",
       "    </tr>\n",
       "    <tr>\n",
       "      <th>15</th>\n",
       "      <td>48.202917</td>\n",
       "      <td>40.055776</td>\n",
       "      <td>44.114538</td>\n",
       "      <td>47.018992</td>\n",
       "      <td>39.571391</td>\n",
       "      <td>43.792723</td>\n",
       "    </tr>\n",
       "    <tr>\n",
       "      <th>16</th>\n",
       "      <td>49.336583</td>\n",
       "      <td>41.954696</td>\n",
       "      <td>43.755714</td>\n",
       "      <td>48.065000</td>\n",
       "      <td>39.641391</td>\n",
       "      <td>44.550677</td>\n",
       "    </tr>\n",
       "    <tr>\n",
       "      <th>17</th>\n",
       "      <td>49.079417</td>\n",
       "      <td>41.195259</td>\n",
       "      <td>44.433333</td>\n",
       "      <td>48.029496</td>\n",
       "      <td>39.997265</td>\n",
       "      <td>44.546954</td>\n",
       "    </tr>\n",
       "    <tr>\n",
       "      <th>18</th>\n",
       "      <td>51.997917</td>\n",
       "      <td>44.068547</td>\n",
       "      <td>45.743000</td>\n",
       "      <td>49.901429</td>\n",
       "      <td>41.818793</td>\n",
       "      <td>46.705937</td>\n",
       "    </tr>\n",
       "    <tr>\n",
       "      <th>19</th>\n",
       "      <td>49.342750</td>\n",
       "      <td>41.770513</td>\n",
       "      <td>44.049083</td>\n",
       "      <td>47.518655</td>\n",
       "      <td>39.545345</td>\n",
       "      <td>44.445269</td>\n",
       "    </tr>\n",
       "    <tr>\n",
       "      <th>20</th>\n",
       "      <td>52.201167</td>\n",
       "      <td>44.755385</td>\n",
       "      <td>46.406417</td>\n",
       "      <td>50.176639</td>\n",
       "      <td>43.449829</td>\n",
       "      <td>47.397887</td>\n",
       "    </tr>\n",
       "    <tr>\n",
       "      <th>21</th>\n",
       "      <td>52.192333</td>\n",
       "      <td>43.206410</td>\n",
       "      <td>45.577311</td>\n",
       "      <td>49.715678</td>\n",
       "      <td>40.860684</td>\n",
       "      <td>46.310483</td>\n",
       "    </tr>\n",
       "    <tr>\n",
       "      <th>22</th>\n",
       "      <td>49.639496</td>\n",
       "      <td>41.048879</td>\n",
       "      <td>44.061356</td>\n",
       "      <td>47.254118</td>\n",
       "      <td>39.212821</td>\n",
       "      <td>44.243334</td>\n",
       "    </tr>\n",
       "    <tr>\n",
       "      <th>23</th>\n",
       "      <td>45.556610</td>\n",
       "      <td>38.666983</td>\n",
       "      <td>41.816923</td>\n",
       "      <td>45.166780</td>\n",
       "      <td>38.565603</td>\n",
       "      <td>41.954580</td>\n",
       "    </tr>\n",
       "    <tr>\n",
       "      <th>24</th>\n",
       "      <td>49.000763</td>\n",
       "      <td>41.869237</td>\n",
       "      <td>44.453644</td>\n",
       "      <td>47.877143</td>\n",
       "      <td>39.803621</td>\n",
       "      <td>44.600882</td>\n",
       "    </tr>\n",
       "    <tr>\n",
       "      <th>25</th>\n",
       "      <td>49.983750</td>\n",
       "      <td>41.174825</td>\n",
       "      <td>44.184872</td>\n",
       "      <td>47.409160</td>\n",
       "      <td>39.647759</td>\n",
       "      <td>44.480073</td>\n",
       "    </tr>\n",
       "    <tr>\n",
       "      <th>26</th>\n",
       "      <td>49.717167</td>\n",
       "      <td>41.988696</td>\n",
       "      <td>44.151513</td>\n",
       "      <td>48.140084</td>\n",
       "      <td>39.846838</td>\n",
       "      <td>44.768859</td>\n",
       "    </tr>\n",
       "    <tr>\n",
       "      <th>27</th>\n",
       "      <td>48.430833</td>\n",
       "      <td>41.063162</td>\n",
       "      <td>44.254538</td>\n",
       "      <td>47.262017</td>\n",
       "      <td>40.621111</td>\n",
       "      <td>44.326332</td>\n",
       "    </tr>\n",
       "    <tr>\n",
       "      <th>28</th>\n",
       "      <td>49.601356</td>\n",
       "      <td>40.692051</td>\n",
       "      <td>44.666303</td>\n",
       "      <td>47.609076</td>\n",
       "      <td>39.646667</td>\n",
       "      <td>44.443090</td>\n",
       "    </tr>\n",
       "    <tr>\n",
       "      <th>29</th>\n",
       "      <td>51.016306</td>\n",
       "      <td>42.748182</td>\n",
       "      <td>45.230268</td>\n",
       "      <td>48.825133</td>\n",
       "      <td>41.720090</td>\n",
       "      <td>45.907996</td>\n",
       "    </tr>\n",
       "    <tr>\n",
       "      <th>30</th>\n",
       "      <td>50.364630</td>\n",
       "      <td>41.963925</td>\n",
       "      <td>44.613945</td>\n",
       "      <td>47.197909</td>\n",
       "      <td>40.466296</td>\n",
       "      <td>44.921341</td>\n",
       "    </tr>\n",
       "    <tr>\n",
       "      <th>31</th>\n",
       "      <td>45.955882</td>\n",
       "      <td>38.608529</td>\n",
       "      <td>41.894571</td>\n",
       "      <td>44.603971</td>\n",
       "      <td>39.017794</td>\n",
       "      <td>42.016150</td>\n",
       "    </tr>\n",
       "  </tbody>\n",
       "</table>\n",
       "</div>"
      ],
      "text/plain": [
       "SiteName            大里         忠明         沙鹿         西屯         豐原         台中\n",
       "MonitorDate                                                                  \n",
       "01           47.426325  39.693534  42.747000  45.570593  38.991368  42.885764\n",
       "02           47.920932  40.658276  44.541083  47.414492  40.215776  44.150112\n",
       "03           49.416325  42.050603  45.005500  48.116667  41.214522  45.160723\n",
       "04           49.553761  41.299828  44.589417  47.233583  40.630348  44.661387\n",
       "05           50.283017  42.181810  45.373750  48.921417  41.614000  45.674799\n",
       "06           53.244576  43.790259  46.311917  50.479667  42.959052  47.357094\n",
       "07           50.779748  42.506379  44.740083  48.750583  40.868103  45.528979\n",
       "08           46.255917  39.761404  42.529417  46.602167  37.975345  42.624850\n",
       "09           43.284286  35.665929  38.838750  42.633917  35.704224  39.225421\n",
       "10           44.816750  37.313130  40.412167  44.063083  37.960522  40.913130\n",
       "11           46.321008  37.859237  39.569083  44.260917  37.235752  41.049200\n",
       "12           46.403417  39.056949  41.293250  44.728571  38.296053  41.955648\n",
       "13           47.824000  40.071271  42.180750  46.412185  38.710348  43.039711\n",
       "14           46.803833  39.120598  42.444034  45.131513  38.029565  42.305909\n",
       "15           48.202917  40.055776  44.114538  47.018992  39.571391  43.792723\n",
       "16           49.336583  41.954696  43.755714  48.065000  39.641391  44.550677\n",
       "17           49.079417  41.195259  44.433333  48.029496  39.997265  44.546954\n",
       "18           51.997917  44.068547  45.743000  49.901429  41.818793  46.705937\n",
       "19           49.342750  41.770513  44.049083  47.518655  39.545345  44.445269\n",
       "20           52.201167  44.755385  46.406417  50.176639  43.449829  47.397887\n",
       "21           52.192333  43.206410  45.577311  49.715678  40.860684  46.310483\n",
       "22           49.639496  41.048879  44.061356  47.254118  39.212821  44.243334\n",
       "23           45.556610  38.666983  41.816923  45.166780  38.565603  41.954580\n",
       "24           49.000763  41.869237  44.453644  47.877143  39.803621  44.600882\n",
       "25           49.983750  41.174825  44.184872  47.409160  39.647759  44.480073\n",
       "26           49.717167  41.988696  44.151513  48.140084  39.846838  44.768859\n",
       "27           48.430833  41.063162  44.254538  47.262017  40.621111  44.326332\n",
       "28           49.601356  40.692051  44.666303  47.609076  39.646667  44.443090\n",
       "29           51.016306  42.748182  45.230268  48.825133  41.720090  45.907996\n",
       "30           50.364630  41.963925  44.613945  47.197909  40.466296  44.921341\n",
       "31           45.955882  38.608529  41.894571  44.603971  39.017794  42.016150"
      ]
     },
     "execution_count": 12,
     "metadata": {},
     "output_type": "execute_result"
    }
   ],
   "source": [
    "dfall_Dmonth_mean = df_dtest.groupby(['MonitorDate', 'SiteName'])['24Hmean'].mean().unstack(1)\n",
    "dfall_Dmonth_mean['台中'] = dfall_Dmonth_mean.iloc[:,0:5].mean(axis=1)\n",
    "dfall_Dmonth_mean"
   ]
  },
  {
   "cell_type": "code",
   "execution_count": 13,
   "metadata": {},
   "outputs": [
    {
     "data": {
      "application/vnd.plotly.v1+json": {
       "config": {
        "plotlyServerURL": "https://plot.ly"
       },
       "data": [
        {
         "hovertemplate": "區域=大里<br>日期=%{x}<br>平均濃度(μg/m3)=%{y}<extra></extra>",
         "legendgroup": "大里",
         "line": {
          "color": "#636efa",
          "dash": "solid"
         },
         "marker": {
          "symbol": "circle"
         },
         "mode": "markers+lines",
         "name": "大里",
         "orientation": "v",
         "showlegend": true,
         "type": "scatter",
         "x": [
          "01",
          "02",
          "03",
          "04",
          "05",
          "06",
          "07",
          "08",
          "09",
          "10",
          "11",
          "12",
          "13",
          "14",
          "15",
          "16",
          "17",
          "18",
          "19",
          "20",
          "21",
          "22",
          "23",
          "24",
          "25",
          "26",
          "27",
          "28",
          "29",
          "30",
          "31"
         ],
         "xaxis": "x",
         "y": [
          47.426324786324784,
          47.92093220338983,
          49.416324786324786,
          49.553760683760686,
          50.28301724137931,
          53.24457627118644,
          50.779747899159666,
          46.255916666666664,
          43.284285714285716,
          44.81675,
          46.32100840336134,
          46.403416666666665,
          47.824,
          46.80383333333334,
          48.20291666666667,
          49.33658333333334,
          49.07941666666667,
          51.99791666666667,
          49.34275,
          52.20116666666667,
          52.19233333333333,
          49.63949579831933,
          45.55661016949153,
          49.00076271186441,
          49.98375,
          49.71716666666667,
          48.43083333333333,
          49.60135593220339,
          51.01630630630631,
          50.36462962962963,
          45.955882352941174
         ],
         "yaxis": "y"
        },
        {
         "hovertemplate": "區域=忠明<br>日期=%{x}<br>平均濃度(μg/m3)=%{y}<extra></extra>",
         "legendgroup": "忠明",
         "line": {
          "color": "#EF553B",
          "dash": "solid"
         },
         "marker": {
          "symbol": "circle"
         },
         "mode": "markers+lines",
         "name": "忠明",
         "orientation": "v",
         "showlegend": true,
         "type": "scatter",
         "x": [
          "01",
          "02",
          "03",
          "04",
          "05",
          "06",
          "07",
          "08",
          "09",
          "10",
          "11",
          "12",
          "13",
          "14",
          "15",
          "16",
          "17",
          "18",
          "19",
          "20",
          "21",
          "22",
          "23",
          "24",
          "25",
          "26",
          "27",
          "28",
          "29",
          "30",
          "31"
         ],
         "xaxis": "x",
         "y": [
          39.69353448275862,
          40.65827586206896,
          42.05060344827586,
          41.299827586206895,
          42.18181034482759,
          43.790258620689656,
          42.506379310344826,
          39.761403508771934,
          35.665929203539825,
          37.31313043478261,
          37.859237288135596,
          39.05694915254237,
          40.071271186440676,
          39.12059829059829,
          40.05577586206897,
          41.95469565217391,
          41.19525862068965,
          44.068547008547014,
          41.77051282051282,
          44.755384615384614,
          43.20641025641025,
          41.04887931034483,
          38.66698275862069,
          41.869237288135594,
          41.17482456140351,
          41.98869565217391,
          41.06316239316239,
          40.69205128205128,
          42.74818181818182,
          41.963925233644865,
          38.60852941176471
         ],
         "yaxis": "y"
        },
        {
         "hovertemplate": "區域=沙鹿<br>日期=%{x}<br>平均濃度(μg/m3)=%{y}<extra></extra>",
         "legendgroup": "沙鹿",
         "line": {
          "color": "#00cc96",
          "dash": "solid"
         },
         "marker": {
          "symbol": "circle"
         },
         "mode": "markers+lines",
         "name": "沙鹿",
         "orientation": "v",
         "showlegend": true,
         "type": "scatter",
         "x": [
          "01",
          "02",
          "03",
          "04",
          "05",
          "06",
          "07",
          "08",
          "09",
          "10",
          "11",
          "12",
          "13",
          "14",
          "15",
          "16",
          "17",
          "18",
          "19",
          "20",
          "21",
          "22",
          "23",
          "24",
          "25",
          "26",
          "27",
          "28",
          "29",
          "30",
          "31"
         ],
         "xaxis": "x",
         "y": [
          42.747,
          44.54108333333333,
          45.0055,
          44.589416666666665,
          45.37375,
          46.31191666666667,
          44.74008333333334,
          42.52941666666666,
          38.83875,
          40.412166666666664,
          39.56908333333333,
          41.29324999999999,
          42.180749999999996,
          42.44403361344538,
          44.11453781512605,
          43.75571428571429,
          44.43333333333333,
          45.743,
          44.049083333333336,
          46.406416666666665,
          45.57731092436975,
          44.06135593220339,
          41.816923076923075,
          44.45364406779661,
          44.184871794871796,
          44.151512605042015,
          44.25453781512605,
          44.666302521008404,
          45.230267857142856,
          44.61394495412844,
          41.894571428571425
         ],
         "yaxis": "y"
        },
        {
         "hovertemplate": "區域=西屯<br>日期=%{x}<br>平均濃度(μg/m3)=%{y}<extra></extra>",
         "legendgroup": "西屯",
         "line": {
          "color": "#ab63fa",
          "dash": "solid"
         },
         "marker": {
          "symbol": "circle"
         },
         "mode": "markers+lines",
         "name": "西屯",
         "orientation": "v",
         "showlegend": true,
         "type": "scatter",
         "x": [
          "01",
          "02",
          "03",
          "04",
          "05",
          "06",
          "07",
          "08",
          "09",
          "10",
          "11",
          "12",
          "13",
          "14",
          "15",
          "16",
          "17",
          "18",
          "19",
          "20",
          "21",
          "22",
          "23",
          "24",
          "25",
          "26",
          "27",
          "28",
          "29",
          "30",
          "31"
         ],
         "xaxis": "x",
         "y": [
          45.570593220338985,
          47.41449152542373,
          48.11666666666667,
          47.23358333333333,
          48.921416666666666,
          50.47966666666667,
          48.75058333333333,
          46.60216666666667,
          42.633916666666664,
          44.06308333333333,
          44.26091666666667,
          44.72857142857143,
          46.412184873949585,
          45.13151260504201,
          47.01899159663866,
          48.065000000000005,
          48.02949579831933,
          49.901428571428575,
          47.518655462184874,
          50.17663865546218,
          49.715677966101694,
          47.25411764705882,
          45.16677966101695,
          47.87714285714286,
          47.409159663865545,
          48.14008403361345,
          47.26201680672269,
          47.6090756302521,
          48.82513274336283,
          47.19790909090909,
          44.6039705882353
         ],
         "yaxis": "y"
        },
        {
         "hovertemplate": "區域=豐原<br>日期=%{x}<br>平均濃度(μg/m3)=%{y}<extra></extra>",
         "legendgroup": "豐原",
         "line": {
          "color": "#FFA15A",
          "dash": "solid"
         },
         "marker": {
          "symbol": "circle"
         },
         "mode": "markers+lines",
         "name": "豐原",
         "orientation": "v",
         "showlegend": true,
         "type": "scatter",
         "x": [
          "01",
          "02",
          "03",
          "04",
          "05",
          "06",
          "07",
          "08",
          "09",
          "10",
          "11",
          "12",
          "13",
          "14",
          "15",
          "16",
          "17",
          "18",
          "19",
          "20",
          "21",
          "22",
          "23",
          "24",
          "25",
          "26",
          "27",
          "28",
          "29",
          "30",
          "31"
         ],
         "xaxis": "x",
         "y": [
          38.99136752136752,
          40.215775862068966,
          41.21452173913043,
          40.630347826086954,
          41.614,
          42.95905172413793,
          40.86810344827586,
          37.97534482758621,
          35.70422413793103,
          37.960521739130435,
          37.235752212389386,
          38.296052631578945,
          38.71034782608695,
          38.0295652173913,
          39.57139130434783,
          39.64139130434783,
          39.99726495726496,
          41.81879310344827,
          39.545344827586206,
          43.449829059829064,
          40.860683760683756,
          39.21282051282051,
          38.56560344827586,
          39.803620689655176,
          39.64775862068966,
          39.8468376068376,
          40.62111111111111,
          39.64666666666667,
          41.720090090090096,
          40.46629629629629,
          39.01779411764706
         ],
         "yaxis": "y"
        },
        {
         "hovertemplate": "區域=台中<br>日期=%{x}<br>平均濃度(μg/m3)=%{y}<extra></extra>",
         "legendgroup": "台中",
         "line": {
          "color": "#19d3f3",
          "dash": "solid"
         },
         "marker": {
          "symbol": "circle"
         },
         "mode": "markers+lines",
         "name": "台中",
         "orientation": "v",
         "showlegend": true,
         "type": "scatter",
         "x": [
          "01",
          "02",
          "03",
          "04",
          "05",
          "06",
          "07",
          "08",
          "09",
          "10",
          "11",
          "12",
          "13",
          "14",
          "15",
          "16",
          "17",
          "18",
          "19",
          "20",
          "21",
          "22",
          "23",
          "24",
          "25",
          "26",
          "27",
          "28",
          "29",
          "30",
          "31"
         ],
         "xaxis": "x",
         "y": [
          42.885764002157984,
          44.150111757256965,
          45.160723328079555,
          44.66138721921091,
          45.67479885057471,
          47.357093989869476,
          45.5289794648894,
          42.624849667271626,
          39.22542114448465,
          40.91313043478261,
          41.04919958077727,
          41.955647975871884,
          43.03971077729544,
          42.30590861196207,
          43.79272264896964,
          44.55067691511387,
          44.54695387525479,
          46.7059370700181,
          44.44526928872345,
          47.39788713280184,
          46.31048324817975,
          44.243333840149376,
          41.954579822865625,
          44.600881522918925,
          44.4800729281661,
          44.76885931286673,
          44.32633229189112,
          44.44309040643637,
          45.90799576301678,
          44.92134104092166,
          42.016149579831925
         ],
         "yaxis": "y"
        }
       ],
       "layout": {
        "autosize": true,
        "legend": {
         "title": {
          "text": "區域"
         },
         "tracegroupgap": 0
        },
        "margin": {
         "t": 60
        },
        "shapes": [
         {
          "line": {
           "color": "green",
           "dash": "dot",
           "width": 3
          },
          "type": "line",
          "x0": 0,
          "x1": 1,
          "xref": "paper",
          "y0": 35,
          "y1": 35,
          "yref": "y"
         },
         {
          "line": {
           "color": "red",
           "dash": "dot",
           "width": 3
          },
          "type": "line",
          "x0": 0,
          "x1": 1,
          "xref": "paper",
          "y0": 53,
          "y1": 53,
          "yref": "y"
         }
        ],
        "template": {
         "data": {
          "bar": [
           {
            "error_x": {
             "color": "#2a3f5f"
            },
            "error_y": {
             "color": "#2a3f5f"
            },
            "marker": {
             "line": {
              "color": "#E5ECF6",
              "width": 0.5
             },
             "pattern": {
              "fillmode": "overlay",
              "size": 10,
              "solidity": 0.2
             }
            },
            "type": "bar"
           }
          ],
          "barpolar": [
           {
            "marker": {
             "line": {
              "color": "#E5ECF6",
              "width": 0.5
             },
             "pattern": {
              "fillmode": "overlay",
              "size": 10,
              "solidity": 0.2
             }
            },
            "type": "barpolar"
           }
          ],
          "carpet": [
           {
            "aaxis": {
             "endlinecolor": "#2a3f5f",
             "gridcolor": "white",
             "linecolor": "white",
             "minorgridcolor": "white",
             "startlinecolor": "#2a3f5f"
            },
            "baxis": {
             "endlinecolor": "#2a3f5f",
             "gridcolor": "white",
             "linecolor": "white",
             "minorgridcolor": "white",
             "startlinecolor": "#2a3f5f"
            },
            "type": "carpet"
           }
          ],
          "choropleth": [
           {
            "colorbar": {
             "outlinewidth": 0,
             "ticks": ""
            },
            "type": "choropleth"
           }
          ],
          "contour": [
           {
            "colorbar": {
             "outlinewidth": 0,
             "ticks": ""
            },
            "colorscale": [
             [
              0,
              "#0d0887"
             ],
             [
              0.1111111111111111,
              "#46039f"
             ],
             [
              0.2222222222222222,
              "#7201a8"
             ],
             [
              0.3333333333333333,
              "#9c179e"
             ],
             [
              0.4444444444444444,
              "#bd3786"
             ],
             [
              0.5555555555555556,
              "#d8576b"
             ],
             [
              0.6666666666666666,
              "#ed7953"
             ],
             [
              0.7777777777777778,
              "#fb9f3a"
             ],
             [
              0.8888888888888888,
              "#fdca26"
             ],
             [
              1,
              "#f0f921"
             ]
            ],
            "type": "contour"
           }
          ],
          "contourcarpet": [
           {
            "colorbar": {
             "outlinewidth": 0,
             "ticks": ""
            },
            "type": "contourcarpet"
           }
          ],
          "heatmap": [
           {
            "colorbar": {
             "outlinewidth": 0,
             "ticks": ""
            },
            "colorscale": [
             [
              0,
              "#0d0887"
             ],
             [
              0.1111111111111111,
              "#46039f"
             ],
             [
              0.2222222222222222,
              "#7201a8"
             ],
             [
              0.3333333333333333,
              "#9c179e"
             ],
             [
              0.4444444444444444,
              "#bd3786"
             ],
             [
              0.5555555555555556,
              "#d8576b"
             ],
             [
              0.6666666666666666,
              "#ed7953"
             ],
             [
              0.7777777777777778,
              "#fb9f3a"
             ],
             [
              0.8888888888888888,
              "#fdca26"
             ],
             [
              1,
              "#f0f921"
             ]
            ],
            "type": "heatmap"
           }
          ],
          "heatmapgl": [
           {
            "colorbar": {
             "outlinewidth": 0,
             "ticks": ""
            },
            "colorscale": [
             [
              0,
              "#0d0887"
             ],
             [
              0.1111111111111111,
              "#46039f"
             ],
             [
              0.2222222222222222,
              "#7201a8"
             ],
             [
              0.3333333333333333,
              "#9c179e"
             ],
             [
              0.4444444444444444,
              "#bd3786"
             ],
             [
              0.5555555555555556,
              "#d8576b"
             ],
             [
              0.6666666666666666,
              "#ed7953"
             ],
             [
              0.7777777777777778,
              "#fb9f3a"
             ],
             [
              0.8888888888888888,
              "#fdca26"
             ],
             [
              1,
              "#f0f921"
             ]
            ],
            "type": "heatmapgl"
           }
          ],
          "histogram": [
           {
            "marker": {
             "pattern": {
              "fillmode": "overlay",
              "size": 10,
              "solidity": 0.2
             }
            },
            "type": "histogram"
           }
          ],
          "histogram2d": [
           {
            "colorbar": {
             "outlinewidth": 0,
             "ticks": ""
            },
            "colorscale": [
             [
              0,
              "#0d0887"
             ],
             [
              0.1111111111111111,
              "#46039f"
             ],
             [
              0.2222222222222222,
              "#7201a8"
             ],
             [
              0.3333333333333333,
              "#9c179e"
             ],
             [
              0.4444444444444444,
              "#bd3786"
             ],
             [
              0.5555555555555556,
              "#d8576b"
             ],
             [
              0.6666666666666666,
              "#ed7953"
             ],
             [
              0.7777777777777778,
              "#fb9f3a"
             ],
             [
              0.8888888888888888,
              "#fdca26"
             ],
             [
              1,
              "#f0f921"
             ]
            ],
            "type": "histogram2d"
           }
          ],
          "histogram2dcontour": [
           {
            "colorbar": {
             "outlinewidth": 0,
             "ticks": ""
            },
            "colorscale": [
             [
              0,
              "#0d0887"
             ],
             [
              0.1111111111111111,
              "#46039f"
             ],
             [
              0.2222222222222222,
              "#7201a8"
             ],
             [
              0.3333333333333333,
              "#9c179e"
             ],
             [
              0.4444444444444444,
              "#bd3786"
             ],
             [
              0.5555555555555556,
              "#d8576b"
             ],
             [
              0.6666666666666666,
              "#ed7953"
             ],
             [
              0.7777777777777778,
              "#fb9f3a"
             ],
             [
              0.8888888888888888,
              "#fdca26"
             ],
             [
              1,
              "#f0f921"
             ]
            ],
            "type": "histogram2dcontour"
           }
          ],
          "mesh3d": [
           {
            "colorbar": {
             "outlinewidth": 0,
             "ticks": ""
            },
            "type": "mesh3d"
           }
          ],
          "parcoords": [
           {
            "line": {
             "colorbar": {
              "outlinewidth": 0,
              "ticks": ""
             }
            },
            "type": "parcoords"
           }
          ],
          "pie": [
           {
            "automargin": true,
            "type": "pie"
           }
          ],
          "scatter": [
           {
            "marker": {
             "colorbar": {
              "outlinewidth": 0,
              "ticks": ""
             }
            },
            "type": "scatter"
           }
          ],
          "scatter3d": [
           {
            "line": {
             "colorbar": {
              "outlinewidth": 0,
              "ticks": ""
             }
            },
            "marker": {
             "colorbar": {
              "outlinewidth": 0,
              "ticks": ""
             }
            },
            "type": "scatter3d"
           }
          ],
          "scattercarpet": [
           {
            "marker": {
             "colorbar": {
              "outlinewidth": 0,
              "ticks": ""
             }
            },
            "type": "scattercarpet"
           }
          ],
          "scattergeo": [
           {
            "marker": {
             "colorbar": {
              "outlinewidth": 0,
              "ticks": ""
             }
            },
            "type": "scattergeo"
           }
          ],
          "scattergl": [
           {
            "marker": {
             "colorbar": {
              "outlinewidth": 0,
              "ticks": ""
             }
            },
            "type": "scattergl"
           }
          ],
          "scattermapbox": [
           {
            "marker": {
             "colorbar": {
              "outlinewidth": 0,
              "ticks": ""
             }
            },
            "type": "scattermapbox"
           }
          ],
          "scatterpolar": [
           {
            "marker": {
             "colorbar": {
              "outlinewidth": 0,
              "ticks": ""
             }
            },
            "type": "scatterpolar"
           }
          ],
          "scatterpolargl": [
           {
            "marker": {
             "colorbar": {
              "outlinewidth": 0,
              "ticks": ""
             }
            },
            "type": "scatterpolargl"
           }
          ],
          "scatterternary": [
           {
            "marker": {
             "colorbar": {
              "outlinewidth": 0,
              "ticks": ""
             }
            },
            "type": "scatterternary"
           }
          ],
          "surface": [
           {
            "colorbar": {
             "outlinewidth": 0,
             "ticks": ""
            },
            "colorscale": [
             [
              0,
              "#0d0887"
             ],
             [
              0.1111111111111111,
              "#46039f"
             ],
             [
              0.2222222222222222,
              "#7201a8"
             ],
             [
              0.3333333333333333,
              "#9c179e"
             ],
             [
              0.4444444444444444,
              "#bd3786"
             ],
             [
              0.5555555555555556,
              "#d8576b"
             ],
             [
              0.6666666666666666,
              "#ed7953"
             ],
             [
              0.7777777777777778,
              "#fb9f3a"
             ],
             [
              0.8888888888888888,
              "#fdca26"
             ],
             [
              1,
              "#f0f921"
             ]
            ],
            "type": "surface"
           }
          ],
          "table": [
           {
            "cells": {
             "fill": {
              "color": "#EBF0F8"
             },
             "line": {
              "color": "white"
             }
            },
            "header": {
             "fill": {
              "color": "#C8D4E3"
             },
             "line": {
              "color": "white"
             }
            },
            "type": "table"
           }
          ]
         },
         "layout": {
          "annotationdefaults": {
           "arrowcolor": "#2a3f5f",
           "arrowhead": 0,
           "arrowwidth": 1
          },
          "autotypenumbers": "strict",
          "coloraxis": {
           "colorbar": {
            "outlinewidth": 0,
            "ticks": ""
           }
          },
          "colorscale": {
           "diverging": [
            [
             0,
             "#8e0152"
            ],
            [
             0.1,
             "#c51b7d"
            ],
            [
             0.2,
             "#de77ae"
            ],
            [
             0.3,
             "#f1b6da"
            ],
            [
             0.4,
             "#fde0ef"
            ],
            [
             0.5,
             "#f7f7f7"
            ],
            [
             0.6,
             "#e6f5d0"
            ],
            [
             0.7,
             "#b8e186"
            ],
            [
             0.8,
             "#7fbc41"
            ],
            [
             0.9,
             "#4d9221"
            ],
            [
             1,
             "#276419"
            ]
           ],
           "sequential": [
            [
             0,
             "#0d0887"
            ],
            [
             0.1111111111111111,
             "#46039f"
            ],
            [
             0.2222222222222222,
             "#7201a8"
            ],
            [
             0.3333333333333333,
             "#9c179e"
            ],
            [
             0.4444444444444444,
             "#bd3786"
            ],
            [
             0.5555555555555556,
             "#d8576b"
            ],
            [
             0.6666666666666666,
             "#ed7953"
            ],
            [
             0.7777777777777778,
             "#fb9f3a"
            ],
            [
             0.8888888888888888,
             "#fdca26"
            ],
            [
             1,
             "#f0f921"
            ]
           ],
           "sequentialminus": [
            [
             0,
             "#0d0887"
            ],
            [
             0.1111111111111111,
             "#46039f"
            ],
            [
             0.2222222222222222,
             "#7201a8"
            ],
            [
             0.3333333333333333,
             "#9c179e"
            ],
            [
             0.4444444444444444,
             "#bd3786"
            ],
            [
             0.5555555555555556,
             "#d8576b"
            ],
            [
             0.6666666666666666,
             "#ed7953"
            ],
            [
             0.7777777777777778,
             "#fb9f3a"
            ],
            [
             0.8888888888888888,
             "#fdca26"
            ],
            [
             1,
             "#f0f921"
            ]
           ]
          },
          "colorway": [
           "#636efa",
           "#EF553B",
           "#00cc96",
           "#ab63fa",
           "#FFA15A",
           "#19d3f3",
           "#FF6692",
           "#B6E880",
           "#FF97FF",
           "#FECB52"
          ],
          "font": {
           "color": "#2a3f5f"
          },
          "geo": {
           "bgcolor": "white",
           "lakecolor": "white",
           "landcolor": "#E5ECF6",
           "showlakes": true,
           "showland": true,
           "subunitcolor": "white"
          },
          "hoverlabel": {
           "align": "left"
          },
          "hovermode": "closest",
          "mapbox": {
           "style": "light"
          },
          "paper_bgcolor": "white",
          "plot_bgcolor": "#E5ECF6",
          "polar": {
           "angularaxis": {
            "gridcolor": "white",
            "linecolor": "white",
            "ticks": ""
           },
           "bgcolor": "#E5ECF6",
           "radialaxis": {
            "gridcolor": "white",
            "linecolor": "white",
            "ticks": ""
           }
          },
          "scene": {
           "xaxis": {
            "backgroundcolor": "#E5ECF6",
            "gridcolor": "white",
            "gridwidth": 2,
            "linecolor": "white",
            "showbackground": true,
            "ticks": "",
            "zerolinecolor": "white"
           },
           "yaxis": {
            "backgroundcolor": "#E5ECF6",
            "gridcolor": "white",
            "gridwidth": 2,
            "linecolor": "white",
            "showbackground": true,
            "ticks": "",
            "zerolinecolor": "white"
           },
           "zaxis": {
            "backgroundcolor": "#E5ECF6",
            "gridcolor": "white",
            "gridwidth": 2,
            "linecolor": "white",
            "showbackground": true,
            "ticks": "",
            "zerolinecolor": "white"
           }
          },
          "shapedefaults": {
           "line": {
            "color": "#2a3f5f"
           }
          },
          "ternary": {
           "aaxis": {
            "gridcolor": "white",
            "linecolor": "white",
            "ticks": ""
           },
           "baxis": {
            "gridcolor": "white",
            "linecolor": "white",
            "ticks": ""
           },
           "bgcolor": "#E5ECF6",
           "caxis": {
            "gridcolor": "white",
            "linecolor": "white",
            "ticks": ""
           }
          },
          "title": {
           "x": 0.05
          },
          "xaxis": {
           "automargin": true,
           "gridcolor": "white",
           "linecolor": "white",
           "ticks": "",
           "title": {
            "standoff": 15
           },
           "zerolinecolor": "white",
           "zerolinewidth": 2
          },
          "yaxis": {
           "automargin": true,
           "gridcolor": "white",
           "linecolor": "white",
           "ticks": "",
           "title": {
            "standoff": 15
           },
           "zerolinecolor": "white",
           "zerolinewidth": 2
          }
         }
        },
        "title": {
         "font": {
          "size": 30
         },
         "text": "台中各測站PM2.5濃度十年月平均值",
         "x": 0.5
        },
        "xaxis": {
         "anchor": "y",
         "domain": [
          0,
          1
         ],
         "range": [
          0,
          30
         ],
         "title": {
          "text": "日期"
         },
         "type": "category"
        },
        "yaxis": {
         "anchor": "x",
         "autorange": true,
         "domain": [
          0,
          1
         ],
         "range": [
          34.41956104128496,
          54.49094443344131
         ],
         "title": {
          "text": "平均濃度(μg/m3)"
         },
         "type": "linear"
        }
       }
      },
      "text/html": [
       "<div>                            <div id=\"3d390ad1-64f4-47a5-b1a1-7ca5b6f11985\" class=\"plotly-graph-div\" style=\"height:525px; width:100%;\"></div>            <script type=\"text/javascript\">                require([\"plotly\"], function(Plotly) {                    window.PLOTLYENV=window.PLOTLYENV || {};                                    if (document.getElementById(\"3d390ad1-64f4-47a5-b1a1-7ca5b6f11985\")) {                    Plotly.newPlot(                        \"3d390ad1-64f4-47a5-b1a1-7ca5b6f11985\",                        [{\"hovertemplate\":\"\\u5340\\u57df=\\u5927\\u91cc<br>\\u65e5\\u671f=%{x}<br>\\u5e73\\u5747\\u6fc3\\u5ea6(\\u03bcg/m3)=%{y}<extra></extra>\",\"legendgroup\":\"\\u5927\\u91cc\",\"line\":{\"color\":\"#636efa\",\"dash\":\"solid\"},\"marker\":{\"symbol\":\"circle\"},\"mode\":\"markers+lines\",\"name\":\"\\u5927\\u91cc\",\"orientation\":\"v\",\"showlegend\":true,\"type\":\"scatter\",\"x\":[\"01\",\"02\",\"03\",\"04\",\"05\",\"06\",\"07\",\"08\",\"09\",\"10\",\"11\",\"12\",\"13\",\"14\",\"15\",\"16\",\"17\",\"18\",\"19\",\"20\",\"21\",\"22\",\"23\",\"24\",\"25\",\"26\",\"27\",\"28\",\"29\",\"30\",\"31\"],\"xaxis\":\"x\",\"y\":[47.426324786324784,47.92093220338983,49.416324786324786,49.553760683760686,50.28301724137931,53.24457627118644,50.779747899159666,46.255916666666664,43.284285714285716,44.81675,46.32100840336134,46.403416666666665,47.824,46.80383333333334,48.20291666666667,49.33658333333334,49.07941666666667,51.99791666666667,49.34275,52.20116666666667,52.19233333333333,49.63949579831933,45.55661016949153,49.00076271186441,49.98375,49.71716666666667,48.43083333333333,49.60135593220339,51.01630630630631,50.36462962962963,45.955882352941174],\"yaxis\":\"y\"},{\"hovertemplate\":\"\\u5340\\u57df=\\u5fe0\\u660e<br>\\u65e5\\u671f=%{x}<br>\\u5e73\\u5747\\u6fc3\\u5ea6(\\u03bcg/m3)=%{y}<extra></extra>\",\"legendgroup\":\"\\u5fe0\\u660e\",\"line\":{\"color\":\"#EF553B\",\"dash\":\"solid\"},\"marker\":{\"symbol\":\"circle\"},\"mode\":\"markers+lines\",\"name\":\"\\u5fe0\\u660e\",\"orientation\":\"v\",\"showlegend\":true,\"type\":\"scatter\",\"x\":[\"01\",\"02\",\"03\",\"04\",\"05\",\"06\",\"07\",\"08\",\"09\",\"10\",\"11\",\"12\",\"13\",\"14\",\"15\",\"16\",\"17\",\"18\",\"19\",\"20\",\"21\",\"22\",\"23\",\"24\",\"25\",\"26\",\"27\",\"28\",\"29\",\"30\",\"31\"],\"xaxis\":\"x\",\"y\":[39.69353448275862,40.65827586206896,42.05060344827586,41.299827586206895,42.18181034482759,43.790258620689656,42.506379310344826,39.761403508771934,35.665929203539825,37.31313043478261,37.859237288135596,39.05694915254237,40.071271186440676,39.12059829059829,40.05577586206897,41.95469565217391,41.19525862068965,44.068547008547014,41.77051282051282,44.755384615384614,43.20641025641025,41.04887931034483,38.66698275862069,41.869237288135594,41.17482456140351,41.98869565217391,41.06316239316239,40.69205128205128,42.74818181818182,41.963925233644865,38.60852941176471],\"yaxis\":\"y\"},{\"hovertemplate\":\"\\u5340\\u57df=\\u6c99\\u9e7f<br>\\u65e5\\u671f=%{x}<br>\\u5e73\\u5747\\u6fc3\\u5ea6(\\u03bcg/m3)=%{y}<extra></extra>\",\"legendgroup\":\"\\u6c99\\u9e7f\",\"line\":{\"color\":\"#00cc96\",\"dash\":\"solid\"},\"marker\":{\"symbol\":\"circle\"},\"mode\":\"markers+lines\",\"name\":\"\\u6c99\\u9e7f\",\"orientation\":\"v\",\"showlegend\":true,\"type\":\"scatter\",\"x\":[\"01\",\"02\",\"03\",\"04\",\"05\",\"06\",\"07\",\"08\",\"09\",\"10\",\"11\",\"12\",\"13\",\"14\",\"15\",\"16\",\"17\",\"18\",\"19\",\"20\",\"21\",\"22\",\"23\",\"24\",\"25\",\"26\",\"27\",\"28\",\"29\",\"30\",\"31\"],\"xaxis\":\"x\",\"y\":[42.747,44.54108333333333,45.0055,44.589416666666665,45.37375,46.31191666666667,44.74008333333334,42.52941666666666,38.83875,40.412166666666664,39.56908333333333,41.29324999999999,42.180749999999996,42.44403361344538,44.11453781512605,43.75571428571429,44.43333333333333,45.743,44.049083333333336,46.406416666666665,45.57731092436975,44.06135593220339,41.816923076923075,44.45364406779661,44.184871794871796,44.151512605042015,44.25453781512605,44.666302521008404,45.230267857142856,44.61394495412844,41.894571428571425],\"yaxis\":\"y\"},{\"hovertemplate\":\"\\u5340\\u57df=\\u897f\\u5c6f<br>\\u65e5\\u671f=%{x}<br>\\u5e73\\u5747\\u6fc3\\u5ea6(\\u03bcg/m3)=%{y}<extra></extra>\",\"legendgroup\":\"\\u897f\\u5c6f\",\"line\":{\"color\":\"#ab63fa\",\"dash\":\"solid\"},\"marker\":{\"symbol\":\"circle\"},\"mode\":\"markers+lines\",\"name\":\"\\u897f\\u5c6f\",\"orientation\":\"v\",\"showlegend\":true,\"type\":\"scatter\",\"x\":[\"01\",\"02\",\"03\",\"04\",\"05\",\"06\",\"07\",\"08\",\"09\",\"10\",\"11\",\"12\",\"13\",\"14\",\"15\",\"16\",\"17\",\"18\",\"19\",\"20\",\"21\",\"22\",\"23\",\"24\",\"25\",\"26\",\"27\",\"28\",\"29\",\"30\",\"31\"],\"xaxis\":\"x\",\"y\":[45.570593220338985,47.41449152542373,48.11666666666667,47.23358333333333,48.921416666666666,50.47966666666667,48.75058333333333,46.60216666666667,42.633916666666664,44.06308333333333,44.26091666666667,44.72857142857143,46.412184873949585,45.13151260504201,47.01899159663866,48.065000000000005,48.02949579831933,49.901428571428575,47.518655462184874,50.17663865546218,49.715677966101694,47.25411764705882,45.16677966101695,47.87714285714286,47.409159663865545,48.14008403361345,47.26201680672269,47.6090756302521,48.82513274336283,47.19790909090909,44.6039705882353],\"yaxis\":\"y\"},{\"hovertemplate\":\"\\u5340\\u57df=\\u8c50\\u539f<br>\\u65e5\\u671f=%{x}<br>\\u5e73\\u5747\\u6fc3\\u5ea6(\\u03bcg/m3)=%{y}<extra></extra>\",\"legendgroup\":\"\\u8c50\\u539f\",\"line\":{\"color\":\"#FFA15A\",\"dash\":\"solid\"},\"marker\":{\"symbol\":\"circle\"},\"mode\":\"markers+lines\",\"name\":\"\\u8c50\\u539f\",\"orientation\":\"v\",\"showlegend\":true,\"type\":\"scatter\",\"x\":[\"01\",\"02\",\"03\",\"04\",\"05\",\"06\",\"07\",\"08\",\"09\",\"10\",\"11\",\"12\",\"13\",\"14\",\"15\",\"16\",\"17\",\"18\",\"19\",\"20\",\"21\",\"22\",\"23\",\"24\",\"25\",\"26\",\"27\",\"28\",\"29\",\"30\",\"31\"],\"xaxis\":\"x\",\"y\":[38.99136752136752,40.215775862068966,41.21452173913043,40.630347826086954,41.614,42.95905172413793,40.86810344827586,37.97534482758621,35.70422413793103,37.960521739130435,37.235752212389386,38.296052631578945,38.71034782608695,38.0295652173913,39.57139130434783,39.64139130434783,39.99726495726496,41.81879310344827,39.545344827586206,43.449829059829064,40.860683760683756,39.21282051282051,38.56560344827586,39.803620689655176,39.64775862068966,39.8468376068376,40.62111111111111,39.64666666666667,41.720090090090096,40.46629629629629,39.01779411764706],\"yaxis\":\"y\"},{\"hovertemplate\":\"\\u5340\\u57df=\\u53f0\\u4e2d<br>\\u65e5\\u671f=%{x}<br>\\u5e73\\u5747\\u6fc3\\u5ea6(\\u03bcg/m3)=%{y}<extra></extra>\",\"legendgroup\":\"\\u53f0\\u4e2d\",\"line\":{\"color\":\"#19d3f3\",\"dash\":\"solid\"},\"marker\":{\"symbol\":\"circle\"},\"mode\":\"markers+lines\",\"name\":\"\\u53f0\\u4e2d\",\"orientation\":\"v\",\"showlegend\":true,\"type\":\"scatter\",\"x\":[\"01\",\"02\",\"03\",\"04\",\"05\",\"06\",\"07\",\"08\",\"09\",\"10\",\"11\",\"12\",\"13\",\"14\",\"15\",\"16\",\"17\",\"18\",\"19\",\"20\",\"21\",\"22\",\"23\",\"24\",\"25\",\"26\",\"27\",\"28\",\"29\",\"30\",\"31\"],\"xaxis\":\"x\",\"y\":[42.885764002157984,44.150111757256965,45.160723328079555,44.66138721921091,45.67479885057471,47.357093989869476,45.5289794648894,42.624849667271626,39.22542114448465,40.91313043478261,41.04919958077727,41.955647975871884,43.03971077729544,42.30590861196207,43.79272264896964,44.55067691511387,44.54695387525479,46.7059370700181,44.44526928872345,47.39788713280184,46.31048324817975,44.243333840149376,41.954579822865625,44.600881522918925,44.4800729281661,44.76885931286673,44.32633229189112,44.44309040643637,45.90799576301678,44.92134104092166,42.016149579831925],\"yaxis\":\"y\"}],                        {\"legend\":{\"title\":{\"text\":\"\\u5340\\u57df\"},\"tracegroupgap\":0},\"margin\":{\"t\":60},\"shapes\":[{\"line\":{\"color\":\"green\",\"dash\":\"dot\",\"width\":3},\"type\":\"line\",\"x0\":0,\"x1\":1,\"xref\":\"paper\",\"y0\":35,\"y1\":35,\"yref\":\"y\"},{\"line\":{\"color\":\"red\",\"dash\":\"dot\",\"width\":3},\"type\":\"line\",\"x0\":0,\"x1\":1,\"xref\":\"paper\",\"y0\":53,\"y1\":53,\"yref\":\"y\"}],\"template\":{\"data\":{\"bar\":[{\"error_x\":{\"color\":\"#2a3f5f\"},\"error_y\":{\"color\":\"#2a3f5f\"},\"marker\":{\"line\":{\"color\":\"#E5ECF6\",\"width\":0.5},\"pattern\":{\"fillmode\":\"overlay\",\"size\":10,\"solidity\":0.2}},\"type\":\"bar\"}],\"barpolar\":[{\"marker\":{\"line\":{\"color\":\"#E5ECF6\",\"width\":0.5},\"pattern\":{\"fillmode\":\"overlay\",\"size\":10,\"solidity\":0.2}},\"type\":\"barpolar\"}],\"carpet\":[{\"aaxis\":{\"endlinecolor\":\"#2a3f5f\",\"gridcolor\":\"white\",\"linecolor\":\"white\",\"minorgridcolor\":\"white\",\"startlinecolor\":\"#2a3f5f\"},\"baxis\":{\"endlinecolor\":\"#2a3f5f\",\"gridcolor\":\"white\",\"linecolor\":\"white\",\"minorgridcolor\":\"white\",\"startlinecolor\":\"#2a3f5f\"},\"type\":\"carpet\"}],\"choropleth\":[{\"colorbar\":{\"outlinewidth\":0,\"ticks\":\"\"},\"type\":\"choropleth\"}],\"contour\":[{\"colorbar\":{\"outlinewidth\":0,\"ticks\":\"\"},\"colorscale\":[[0.0,\"#0d0887\"],[0.1111111111111111,\"#46039f\"],[0.2222222222222222,\"#7201a8\"],[0.3333333333333333,\"#9c179e\"],[0.4444444444444444,\"#bd3786\"],[0.5555555555555556,\"#d8576b\"],[0.6666666666666666,\"#ed7953\"],[0.7777777777777778,\"#fb9f3a\"],[0.8888888888888888,\"#fdca26\"],[1.0,\"#f0f921\"]],\"type\":\"contour\"}],\"contourcarpet\":[{\"colorbar\":{\"outlinewidth\":0,\"ticks\":\"\"},\"type\":\"contourcarpet\"}],\"heatmap\":[{\"colorbar\":{\"outlinewidth\":0,\"ticks\":\"\"},\"colorscale\":[[0.0,\"#0d0887\"],[0.1111111111111111,\"#46039f\"],[0.2222222222222222,\"#7201a8\"],[0.3333333333333333,\"#9c179e\"],[0.4444444444444444,\"#bd3786\"],[0.5555555555555556,\"#d8576b\"],[0.6666666666666666,\"#ed7953\"],[0.7777777777777778,\"#fb9f3a\"],[0.8888888888888888,\"#fdca26\"],[1.0,\"#f0f921\"]],\"type\":\"heatmap\"}],\"heatmapgl\":[{\"colorbar\":{\"outlinewidth\":0,\"ticks\":\"\"},\"colorscale\":[[0.0,\"#0d0887\"],[0.1111111111111111,\"#46039f\"],[0.2222222222222222,\"#7201a8\"],[0.3333333333333333,\"#9c179e\"],[0.4444444444444444,\"#bd3786\"],[0.5555555555555556,\"#d8576b\"],[0.6666666666666666,\"#ed7953\"],[0.7777777777777778,\"#fb9f3a\"],[0.8888888888888888,\"#fdca26\"],[1.0,\"#f0f921\"]],\"type\":\"heatmapgl\"}],\"histogram\":[{\"marker\":{\"pattern\":{\"fillmode\":\"overlay\",\"size\":10,\"solidity\":0.2}},\"type\":\"histogram\"}],\"histogram2d\":[{\"colorbar\":{\"outlinewidth\":0,\"ticks\":\"\"},\"colorscale\":[[0.0,\"#0d0887\"],[0.1111111111111111,\"#46039f\"],[0.2222222222222222,\"#7201a8\"],[0.3333333333333333,\"#9c179e\"],[0.4444444444444444,\"#bd3786\"],[0.5555555555555556,\"#d8576b\"],[0.6666666666666666,\"#ed7953\"],[0.7777777777777778,\"#fb9f3a\"],[0.8888888888888888,\"#fdca26\"],[1.0,\"#f0f921\"]],\"type\":\"histogram2d\"}],\"histogram2dcontour\":[{\"colorbar\":{\"outlinewidth\":0,\"ticks\":\"\"},\"colorscale\":[[0.0,\"#0d0887\"],[0.1111111111111111,\"#46039f\"],[0.2222222222222222,\"#7201a8\"],[0.3333333333333333,\"#9c179e\"],[0.4444444444444444,\"#bd3786\"],[0.5555555555555556,\"#d8576b\"],[0.6666666666666666,\"#ed7953\"],[0.7777777777777778,\"#fb9f3a\"],[0.8888888888888888,\"#fdca26\"],[1.0,\"#f0f921\"]],\"type\":\"histogram2dcontour\"}],\"mesh3d\":[{\"colorbar\":{\"outlinewidth\":0,\"ticks\":\"\"},\"type\":\"mesh3d\"}],\"parcoords\":[{\"line\":{\"colorbar\":{\"outlinewidth\":0,\"ticks\":\"\"}},\"type\":\"parcoords\"}],\"pie\":[{\"automargin\":true,\"type\":\"pie\"}],\"scatter\":[{\"marker\":{\"colorbar\":{\"outlinewidth\":0,\"ticks\":\"\"}},\"type\":\"scatter\"}],\"scatter3d\":[{\"line\":{\"colorbar\":{\"outlinewidth\":0,\"ticks\":\"\"}},\"marker\":{\"colorbar\":{\"outlinewidth\":0,\"ticks\":\"\"}},\"type\":\"scatter3d\"}],\"scattercarpet\":[{\"marker\":{\"colorbar\":{\"outlinewidth\":0,\"ticks\":\"\"}},\"type\":\"scattercarpet\"}],\"scattergeo\":[{\"marker\":{\"colorbar\":{\"outlinewidth\":0,\"ticks\":\"\"}},\"type\":\"scattergeo\"}],\"scattergl\":[{\"marker\":{\"colorbar\":{\"outlinewidth\":0,\"ticks\":\"\"}},\"type\":\"scattergl\"}],\"scattermapbox\":[{\"marker\":{\"colorbar\":{\"outlinewidth\":0,\"ticks\":\"\"}},\"type\":\"scattermapbox\"}],\"scatterpolar\":[{\"marker\":{\"colorbar\":{\"outlinewidth\":0,\"ticks\":\"\"}},\"type\":\"scatterpolar\"}],\"scatterpolargl\":[{\"marker\":{\"colorbar\":{\"outlinewidth\":0,\"ticks\":\"\"}},\"type\":\"scatterpolargl\"}],\"scatterternary\":[{\"marker\":{\"colorbar\":{\"outlinewidth\":0,\"ticks\":\"\"}},\"type\":\"scatterternary\"}],\"surface\":[{\"colorbar\":{\"outlinewidth\":0,\"ticks\":\"\"},\"colorscale\":[[0.0,\"#0d0887\"],[0.1111111111111111,\"#46039f\"],[0.2222222222222222,\"#7201a8\"],[0.3333333333333333,\"#9c179e\"],[0.4444444444444444,\"#bd3786\"],[0.5555555555555556,\"#d8576b\"],[0.6666666666666666,\"#ed7953\"],[0.7777777777777778,\"#fb9f3a\"],[0.8888888888888888,\"#fdca26\"],[1.0,\"#f0f921\"]],\"type\":\"surface\"}],\"table\":[{\"cells\":{\"fill\":{\"color\":\"#EBF0F8\"},\"line\":{\"color\":\"white\"}},\"header\":{\"fill\":{\"color\":\"#C8D4E3\"},\"line\":{\"color\":\"white\"}},\"type\":\"table\"}]},\"layout\":{\"annotationdefaults\":{\"arrowcolor\":\"#2a3f5f\",\"arrowhead\":0,\"arrowwidth\":1},\"autotypenumbers\":\"strict\",\"coloraxis\":{\"colorbar\":{\"outlinewidth\":0,\"ticks\":\"\"}},\"colorscale\":{\"diverging\":[[0,\"#8e0152\"],[0.1,\"#c51b7d\"],[0.2,\"#de77ae\"],[0.3,\"#f1b6da\"],[0.4,\"#fde0ef\"],[0.5,\"#f7f7f7\"],[0.6,\"#e6f5d0\"],[0.7,\"#b8e186\"],[0.8,\"#7fbc41\"],[0.9,\"#4d9221\"],[1,\"#276419\"]],\"sequential\":[[0.0,\"#0d0887\"],[0.1111111111111111,\"#46039f\"],[0.2222222222222222,\"#7201a8\"],[0.3333333333333333,\"#9c179e\"],[0.4444444444444444,\"#bd3786\"],[0.5555555555555556,\"#d8576b\"],[0.6666666666666666,\"#ed7953\"],[0.7777777777777778,\"#fb9f3a\"],[0.8888888888888888,\"#fdca26\"],[1.0,\"#f0f921\"]],\"sequentialminus\":[[0.0,\"#0d0887\"],[0.1111111111111111,\"#46039f\"],[0.2222222222222222,\"#7201a8\"],[0.3333333333333333,\"#9c179e\"],[0.4444444444444444,\"#bd3786\"],[0.5555555555555556,\"#d8576b\"],[0.6666666666666666,\"#ed7953\"],[0.7777777777777778,\"#fb9f3a\"],[0.8888888888888888,\"#fdca26\"],[1.0,\"#f0f921\"]]},\"colorway\":[\"#636efa\",\"#EF553B\",\"#00cc96\",\"#ab63fa\",\"#FFA15A\",\"#19d3f3\",\"#FF6692\",\"#B6E880\",\"#FF97FF\",\"#FECB52\"],\"font\":{\"color\":\"#2a3f5f\"},\"geo\":{\"bgcolor\":\"white\",\"lakecolor\":\"white\",\"landcolor\":\"#E5ECF6\",\"showlakes\":true,\"showland\":true,\"subunitcolor\":\"white\"},\"hoverlabel\":{\"align\":\"left\"},\"hovermode\":\"closest\",\"mapbox\":{\"style\":\"light\"},\"paper_bgcolor\":\"white\",\"plot_bgcolor\":\"#E5ECF6\",\"polar\":{\"angularaxis\":{\"gridcolor\":\"white\",\"linecolor\":\"white\",\"ticks\":\"\"},\"bgcolor\":\"#E5ECF6\",\"radialaxis\":{\"gridcolor\":\"white\",\"linecolor\":\"white\",\"ticks\":\"\"}},\"scene\":{\"xaxis\":{\"backgroundcolor\":\"#E5ECF6\",\"gridcolor\":\"white\",\"gridwidth\":2,\"linecolor\":\"white\",\"showbackground\":true,\"ticks\":\"\",\"zerolinecolor\":\"white\"},\"yaxis\":{\"backgroundcolor\":\"#E5ECF6\",\"gridcolor\":\"white\",\"gridwidth\":2,\"linecolor\":\"white\",\"showbackground\":true,\"ticks\":\"\",\"zerolinecolor\":\"white\"},\"zaxis\":{\"backgroundcolor\":\"#E5ECF6\",\"gridcolor\":\"white\",\"gridwidth\":2,\"linecolor\":\"white\",\"showbackground\":true,\"ticks\":\"\",\"zerolinecolor\":\"white\"}},\"shapedefaults\":{\"line\":{\"color\":\"#2a3f5f\"}},\"ternary\":{\"aaxis\":{\"gridcolor\":\"white\",\"linecolor\":\"white\",\"ticks\":\"\"},\"baxis\":{\"gridcolor\":\"white\",\"linecolor\":\"white\",\"ticks\":\"\"},\"bgcolor\":\"#E5ECF6\",\"caxis\":{\"gridcolor\":\"white\",\"linecolor\":\"white\",\"ticks\":\"\"}},\"title\":{\"x\":0.05},\"xaxis\":{\"automargin\":true,\"gridcolor\":\"white\",\"linecolor\":\"white\",\"ticks\":\"\",\"title\":{\"standoff\":15},\"zerolinecolor\":\"white\",\"zerolinewidth\":2},\"yaxis\":{\"automargin\":true,\"gridcolor\":\"white\",\"linecolor\":\"white\",\"ticks\":\"\",\"title\":{\"standoff\":15},\"zerolinecolor\":\"white\",\"zerolinewidth\":2}}},\"title\":{\"font\":{\"size\":30},\"text\":\"\\u53f0\\u4e2d\\u5404\\u6e2c\\u7ad9PM2.5\\u6fc3\\u5ea6\\u5341\\u5e74\\u6708\\u5e73\\u5747\\u503c\",\"x\":0.5},\"xaxis\":{\"anchor\":\"y\",\"domain\":[0.0,1.0],\"range\":[0,30],\"title\":{\"text\":\"\\u65e5\\u671f\"}},\"yaxis\":{\"anchor\":\"x\",\"domain\":[0.0,1.0],\"title\":{\"text\":\"\\u5e73\\u5747\\u6fc3\\u5ea6(\\u03bcg/m3)\"}}},                        {\"responsive\": true}                    ).then(function(){\n",
       "                            \n",
       "var gd = document.getElementById('3d390ad1-64f4-47a5-b1a1-7ca5b6f11985');\n",
       "var x = new MutationObserver(function (mutations, observer) {{\n",
       "        var display = window.getComputedStyle(gd).display;\n",
       "        if (!display || display === 'none') {{\n",
       "            console.log([gd, 'removed!']);\n",
       "            Plotly.purge(gd);\n",
       "            observer.disconnect();\n",
       "        }}\n",
       "}});\n",
       "\n",
       "// Listen for the removal of the full notebook cells\n",
       "var notebookContainer = gd.closest('#notebook-container');\n",
       "if (notebookContainer) {{\n",
       "    x.observe(notebookContainer, {childList: true});\n",
       "}}\n",
       "\n",
       "// Listen for the clearing of the current output cell\n",
       "var outputEl = gd.closest('.output');\n",
       "if (outputEl) {{\n",
       "    x.observe(outputEl, {childList: true});\n",
       "}}\n",
       "\n",
       "                        })                };                });            </script>        </div>"
      ]
     },
     "metadata": {},
     "output_type": "display_data"
    }
   ],
   "source": [
    "fig=px.line(\n",
    "    dfall_Dmonth_mean, x=dfall_Dmonth_mean.index, y=dfall_Dmonth_mean.columns,\n",
    "    labels={\"value\": \"平均濃度(μg/m3)\", \"SiteName\": \"區域\", 'MonitorDate':'日期'},\n",
    ")\n",
    "\n",
    "fig.update_traces(mode='markers+lines')\n",
    "\n",
    "fig.update_layout(\n",
    "    title_text='台中各測站PM2.5濃度十年月平均值',\n",
    "    title_font_size=30,\n",
    "    title_x=0.5,\n",
    "    xaxis_range=[0, 30]\n",
    ")\n",
    "\n",
    "fig.add_shape( # add a horizontal \"target\" line\n",
    "    type=\"line\", line_color=\"green\", line_width=3, line_dash=\"dot\",\n",
    "    x0=0, x1=1, xref=\"paper\", y0=35, y1=35, yref=\"y\"\n",
    ")\n",
    "\n",
    "fig.add_shape( # add a horizontal \"target\" line\n",
    "    type=\"line\", line_color=\"red\", line_width=3, line_dash=\"dot\",\n",
    "    x0=0, x1=1, xref=\"paper\", y0=53, y1=53, yref=\"y\"\n",
    ")\n",
    "\n",
    "fig.show()"
   ]
  },
  {
   "cell_type": "markdown",
   "metadata": {},
   "source": [
    "# 年平均"
   ]
  },
  {
   "cell_type": "code",
   "execution_count": 14,
   "metadata": {},
   "outputs": [
    {
     "data": {
      "text/html": [
       "<div>\n",
       "<style scoped>\n",
       "    .dataframe tbody tr th:only-of-type {\n",
       "        vertical-align: middle;\n",
       "    }\n",
       "\n",
       "    .dataframe tbody tr th {\n",
       "        vertical-align: top;\n",
       "    }\n",
       "\n",
       "    .dataframe thead th {\n",
       "        text-align: right;\n",
       "    }\n",
       "</style>\n",
       "<table border=\"1\" class=\"dataframe\">\n",
       "  <thead>\n",
       "    <tr style=\"text-align: right;\">\n",
       "      <th></th>\n",
       "      <th>SiteName</th>\n",
       "      <th>ItemName</th>\n",
       "      <th>MonitorDate</th>\n",
       "      <th>MonitorValue00</th>\n",
       "      <th>MonitorValue01</th>\n",
       "      <th>MonitorValue02</th>\n",
       "      <th>MonitorValue03</th>\n",
       "      <th>MonitorValue04</th>\n",
       "      <th>MonitorValue05</th>\n",
       "      <th>MonitorValue06</th>\n",
       "      <th>...</th>\n",
       "      <th>MonitorValue15</th>\n",
       "      <th>MonitorValue16</th>\n",
       "      <th>MonitorValue17</th>\n",
       "      <th>MonitorValue18</th>\n",
       "      <th>MonitorValue19</th>\n",
       "      <th>MonitorValue20</th>\n",
       "      <th>MonitorValue21</th>\n",
       "      <th>MonitorValue22</th>\n",
       "      <th>MonitorValue23</th>\n",
       "      <th>24Hmean</th>\n",
       "    </tr>\n",
       "  </thead>\n",
       "  <tbody>\n",
       "    <tr>\n",
       "      <th>0</th>\n",
       "      <td>豐原</td>\n",
       "      <td>懸浮微粒</td>\n",
       "      <td>01</td>\n",
       "      <td>45.0</td>\n",
       "      <td>48.0</td>\n",
       "      <td>40.0</td>\n",
       "      <td>37.0</td>\n",
       "      <td>45.0</td>\n",
       "      <td>42.0</td>\n",
       "      <td>31.0</td>\n",
       "      <td>...</td>\n",
       "      <td>80.0</td>\n",
       "      <td>77.0</td>\n",
       "      <td>71.0</td>\n",
       "      <td>59.0</td>\n",
       "      <td>60.0</td>\n",
       "      <td>58.0</td>\n",
       "      <td>60.0</td>\n",
       "      <td>58.0</td>\n",
       "      <td>47.0</td>\n",
       "      <td>52.17</td>\n",
       "    </tr>\n",
       "    <tr>\n",
       "      <th>1</th>\n",
       "      <td>沙鹿</td>\n",
       "      <td>懸浮微粒</td>\n",
       "      <td>01</td>\n",
       "      <td>NaN</td>\n",
       "      <td>NaN</td>\n",
       "      <td>NaN</td>\n",
       "      <td>NaN</td>\n",
       "      <td>NaN</td>\n",
       "      <td>NaN</td>\n",
       "      <td>NaN</td>\n",
       "      <td>...</td>\n",
       "      <td>76.0</td>\n",
       "      <td>70.0</td>\n",
       "      <td>61.0</td>\n",
       "      <td>48.0</td>\n",
       "      <td>40.0</td>\n",
       "      <td>38.0</td>\n",
       "      <td>34.0</td>\n",
       "      <td>33.0</td>\n",
       "      <td>34.0</td>\n",
       "      <td>53.00</td>\n",
       "    </tr>\n",
       "    <tr>\n",
       "      <th>2</th>\n",
       "      <td>大里</td>\n",
       "      <td>懸浮微粒</td>\n",
       "      <td>01</td>\n",
       "      <td>87.0</td>\n",
       "      <td>78.0</td>\n",
       "      <td>62.0</td>\n",
       "      <td>50.0</td>\n",
       "      <td>52.0</td>\n",
       "      <td>56.0</td>\n",
       "      <td>60.0</td>\n",
       "      <td>...</td>\n",
       "      <td>63.0</td>\n",
       "      <td>70.0</td>\n",
       "      <td>72.0</td>\n",
       "      <td>71.0</td>\n",
       "      <td>68.0</td>\n",
       "      <td>59.0</td>\n",
       "      <td>52.0</td>\n",
       "      <td>50.0</td>\n",
       "      <td>48.0</td>\n",
       "      <td>60.42</td>\n",
       "    </tr>\n",
       "    <tr>\n",
       "      <th>3</th>\n",
       "      <td>忠明</td>\n",
       "      <td>懸浮微粒</td>\n",
       "      <td>01</td>\n",
       "      <td>37.0</td>\n",
       "      <td>41.0</td>\n",
       "      <td>49.0</td>\n",
       "      <td>29.0</td>\n",
       "      <td>30.0</td>\n",
       "      <td>40.0</td>\n",
       "      <td>35.0</td>\n",
       "      <td>...</td>\n",
       "      <td>70.0</td>\n",
       "      <td>70.0</td>\n",
       "      <td>70.0</td>\n",
       "      <td>57.0</td>\n",
       "      <td>49.0</td>\n",
       "      <td>49.0</td>\n",
       "      <td>49.0</td>\n",
       "      <td>36.0</td>\n",
       "      <td>42.0</td>\n",
       "      <td>47.17</td>\n",
       "    </tr>\n",
       "    <tr>\n",
       "      <th>4</th>\n",
       "      <td>西屯</td>\n",
       "      <td>懸浮微粒</td>\n",
       "      <td>01</td>\n",
       "      <td>48.0</td>\n",
       "      <td>48.0</td>\n",
       "      <td>48.0</td>\n",
       "      <td>46.0</td>\n",
       "      <td>47.0</td>\n",
       "      <td>42.0</td>\n",
       "      <td>46.0</td>\n",
       "      <td>...</td>\n",
       "      <td>79.0</td>\n",
       "      <td>76.0</td>\n",
       "      <td>66.0</td>\n",
       "      <td>62.0</td>\n",
       "      <td>57.0</td>\n",
       "      <td>57.0</td>\n",
       "      <td>50.0</td>\n",
       "      <td>45.0</td>\n",
       "      <td>39.0</td>\n",
       "      <td>53.96</td>\n",
       "    </tr>\n",
       "    <tr>\n",
       "      <th>...</th>\n",
       "      <td>...</td>\n",
       "      <td>...</td>\n",
       "      <td>...</td>\n",
       "      <td>...</td>\n",
       "      <td>...</td>\n",
       "      <td>...</td>\n",
       "      <td>...</td>\n",
       "      <td>...</td>\n",
       "      <td>...</td>\n",
       "      <td>...</td>\n",
       "      <td>...</td>\n",
       "      <td>...</td>\n",
       "      <td>...</td>\n",
       "      <td>...</td>\n",
       "      <td>...</td>\n",
       "      <td>...</td>\n",
       "      <td>...</td>\n",
       "      <td>...</td>\n",
       "      <td>...</td>\n",
       "      <td>...</td>\n",
       "      <td>...</td>\n",
       "    </tr>\n",
       "    <tr>\n",
       "      <th>18165</th>\n",
       "      <td>豐原</td>\n",
       "      <td>懸浮微粒</td>\n",
       "      <td>12</td>\n",
       "      <td>41.0</td>\n",
       "      <td>41.0</td>\n",
       "      <td>34.0</td>\n",
       "      <td>30.0</td>\n",
       "      <td>32.0</td>\n",
       "      <td>32.0</td>\n",
       "      <td>34.0</td>\n",
       "      <td>...</td>\n",
       "      <td>30.0</td>\n",
       "      <td>33.0</td>\n",
       "      <td>34.0</td>\n",
       "      <td>36.0</td>\n",
       "      <td>33.0</td>\n",
       "      <td>28.0</td>\n",
       "      <td>25.0</td>\n",
       "      <td>22.0</td>\n",
       "      <td>20.0</td>\n",
       "      <td>31.75</td>\n",
       "    </tr>\n",
       "    <tr>\n",
       "      <th>18166</th>\n",
       "      <td>沙鹿</td>\n",
       "      <td>懸浮微粒</td>\n",
       "      <td>12</td>\n",
       "      <td>44.0</td>\n",
       "      <td>47.0</td>\n",
       "      <td>44.0</td>\n",
       "      <td>35.0</td>\n",
       "      <td>26.0</td>\n",
       "      <td>37.0</td>\n",
       "      <td>35.0</td>\n",
       "      <td>...</td>\n",
       "      <td>34.0</td>\n",
       "      <td>30.0</td>\n",
       "      <td>32.0</td>\n",
       "      <td>31.0</td>\n",
       "      <td>32.0</td>\n",
       "      <td>25.0</td>\n",
       "      <td>24.0</td>\n",
       "      <td>22.0</td>\n",
       "      <td>22.0</td>\n",
       "      <td>33.12</td>\n",
       "    </tr>\n",
       "    <tr>\n",
       "      <th>18167</th>\n",
       "      <td>大里</td>\n",
       "      <td>懸浮微粒</td>\n",
       "      <td>12</td>\n",
       "      <td>42.0</td>\n",
       "      <td>42.0</td>\n",
       "      <td>33.0</td>\n",
       "      <td>31.0</td>\n",
       "      <td>25.0</td>\n",
       "      <td>28.0</td>\n",
       "      <td>32.0</td>\n",
       "      <td>...</td>\n",
       "      <td>38.0</td>\n",
       "      <td>34.0</td>\n",
       "      <td>32.0</td>\n",
       "      <td>30.0</td>\n",
       "      <td>26.0</td>\n",
       "      <td>28.0</td>\n",
       "      <td>23.0</td>\n",
       "      <td>23.0</td>\n",
       "      <td>24.0</td>\n",
       "      <td>31.48</td>\n",
       "    </tr>\n",
       "    <tr>\n",
       "      <th>18168</th>\n",
       "      <td>忠明</td>\n",
       "      <td>懸浮微粒</td>\n",
       "      <td>12</td>\n",
       "      <td>45.0</td>\n",
       "      <td>42.0</td>\n",
       "      <td>38.0</td>\n",
       "      <td>32.0</td>\n",
       "      <td>38.0</td>\n",
       "      <td>37.0</td>\n",
       "      <td>34.0</td>\n",
       "      <td>...</td>\n",
       "      <td>35.0</td>\n",
       "      <td>39.0</td>\n",
       "      <td>34.0</td>\n",
       "      <td>35.0</td>\n",
       "      <td>36.0</td>\n",
       "      <td>32.0</td>\n",
       "      <td>22.0</td>\n",
       "      <td>27.0</td>\n",
       "      <td>22.0</td>\n",
       "      <td>34.96</td>\n",
       "    </tr>\n",
       "    <tr>\n",
       "      <th>18169</th>\n",
       "      <td>西屯</td>\n",
       "      <td>懸浮微粒</td>\n",
       "      <td>12</td>\n",
       "      <td>40.0</td>\n",
       "      <td>45.0</td>\n",
       "      <td>44.0</td>\n",
       "      <td>42.0</td>\n",
       "      <td>32.0</td>\n",
       "      <td>35.0</td>\n",
       "      <td>35.0</td>\n",
       "      <td>...</td>\n",
       "      <td>37.0</td>\n",
       "      <td>38.0</td>\n",
       "      <td>35.0</td>\n",
       "      <td>34.0</td>\n",
       "      <td>34.0</td>\n",
       "      <td>33.0</td>\n",
       "      <td>31.0</td>\n",
       "      <td>29.0</td>\n",
       "      <td>31.0</td>\n",
       "      <td>36.29</td>\n",
       "    </tr>\n",
       "  </tbody>\n",
       "</table>\n",
       "<p>18170 rows × 28 columns</p>\n",
       "</div>"
      ],
      "text/plain": [
       "      SiteName ItemName MonitorDate  MonitorValue00  MonitorValue01  \\\n",
       "0           豐原     懸浮微粒          01            45.0            48.0   \n",
       "1           沙鹿     懸浮微粒          01             NaN             NaN   \n",
       "2           大里     懸浮微粒          01            87.0            78.0   \n",
       "3           忠明     懸浮微粒          01            37.0            41.0   \n",
       "4           西屯     懸浮微粒          01            48.0            48.0   \n",
       "...        ...      ...         ...             ...             ...   \n",
       "18165       豐原     懸浮微粒          12            41.0            41.0   \n",
       "18166       沙鹿     懸浮微粒          12            44.0            47.0   \n",
       "18167       大里     懸浮微粒          12            42.0            42.0   \n",
       "18168       忠明     懸浮微粒          12            45.0            42.0   \n",
       "18169       西屯     懸浮微粒          12            40.0            45.0   \n",
       "\n",
       "       MonitorValue02  MonitorValue03  MonitorValue04  MonitorValue05  \\\n",
       "0                40.0            37.0            45.0            42.0   \n",
       "1                 NaN             NaN             NaN             NaN   \n",
       "2                62.0            50.0            52.0            56.0   \n",
       "3                49.0            29.0            30.0            40.0   \n",
       "4                48.0            46.0            47.0            42.0   \n",
       "...               ...             ...             ...             ...   \n",
       "18165            34.0            30.0            32.0            32.0   \n",
       "18166            44.0            35.0            26.0            37.0   \n",
       "18167            33.0            31.0            25.0            28.0   \n",
       "18168            38.0            32.0            38.0            37.0   \n",
       "18169            44.0            42.0            32.0            35.0   \n",
       "\n",
       "       MonitorValue06  ...  MonitorValue15  MonitorValue16  MonitorValue17  \\\n",
       "0                31.0  ...            80.0            77.0            71.0   \n",
       "1                 NaN  ...            76.0            70.0            61.0   \n",
       "2                60.0  ...            63.0            70.0            72.0   \n",
       "3                35.0  ...            70.0            70.0            70.0   \n",
       "4                46.0  ...            79.0            76.0            66.0   \n",
       "...               ...  ...             ...             ...             ...   \n",
       "18165            34.0  ...            30.0            33.0            34.0   \n",
       "18166            35.0  ...            34.0            30.0            32.0   \n",
       "18167            32.0  ...            38.0            34.0            32.0   \n",
       "18168            34.0  ...            35.0            39.0            34.0   \n",
       "18169            35.0  ...            37.0            38.0            35.0   \n",
       "\n",
       "       MonitorValue18  MonitorValue19  MonitorValue20  MonitorValue21  \\\n",
       "0                59.0            60.0            58.0            60.0   \n",
       "1                48.0            40.0            38.0            34.0   \n",
       "2                71.0            68.0            59.0            52.0   \n",
       "3                57.0            49.0            49.0            49.0   \n",
       "4                62.0            57.0            57.0            50.0   \n",
       "...               ...             ...             ...             ...   \n",
       "18165            36.0            33.0            28.0            25.0   \n",
       "18166            31.0            32.0            25.0            24.0   \n",
       "18167            30.0            26.0            28.0            23.0   \n",
       "18168            35.0            36.0            32.0            22.0   \n",
       "18169            34.0            34.0            33.0            31.0   \n",
       "\n",
       "       MonitorValue22  MonitorValue23  24Hmean  \n",
       "0                58.0            47.0    52.17  \n",
       "1                33.0            34.0    53.00  \n",
       "2                50.0            48.0    60.42  \n",
       "3                36.0            42.0    47.17  \n",
       "4                45.0            39.0    53.96  \n",
       "...               ...             ...      ...  \n",
       "18165            22.0            20.0    31.75  \n",
       "18166            22.0            22.0    33.12  \n",
       "18167            23.0            24.0    31.48  \n",
       "18168            27.0            22.0    34.96  \n",
       "18169            29.0            31.0    36.29  \n",
       "\n",
       "[18170 rows x 28 columns]"
      ]
     },
     "execution_count": 14,
     "metadata": {},
     "output_type": "execute_result"
    }
   ],
   "source": [
    "#將MonitorDate變成顯示月份\n",
    "df_mtest = dfall.copy()\n",
    "df_mtest['MonitorDate'] = [x.strftime('%m') for x in df_mtest['MonitorDate']]\n",
    "df_mtest"
   ]
  },
  {
   "cell_type": "code",
   "execution_count": 15,
   "metadata": {},
   "outputs": [
    {
     "data": {
      "text/html": [
       "<div>\n",
       "<style scoped>\n",
       "    .dataframe tbody tr th:only-of-type {\n",
       "        vertical-align: middle;\n",
       "    }\n",
       "\n",
       "    .dataframe tbody tr th {\n",
       "        vertical-align: top;\n",
       "    }\n",
       "\n",
       "    .dataframe thead th {\n",
       "        text-align: right;\n",
       "    }\n",
       "</style>\n",
       "<table border=\"1\" class=\"dataframe\">\n",
       "  <thead>\n",
       "    <tr style=\"text-align: right;\">\n",
       "      <th>SiteName</th>\n",
       "      <th>大里</th>\n",
       "      <th>忠明</th>\n",
       "      <th>沙鹿</th>\n",
       "      <th>西屯</th>\n",
       "      <th>豐原</th>\n",
       "      <th>台中</th>\n",
       "    </tr>\n",
       "    <tr>\n",
       "      <th>MonitorDate</th>\n",
       "      <th></th>\n",
       "      <th></th>\n",
       "      <th></th>\n",
       "      <th></th>\n",
       "      <th></th>\n",
       "      <th></th>\n",
       "    </tr>\n",
       "  </thead>\n",
       "  <tbody>\n",
       "    <tr>\n",
       "      <th>01</th>\n",
       "      <td>51.874610</td>\n",
       "      <td>46.277273</td>\n",
       "      <td>48.031032</td>\n",
       "      <td>51.726343</td>\n",
       "      <td>39.547075</td>\n",
       "      <td>47.491267</td>\n",
       "    </tr>\n",
       "    <tr>\n",
       "      <th>02</th>\n",
       "      <td>57.910247</td>\n",
       "      <td>48.887582</td>\n",
       "      <td>51.997668</td>\n",
       "      <td>54.925936</td>\n",
       "      <td>41.860980</td>\n",
       "      <td>51.116483</td>\n",
       "    </tr>\n",
       "    <tr>\n",
       "      <th>03</th>\n",
       "      <td>63.347194</td>\n",
       "      <td>56.677338</td>\n",
       "      <td>57.689387</td>\n",
       "      <td>61.233387</td>\n",
       "      <td>49.482043</td>\n",
       "      <td>57.685870</td>\n",
       "    </tr>\n",
       "    <tr>\n",
       "      <th>04</th>\n",
       "      <td>59.849967</td>\n",
       "      <td>51.804000</td>\n",
       "      <td>54.754500</td>\n",
       "      <td>57.395700</td>\n",
       "      <td>49.900215</td>\n",
       "      <td>54.740876</td>\n",
       "    </tr>\n",
       "    <tr>\n",
       "      <th>05</th>\n",
       "      <td>43.012541</td>\n",
       "      <td>35.704884</td>\n",
       "      <td>36.106337</td>\n",
       "      <td>41.284026</td>\n",
       "      <td>37.172355</td>\n",
       "      <td>38.656029</td>\n",
       "    </tr>\n",
       "    <tr>\n",
       "      <th>06</th>\n",
       "      <td>33.702610</td>\n",
       "      <td>25.581010</td>\n",
       "      <td>26.694983</td>\n",
       "      <td>34.475593</td>\n",
       "      <td>30.150483</td>\n",
       "      <td>30.120936</td>\n",
       "    </tr>\n",
       "    <tr>\n",
       "      <th>07</th>\n",
       "      <td>33.535512</td>\n",
       "      <td>26.569706</td>\n",
       "      <td>28.264531</td>\n",
       "      <td>33.420065</td>\n",
       "      <td>32.272508</td>\n",
       "      <td>30.812464</td>\n",
       "    </tr>\n",
       "    <tr>\n",
       "      <th>08</th>\n",
       "      <td>34.244361</td>\n",
       "      <td>27.388472</td>\n",
       "      <td>31.179741</td>\n",
       "      <td>34.697581</td>\n",
       "      <td>32.965387</td>\n",
       "      <td>32.095108</td>\n",
       "    </tr>\n",
       "    <tr>\n",
       "      <th>09</th>\n",
       "      <td>47.309186</td>\n",
       "      <td>36.741241</td>\n",
       "      <td>43.563750</td>\n",
       "      <td>45.564114</td>\n",
       "      <td>41.055912</td>\n",
       "      <td>42.846841</td>\n",
       "    </tr>\n",
       "    <tr>\n",
       "      <th>10</th>\n",
       "      <td>54.687871</td>\n",
       "      <td>45.735269</td>\n",
       "      <td>50.239581</td>\n",
       "      <td>50.647208</td>\n",
       "      <td>43.880130</td>\n",
       "      <td>49.038012</td>\n",
       "    </tr>\n",
       "    <tr>\n",
       "      <th>11</th>\n",
       "      <td>57.778721</td>\n",
       "      <td>49.232373</td>\n",
       "      <td>52.503535</td>\n",
       "      <td>54.263581</td>\n",
       "      <td>45.337235</td>\n",
       "      <td>51.823089</td>\n",
       "    </tr>\n",
       "    <tr>\n",
       "      <th>12</th>\n",
       "      <td>48.502727</td>\n",
       "      <td>40.933411</td>\n",
       "      <td>43.780903</td>\n",
       "      <td>47.102548</td>\n",
       "      <td>36.149710</td>\n",
       "      <td>43.293860</td>\n",
       "    </tr>\n",
       "  </tbody>\n",
       "</table>\n",
       "</div>"
      ],
      "text/plain": [
       "SiteName            大里         忠明         沙鹿         西屯         豐原         台中\n",
       "MonitorDate                                                                  \n",
       "01           51.874610  46.277273  48.031032  51.726343  39.547075  47.491267\n",
       "02           57.910247  48.887582  51.997668  54.925936  41.860980  51.116483\n",
       "03           63.347194  56.677338  57.689387  61.233387  49.482043  57.685870\n",
       "04           59.849967  51.804000  54.754500  57.395700  49.900215  54.740876\n",
       "05           43.012541  35.704884  36.106337  41.284026  37.172355  38.656029\n",
       "06           33.702610  25.581010  26.694983  34.475593  30.150483  30.120936\n",
       "07           33.535512  26.569706  28.264531  33.420065  32.272508  30.812464\n",
       "08           34.244361  27.388472  31.179741  34.697581  32.965387  32.095108\n",
       "09           47.309186  36.741241  43.563750  45.564114  41.055912  42.846841\n",
       "10           54.687871  45.735269  50.239581  50.647208  43.880130  49.038012\n",
       "11           57.778721  49.232373  52.503535  54.263581  45.337235  51.823089\n",
       "12           48.502727  40.933411  43.780903  47.102548  36.149710  43.293860"
      ]
     },
     "execution_count": 15,
     "metadata": {},
     "output_type": "execute_result"
    }
   ],
   "source": [
    "#用MonitorDate、SiteName分群，且篩選出想要的資料\n",
    "#再創建台中全區的資料\n",
    "dfall_year_mean = df_mtest.groupby(['MonitorDate', 'SiteName'])['24Hmean'].mean().unstack(1)\n",
    "dfall_year_mean['台中'] = dfall_year_mean.iloc[:,0:5].mean(axis=1)\n",
    "dfall_year_mean"
   ]
  },
  {
   "cell_type": "code",
   "execution_count": 16,
   "metadata": {},
   "outputs": [
    {
     "data": {
      "application/vnd.plotly.v1+json": {
       "config": {
        "plotlyServerURL": "https://plot.ly"
       },
       "data": [
        {
         "hovertemplate": "區域=大里<br>月份=%{x}<br>平均濃度(μg/m3)=%{y}<extra></extra>",
         "legendgroup": "大里",
         "line": {
          "color": "#636efa",
          "dash": "solid"
         },
         "marker": {
          "symbol": "circle"
         },
         "mode": "markers+lines",
         "name": "大里",
         "orientation": "v",
         "showlegend": true,
         "type": "scatter",
         "x": [
          "01",
          "02",
          "03",
          "04",
          "05",
          "06",
          "07",
          "08",
          "09",
          "10",
          "11",
          "12"
         ],
         "xaxis": "x",
         "y": [
          51.874610389610396,
          57.910247349823315,
          63.347193548387104,
          59.84996655518395,
          43.01254071661238,
          33.70261016949153,
          33.53551155115512,
          34.24436065573771,
          47.30918644067796,
          54.687870967741944,
          57.778720538720535,
          48.50272727272727
         ],
         "yaxis": "y"
        },
        {
         "hovertemplate": "區域=忠明<br>月份=%{x}<br>平均濃度(μg/m3)=%{y}<extra></extra>",
         "legendgroup": "忠明",
         "line": {
          "color": "#EF553B",
          "dash": "solid"
         },
         "marker": {
          "symbol": "circle"
         },
         "mode": "markers+lines",
         "name": "忠明",
         "orientation": "v",
         "showlegend": true,
         "type": "scatter",
         "x": [
          "01",
          "02",
          "03",
          "04",
          "05",
          "06",
          "07",
          "08",
          "09",
          "10",
          "11",
          "12"
         ],
         "xaxis": "x",
         "y": [
          46.277272727272724,
          48.887582417582415,
          56.677337662337656,
          51.804,
          35.70488448844885,
          25.5810101010101,
          26.56970588235294,
          27.388471760797344,
          36.74124060150376,
          45.7352688172043,
          49.23237288135593,
          40.93341059602649
         ],
         "yaxis": "y"
        },
        {
         "hovertemplate": "區域=沙鹿<br>月份=%{x}<br>平均濃度(μg/m3)=%{y}<extra></extra>",
         "legendgroup": "沙鹿",
         "line": {
          "color": "#00cc96",
          "dash": "solid"
         },
         "marker": {
          "symbol": "circle"
         },
         "mode": "markers+lines",
         "name": "沙鹿",
         "orientation": "v",
         "showlegend": true,
         "type": "scatter",
         "x": [
          "01",
          "02",
          "03",
          "04",
          "05",
          "06",
          "07",
          "08",
          "09",
          "10",
          "11",
          "12"
         ],
         "xaxis": "x",
         "y": [
          48.03103225806452,
          51.997667844522965,
          57.68938709677419,
          54.75449999999999,
          36.10633663366336,
          26.694983164983164,
          28.264530744336568,
          31.17974110032362,
          43.563750000000006,
          50.23958064516129,
          52.50353535353535,
          43.780903225806455
         ],
         "yaxis": "y"
        },
        {
         "hovertemplate": "區域=西屯<br>月份=%{x}<br>平均濃度(μg/m3)=%{y}<extra></extra>",
         "legendgroup": "西屯",
         "line": {
          "color": "#ab63fa",
          "dash": "solid"
         },
         "marker": {
          "symbol": "circle"
         },
         "mode": "markers+lines",
         "name": "西屯",
         "orientation": "v",
         "showlegend": true,
         "type": "scatter",
         "x": [
          "01",
          "02",
          "03",
          "04",
          "05",
          "06",
          "07",
          "08",
          "09",
          "10",
          "11",
          "12"
         ],
         "xaxis": "x",
         "y": [
          51.7263430420712,
          54.92593639575972,
          61.23338709677419,
          57.3957,
          41.284026402640265,
          34.47559322033898,
          33.42006535947712,
          34.69758064516129,
          45.564113712374585,
          50.647207792207794,
          54.263581081081085,
          47.10254838709677
         ],
         "yaxis": "y"
        },
        {
         "hovertemplate": "區域=豐原<br>月份=%{x}<br>平均濃度(μg/m3)=%{y}<extra></extra>",
         "legendgroup": "豐原",
         "line": {
          "color": "#FFA15A",
          "dash": "solid"
         },
         "marker": {
          "symbol": "circle"
         },
         "mode": "markers+lines",
         "name": "豐原",
         "orientation": "v",
         "showlegend": true,
         "type": "scatter",
         "x": [
          "01",
          "02",
          "03",
          "04",
          "05",
          "06",
          "07",
          "08",
          "09",
          "10",
          "11",
          "12"
         ],
         "xaxis": "x",
         "y": [
          39.54707482993197,
          41.86098039215686,
          49.48204301075269,
          49.90021505376344,
          37.17235483870968,
          30.150482758620686,
          32.272508143322476,
          32.965387096774194,
          41.05591216216216,
          43.88013029315961,
          45.337235494880545,
          36.14970967741935
         ],
         "yaxis": "y"
        },
        {
         "hovertemplate": "區域=台中<br>月份=%{x}<br>平均濃度(μg/m3)=%{y}<extra></extra>",
         "legendgroup": "台中",
         "line": {
          "color": "#19d3f3",
          "dash": "solid"
         },
         "marker": {
          "symbol": "circle"
         },
         "mode": "markers+lines",
         "name": "台中",
         "orientation": "v",
         "showlegend": true,
         "type": "scatter",
         "x": [
          "01",
          "02",
          "03",
          "04",
          "05",
          "06",
          "07",
          "08",
          "09",
          "10",
          "11",
          "12"
         ],
         "xaxis": "x",
         "y": [
          47.49126664939016,
          51.116482879969055,
          57.68586968300516,
          54.740876321789486,
          38.65602861601491,
          30.120935882888894,
          30.812464336128848,
          32.09510825175884,
          42.84684058334369,
          49.03801170309498,
          51.82308906991468,
          43.29385983181527
         ],
         "yaxis": "y"
        }
       ],
       "layout": {
        "autosize": true,
        "legend": {
         "title": {
          "text": "區域"
         },
         "tracegroupgap": 0
        },
        "margin": {
         "t": 60
        },
        "shapes": [
         {
          "line": {
           "color": "green",
           "dash": "dot",
           "width": 3
          },
          "type": "line",
          "x0": 0,
          "x1": 1,
          "xref": "paper",
          "y0": 35,
          "y1": 35,
          "yref": "y"
         },
         {
          "line": {
           "color": "red",
           "dash": "dot",
           "width": 3
          },
          "type": "line",
          "x0": 0,
          "x1": 1,
          "xref": "paper",
          "y0": 53,
          "y1": 53,
          "yref": "y"
         }
        ],
        "template": {
         "data": {
          "bar": [
           {
            "error_x": {
             "color": "#2a3f5f"
            },
            "error_y": {
             "color": "#2a3f5f"
            },
            "marker": {
             "line": {
              "color": "#E5ECF6",
              "width": 0.5
             },
             "pattern": {
              "fillmode": "overlay",
              "size": 10,
              "solidity": 0.2
             }
            },
            "type": "bar"
           }
          ],
          "barpolar": [
           {
            "marker": {
             "line": {
              "color": "#E5ECF6",
              "width": 0.5
             },
             "pattern": {
              "fillmode": "overlay",
              "size": 10,
              "solidity": 0.2
             }
            },
            "type": "barpolar"
           }
          ],
          "carpet": [
           {
            "aaxis": {
             "endlinecolor": "#2a3f5f",
             "gridcolor": "white",
             "linecolor": "white",
             "minorgridcolor": "white",
             "startlinecolor": "#2a3f5f"
            },
            "baxis": {
             "endlinecolor": "#2a3f5f",
             "gridcolor": "white",
             "linecolor": "white",
             "minorgridcolor": "white",
             "startlinecolor": "#2a3f5f"
            },
            "type": "carpet"
           }
          ],
          "choropleth": [
           {
            "colorbar": {
             "outlinewidth": 0,
             "ticks": ""
            },
            "type": "choropleth"
           }
          ],
          "contour": [
           {
            "colorbar": {
             "outlinewidth": 0,
             "ticks": ""
            },
            "colorscale": [
             [
              0,
              "#0d0887"
             ],
             [
              0.1111111111111111,
              "#46039f"
             ],
             [
              0.2222222222222222,
              "#7201a8"
             ],
             [
              0.3333333333333333,
              "#9c179e"
             ],
             [
              0.4444444444444444,
              "#bd3786"
             ],
             [
              0.5555555555555556,
              "#d8576b"
             ],
             [
              0.6666666666666666,
              "#ed7953"
             ],
             [
              0.7777777777777778,
              "#fb9f3a"
             ],
             [
              0.8888888888888888,
              "#fdca26"
             ],
             [
              1,
              "#f0f921"
             ]
            ],
            "type": "contour"
           }
          ],
          "contourcarpet": [
           {
            "colorbar": {
             "outlinewidth": 0,
             "ticks": ""
            },
            "type": "contourcarpet"
           }
          ],
          "heatmap": [
           {
            "colorbar": {
             "outlinewidth": 0,
             "ticks": ""
            },
            "colorscale": [
             [
              0,
              "#0d0887"
             ],
             [
              0.1111111111111111,
              "#46039f"
             ],
             [
              0.2222222222222222,
              "#7201a8"
             ],
             [
              0.3333333333333333,
              "#9c179e"
             ],
             [
              0.4444444444444444,
              "#bd3786"
             ],
             [
              0.5555555555555556,
              "#d8576b"
             ],
             [
              0.6666666666666666,
              "#ed7953"
             ],
             [
              0.7777777777777778,
              "#fb9f3a"
             ],
             [
              0.8888888888888888,
              "#fdca26"
             ],
             [
              1,
              "#f0f921"
             ]
            ],
            "type": "heatmap"
           }
          ],
          "heatmapgl": [
           {
            "colorbar": {
             "outlinewidth": 0,
             "ticks": ""
            },
            "colorscale": [
             [
              0,
              "#0d0887"
             ],
             [
              0.1111111111111111,
              "#46039f"
             ],
             [
              0.2222222222222222,
              "#7201a8"
             ],
             [
              0.3333333333333333,
              "#9c179e"
             ],
             [
              0.4444444444444444,
              "#bd3786"
             ],
             [
              0.5555555555555556,
              "#d8576b"
             ],
             [
              0.6666666666666666,
              "#ed7953"
             ],
             [
              0.7777777777777778,
              "#fb9f3a"
             ],
             [
              0.8888888888888888,
              "#fdca26"
             ],
             [
              1,
              "#f0f921"
             ]
            ],
            "type": "heatmapgl"
           }
          ],
          "histogram": [
           {
            "marker": {
             "pattern": {
              "fillmode": "overlay",
              "size": 10,
              "solidity": 0.2
             }
            },
            "type": "histogram"
           }
          ],
          "histogram2d": [
           {
            "colorbar": {
             "outlinewidth": 0,
             "ticks": ""
            },
            "colorscale": [
             [
              0,
              "#0d0887"
             ],
             [
              0.1111111111111111,
              "#46039f"
             ],
             [
              0.2222222222222222,
              "#7201a8"
             ],
             [
              0.3333333333333333,
              "#9c179e"
             ],
             [
              0.4444444444444444,
              "#bd3786"
             ],
             [
              0.5555555555555556,
              "#d8576b"
             ],
             [
              0.6666666666666666,
              "#ed7953"
             ],
             [
              0.7777777777777778,
              "#fb9f3a"
             ],
             [
              0.8888888888888888,
              "#fdca26"
             ],
             [
              1,
              "#f0f921"
             ]
            ],
            "type": "histogram2d"
           }
          ],
          "histogram2dcontour": [
           {
            "colorbar": {
             "outlinewidth": 0,
             "ticks": ""
            },
            "colorscale": [
             [
              0,
              "#0d0887"
             ],
             [
              0.1111111111111111,
              "#46039f"
             ],
             [
              0.2222222222222222,
              "#7201a8"
             ],
             [
              0.3333333333333333,
              "#9c179e"
             ],
             [
              0.4444444444444444,
              "#bd3786"
             ],
             [
              0.5555555555555556,
              "#d8576b"
             ],
             [
              0.6666666666666666,
              "#ed7953"
             ],
             [
              0.7777777777777778,
              "#fb9f3a"
             ],
             [
              0.8888888888888888,
              "#fdca26"
             ],
             [
              1,
              "#f0f921"
             ]
            ],
            "type": "histogram2dcontour"
           }
          ],
          "mesh3d": [
           {
            "colorbar": {
             "outlinewidth": 0,
             "ticks": ""
            },
            "type": "mesh3d"
           }
          ],
          "parcoords": [
           {
            "line": {
             "colorbar": {
              "outlinewidth": 0,
              "ticks": ""
             }
            },
            "type": "parcoords"
           }
          ],
          "pie": [
           {
            "automargin": true,
            "type": "pie"
           }
          ],
          "scatter": [
           {
            "marker": {
             "colorbar": {
              "outlinewidth": 0,
              "ticks": ""
             }
            },
            "type": "scatter"
           }
          ],
          "scatter3d": [
           {
            "line": {
             "colorbar": {
              "outlinewidth": 0,
              "ticks": ""
             }
            },
            "marker": {
             "colorbar": {
              "outlinewidth": 0,
              "ticks": ""
             }
            },
            "type": "scatter3d"
           }
          ],
          "scattercarpet": [
           {
            "marker": {
             "colorbar": {
              "outlinewidth": 0,
              "ticks": ""
             }
            },
            "type": "scattercarpet"
           }
          ],
          "scattergeo": [
           {
            "marker": {
             "colorbar": {
              "outlinewidth": 0,
              "ticks": ""
             }
            },
            "type": "scattergeo"
           }
          ],
          "scattergl": [
           {
            "marker": {
             "colorbar": {
              "outlinewidth": 0,
              "ticks": ""
             }
            },
            "type": "scattergl"
           }
          ],
          "scattermapbox": [
           {
            "marker": {
             "colorbar": {
              "outlinewidth": 0,
              "ticks": ""
             }
            },
            "type": "scattermapbox"
           }
          ],
          "scatterpolar": [
           {
            "marker": {
             "colorbar": {
              "outlinewidth": 0,
              "ticks": ""
             }
            },
            "type": "scatterpolar"
           }
          ],
          "scatterpolargl": [
           {
            "marker": {
             "colorbar": {
              "outlinewidth": 0,
              "ticks": ""
             }
            },
            "type": "scatterpolargl"
           }
          ],
          "scatterternary": [
           {
            "marker": {
             "colorbar": {
              "outlinewidth": 0,
              "ticks": ""
             }
            },
            "type": "scatterternary"
           }
          ],
          "surface": [
           {
            "colorbar": {
             "outlinewidth": 0,
             "ticks": ""
            },
            "colorscale": [
             [
              0,
              "#0d0887"
             ],
             [
              0.1111111111111111,
              "#46039f"
             ],
             [
              0.2222222222222222,
              "#7201a8"
             ],
             [
              0.3333333333333333,
              "#9c179e"
             ],
             [
              0.4444444444444444,
              "#bd3786"
             ],
             [
              0.5555555555555556,
              "#d8576b"
             ],
             [
              0.6666666666666666,
              "#ed7953"
             ],
             [
              0.7777777777777778,
              "#fb9f3a"
             ],
             [
              0.8888888888888888,
              "#fdca26"
             ],
             [
              1,
              "#f0f921"
             ]
            ],
            "type": "surface"
           }
          ],
          "table": [
           {
            "cells": {
             "fill": {
              "color": "#EBF0F8"
             },
             "line": {
              "color": "white"
             }
            },
            "header": {
             "fill": {
              "color": "#C8D4E3"
             },
             "line": {
              "color": "white"
             }
            },
            "type": "table"
           }
          ]
         },
         "layout": {
          "annotationdefaults": {
           "arrowcolor": "#2a3f5f",
           "arrowhead": 0,
           "arrowwidth": 1
          },
          "autotypenumbers": "strict",
          "coloraxis": {
           "colorbar": {
            "outlinewidth": 0,
            "ticks": ""
           }
          },
          "colorscale": {
           "diverging": [
            [
             0,
             "#8e0152"
            ],
            [
             0.1,
             "#c51b7d"
            ],
            [
             0.2,
             "#de77ae"
            ],
            [
             0.3,
             "#f1b6da"
            ],
            [
             0.4,
             "#fde0ef"
            ],
            [
             0.5,
             "#f7f7f7"
            ],
            [
             0.6,
             "#e6f5d0"
            ],
            [
             0.7,
             "#b8e186"
            ],
            [
             0.8,
             "#7fbc41"
            ],
            [
             0.9,
             "#4d9221"
            ],
            [
             1,
             "#276419"
            ]
           ],
           "sequential": [
            [
             0,
             "#0d0887"
            ],
            [
             0.1111111111111111,
             "#46039f"
            ],
            [
             0.2222222222222222,
             "#7201a8"
            ],
            [
             0.3333333333333333,
             "#9c179e"
            ],
            [
             0.4444444444444444,
             "#bd3786"
            ],
            [
             0.5555555555555556,
             "#d8576b"
            ],
            [
             0.6666666666666666,
             "#ed7953"
            ],
            [
             0.7777777777777778,
             "#fb9f3a"
            ],
            [
             0.8888888888888888,
             "#fdca26"
            ],
            [
             1,
             "#f0f921"
            ]
           ],
           "sequentialminus": [
            [
             0,
             "#0d0887"
            ],
            [
             0.1111111111111111,
             "#46039f"
            ],
            [
             0.2222222222222222,
             "#7201a8"
            ],
            [
             0.3333333333333333,
             "#9c179e"
            ],
            [
             0.4444444444444444,
             "#bd3786"
            ],
            [
             0.5555555555555556,
             "#d8576b"
            ],
            [
             0.6666666666666666,
             "#ed7953"
            ],
            [
             0.7777777777777778,
             "#fb9f3a"
            ],
            [
             0.8888888888888888,
             "#fdca26"
            ],
            [
             1,
             "#f0f921"
            ]
           ]
          },
          "colorway": [
           "#636efa",
           "#EF553B",
           "#00cc96",
           "#ab63fa",
           "#FFA15A",
           "#19d3f3",
           "#FF6692",
           "#B6E880",
           "#FF97FF",
           "#FECB52"
          ],
          "font": {
           "color": "#2a3f5f"
          },
          "geo": {
           "bgcolor": "white",
           "lakecolor": "white",
           "landcolor": "#E5ECF6",
           "showlakes": true,
           "showland": true,
           "subunitcolor": "white"
          },
          "hoverlabel": {
           "align": "left"
          },
          "hovermode": "closest",
          "mapbox": {
           "style": "light"
          },
          "paper_bgcolor": "white",
          "plot_bgcolor": "#E5ECF6",
          "polar": {
           "angularaxis": {
            "gridcolor": "white",
            "linecolor": "white",
            "ticks": ""
           },
           "bgcolor": "#E5ECF6",
           "radialaxis": {
            "gridcolor": "white",
            "linecolor": "white",
            "ticks": ""
           }
          },
          "scene": {
           "xaxis": {
            "backgroundcolor": "#E5ECF6",
            "gridcolor": "white",
            "gridwidth": 2,
            "linecolor": "white",
            "showbackground": true,
            "ticks": "",
            "zerolinecolor": "white"
           },
           "yaxis": {
            "backgroundcolor": "#E5ECF6",
            "gridcolor": "white",
            "gridwidth": 2,
            "linecolor": "white",
            "showbackground": true,
            "ticks": "",
            "zerolinecolor": "white"
           },
           "zaxis": {
            "backgroundcolor": "#E5ECF6",
            "gridcolor": "white",
            "gridwidth": 2,
            "linecolor": "white",
            "showbackground": true,
            "ticks": "",
            "zerolinecolor": "white"
           }
          },
          "shapedefaults": {
           "line": {
            "color": "#2a3f5f"
           }
          },
          "ternary": {
           "aaxis": {
            "gridcolor": "white",
            "linecolor": "white",
            "ticks": ""
           },
           "baxis": {
            "gridcolor": "white",
            "linecolor": "white",
            "ticks": ""
           },
           "bgcolor": "#E5ECF6",
           "caxis": {
            "gridcolor": "white",
            "linecolor": "white",
            "ticks": ""
           }
          },
          "title": {
           "x": 0.05
          },
          "xaxis": {
           "automargin": true,
           "gridcolor": "white",
           "linecolor": "white",
           "ticks": "",
           "title": {
            "standoff": 15
           },
           "zerolinecolor": "white",
           "zerolinewidth": 2
          },
          "yaxis": {
           "automargin": true,
           "gridcolor": "white",
           "linecolor": "white",
           "ticks": "",
           "title": {
            "standoff": 15
           },
           "zerolinecolor": "white",
           "zerolinewidth": 2
          }
         }
        },
        "title": {
         "font": {
          "size": 30
         },
         "text": "台中各測站PM2.5濃度年平均值",
         "x": 0.5
        },
        "xaxis": {
         "anchor": "y",
         "domain": [
          0,
          1
         ],
         "range": [
          0,
          11
         ],
         "title": {
          "text": "月份"
         },
         "type": "category"
        },
        "yaxis": {
         "anchor": "x",
         "autorange": true,
         "domain": [
          0,
          1
         ],
         "range": [
          22.903297278313943,
          66.02490637108326
         ],
         "title": {
          "text": "平均濃度(μg/m3)"
         },
         "type": "linear"
        }
       }
      },
      "text/html": [
       "<div>                            <div id=\"8dcc5fe0-de16-4074-be92-753fdc74ac5a\" class=\"plotly-graph-div\" style=\"height:525px; width:100%;\"></div>            <script type=\"text/javascript\">                require([\"plotly\"], function(Plotly) {                    window.PLOTLYENV=window.PLOTLYENV || {};                                    if (document.getElementById(\"8dcc5fe0-de16-4074-be92-753fdc74ac5a\")) {                    Plotly.newPlot(                        \"8dcc5fe0-de16-4074-be92-753fdc74ac5a\",                        [{\"hovertemplate\":\"\\u5340\\u57df=\\u5927\\u91cc<br>\\u6708\\u4efd=%{x}<br>\\u5e73\\u5747\\u6fc3\\u5ea6(\\u03bcg/m3)=%{y}<extra></extra>\",\"legendgroup\":\"\\u5927\\u91cc\",\"line\":{\"color\":\"#636efa\",\"dash\":\"solid\"},\"marker\":{\"symbol\":\"circle\"},\"mode\":\"markers+lines\",\"name\":\"\\u5927\\u91cc\",\"orientation\":\"v\",\"showlegend\":true,\"type\":\"scatter\",\"x\":[\"01\",\"02\",\"03\",\"04\",\"05\",\"06\",\"07\",\"08\",\"09\",\"10\",\"11\",\"12\"],\"xaxis\":\"x\",\"y\":[51.874610389610396,57.910247349823315,63.347193548387104,59.84996655518395,43.01254071661238,33.70261016949153,33.53551155115512,34.24436065573771,47.30918644067796,54.687870967741944,57.778720538720535,48.50272727272727],\"yaxis\":\"y\"},{\"hovertemplate\":\"\\u5340\\u57df=\\u5fe0\\u660e<br>\\u6708\\u4efd=%{x}<br>\\u5e73\\u5747\\u6fc3\\u5ea6(\\u03bcg/m3)=%{y}<extra></extra>\",\"legendgroup\":\"\\u5fe0\\u660e\",\"line\":{\"color\":\"#EF553B\",\"dash\":\"solid\"},\"marker\":{\"symbol\":\"circle\"},\"mode\":\"markers+lines\",\"name\":\"\\u5fe0\\u660e\",\"orientation\":\"v\",\"showlegend\":true,\"type\":\"scatter\",\"x\":[\"01\",\"02\",\"03\",\"04\",\"05\",\"06\",\"07\",\"08\",\"09\",\"10\",\"11\",\"12\"],\"xaxis\":\"x\",\"y\":[46.277272727272724,48.887582417582415,56.677337662337656,51.804,35.70488448844885,25.5810101010101,26.56970588235294,27.388471760797344,36.74124060150376,45.7352688172043,49.23237288135593,40.93341059602649],\"yaxis\":\"y\"},{\"hovertemplate\":\"\\u5340\\u57df=\\u6c99\\u9e7f<br>\\u6708\\u4efd=%{x}<br>\\u5e73\\u5747\\u6fc3\\u5ea6(\\u03bcg/m3)=%{y}<extra></extra>\",\"legendgroup\":\"\\u6c99\\u9e7f\",\"line\":{\"color\":\"#00cc96\",\"dash\":\"solid\"},\"marker\":{\"symbol\":\"circle\"},\"mode\":\"markers+lines\",\"name\":\"\\u6c99\\u9e7f\",\"orientation\":\"v\",\"showlegend\":true,\"type\":\"scatter\",\"x\":[\"01\",\"02\",\"03\",\"04\",\"05\",\"06\",\"07\",\"08\",\"09\",\"10\",\"11\",\"12\"],\"xaxis\":\"x\",\"y\":[48.03103225806452,51.997667844522965,57.68938709677419,54.75449999999999,36.10633663366336,26.694983164983164,28.264530744336568,31.17974110032362,43.563750000000006,50.23958064516129,52.50353535353535,43.780903225806455],\"yaxis\":\"y\"},{\"hovertemplate\":\"\\u5340\\u57df=\\u897f\\u5c6f<br>\\u6708\\u4efd=%{x}<br>\\u5e73\\u5747\\u6fc3\\u5ea6(\\u03bcg/m3)=%{y}<extra></extra>\",\"legendgroup\":\"\\u897f\\u5c6f\",\"line\":{\"color\":\"#ab63fa\",\"dash\":\"solid\"},\"marker\":{\"symbol\":\"circle\"},\"mode\":\"markers+lines\",\"name\":\"\\u897f\\u5c6f\",\"orientation\":\"v\",\"showlegend\":true,\"type\":\"scatter\",\"x\":[\"01\",\"02\",\"03\",\"04\",\"05\",\"06\",\"07\",\"08\",\"09\",\"10\",\"11\",\"12\"],\"xaxis\":\"x\",\"y\":[51.7263430420712,54.92593639575972,61.23338709677419,57.3957,41.284026402640265,34.47559322033898,33.42006535947712,34.69758064516129,45.564113712374585,50.647207792207794,54.263581081081085,47.10254838709677],\"yaxis\":\"y\"},{\"hovertemplate\":\"\\u5340\\u57df=\\u8c50\\u539f<br>\\u6708\\u4efd=%{x}<br>\\u5e73\\u5747\\u6fc3\\u5ea6(\\u03bcg/m3)=%{y}<extra></extra>\",\"legendgroup\":\"\\u8c50\\u539f\",\"line\":{\"color\":\"#FFA15A\",\"dash\":\"solid\"},\"marker\":{\"symbol\":\"circle\"},\"mode\":\"markers+lines\",\"name\":\"\\u8c50\\u539f\",\"orientation\":\"v\",\"showlegend\":true,\"type\":\"scatter\",\"x\":[\"01\",\"02\",\"03\",\"04\",\"05\",\"06\",\"07\",\"08\",\"09\",\"10\",\"11\",\"12\"],\"xaxis\":\"x\",\"y\":[39.54707482993197,41.86098039215686,49.48204301075269,49.90021505376344,37.17235483870968,30.150482758620686,32.272508143322476,32.965387096774194,41.05591216216216,43.88013029315961,45.337235494880545,36.14970967741935],\"yaxis\":\"y\"},{\"hovertemplate\":\"\\u5340\\u57df=\\u53f0\\u4e2d<br>\\u6708\\u4efd=%{x}<br>\\u5e73\\u5747\\u6fc3\\u5ea6(\\u03bcg/m3)=%{y}<extra></extra>\",\"legendgroup\":\"\\u53f0\\u4e2d\",\"line\":{\"color\":\"#19d3f3\",\"dash\":\"solid\"},\"marker\":{\"symbol\":\"circle\"},\"mode\":\"markers+lines\",\"name\":\"\\u53f0\\u4e2d\",\"orientation\":\"v\",\"showlegend\":true,\"type\":\"scatter\",\"x\":[\"01\",\"02\",\"03\",\"04\",\"05\",\"06\",\"07\",\"08\",\"09\",\"10\",\"11\",\"12\"],\"xaxis\":\"x\",\"y\":[47.49126664939016,51.116482879969055,57.68586968300516,54.740876321789486,38.65602861601491,30.120935882888894,30.812464336128848,32.09510825175884,42.84684058334369,49.03801170309498,51.82308906991468,43.29385983181527],\"yaxis\":\"y\"}],                        {\"legend\":{\"title\":{\"text\":\"\\u5340\\u57df\"},\"tracegroupgap\":0},\"margin\":{\"t\":60},\"shapes\":[{\"line\":{\"color\":\"green\",\"dash\":\"dot\",\"width\":3},\"type\":\"line\",\"x0\":0,\"x1\":1,\"xref\":\"paper\",\"y0\":35,\"y1\":35,\"yref\":\"y\"},{\"line\":{\"color\":\"red\",\"dash\":\"dot\",\"width\":3},\"type\":\"line\",\"x0\":0,\"x1\":1,\"xref\":\"paper\",\"y0\":53,\"y1\":53,\"yref\":\"y\"}],\"template\":{\"data\":{\"bar\":[{\"error_x\":{\"color\":\"#2a3f5f\"},\"error_y\":{\"color\":\"#2a3f5f\"},\"marker\":{\"line\":{\"color\":\"#E5ECF6\",\"width\":0.5},\"pattern\":{\"fillmode\":\"overlay\",\"size\":10,\"solidity\":0.2}},\"type\":\"bar\"}],\"barpolar\":[{\"marker\":{\"line\":{\"color\":\"#E5ECF6\",\"width\":0.5},\"pattern\":{\"fillmode\":\"overlay\",\"size\":10,\"solidity\":0.2}},\"type\":\"barpolar\"}],\"carpet\":[{\"aaxis\":{\"endlinecolor\":\"#2a3f5f\",\"gridcolor\":\"white\",\"linecolor\":\"white\",\"minorgridcolor\":\"white\",\"startlinecolor\":\"#2a3f5f\"},\"baxis\":{\"endlinecolor\":\"#2a3f5f\",\"gridcolor\":\"white\",\"linecolor\":\"white\",\"minorgridcolor\":\"white\",\"startlinecolor\":\"#2a3f5f\"},\"type\":\"carpet\"}],\"choropleth\":[{\"colorbar\":{\"outlinewidth\":0,\"ticks\":\"\"},\"type\":\"choropleth\"}],\"contour\":[{\"colorbar\":{\"outlinewidth\":0,\"ticks\":\"\"},\"colorscale\":[[0.0,\"#0d0887\"],[0.1111111111111111,\"#46039f\"],[0.2222222222222222,\"#7201a8\"],[0.3333333333333333,\"#9c179e\"],[0.4444444444444444,\"#bd3786\"],[0.5555555555555556,\"#d8576b\"],[0.6666666666666666,\"#ed7953\"],[0.7777777777777778,\"#fb9f3a\"],[0.8888888888888888,\"#fdca26\"],[1.0,\"#f0f921\"]],\"type\":\"contour\"}],\"contourcarpet\":[{\"colorbar\":{\"outlinewidth\":0,\"ticks\":\"\"},\"type\":\"contourcarpet\"}],\"heatmap\":[{\"colorbar\":{\"outlinewidth\":0,\"ticks\":\"\"},\"colorscale\":[[0.0,\"#0d0887\"],[0.1111111111111111,\"#46039f\"],[0.2222222222222222,\"#7201a8\"],[0.3333333333333333,\"#9c179e\"],[0.4444444444444444,\"#bd3786\"],[0.5555555555555556,\"#d8576b\"],[0.6666666666666666,\"#ed7953\"],[0.7777777777777778,\"#fb9f3a\"],[0.8888888888888888,\"#fdca26\"],[1.0,\"#f0f921\"]],\"type\":\"heatmap\"}],\"heatmapgl\":[{\"colorbar\":{\"outlinewidth\":0,\"ticks\":\"\"},\"colorscale\":[[0.0,\"#0d0887\"],[0.1111111111111111,\"#46039f\"],[0.2222222222222222,\"#7201a8\"],[0.3333333333333333,\"#9c179e\"],[0.4444444444444444,\"#bd3786\"],[0.5555555555555556,\"#d8576b\"],[0.6666666666666666,\"#ed7953\"],[0.7777777777777778,\"#fb9f3a\"],[0.8888888888888888,\"#fdca26\"],[1.0,\"#f0f921\"]],\"type\":\"heatmapgl\"}],\"histogram\":[{\"marker\":{\"pattern\":{\"fillmode\":\"overlay\",\"size\":10,\"solidity\":0.2}},\"type\":\"histogram\"}],\"histogram2d\":[{\"colorbar\":{\"outlinewidth\":0,\"ticks\":\"\"},\"colorscale\":[[0.0,\"#0d0887\"],[0.1111111111111111,\"#46039f\"],[0.2222222222222222,\"#7201a8\"],[0.3333333333333333,\"#9c179e\"],[0.4444444444444444,\"#bd3786\"],[0.5555555555555556,\"#d8576b\"],[0.6666666666666666,\"#ed7953\"],[0.7777777777777778,\"#fb9f3a\"],[0.8888888888888888,\"#fdca26\"],[1.0,\"#f0f921\"]],\"type\":\"histogram2d\"}],\"histogram2dcontour\":[{\"colorbar\":{\"outlinewidth\":0,\"ticks\":\"\"},\"colorscale\":[[0.0,\"#0d0887\"],[0.1111111111111111,\"#46039f\"],[0.2222222222222222,\"#7201a8\"],[0.3333333333333333,\"#9c179e\"],[0.4444444444444444,\"#bd3786\"],[0.5555555555555556,\"#d8576b\"],[0.6666666666666666,\"#ed7953\"],[0.7777777777777778,\"#fb9f3a\"],[0.8888888888888888,\"#fdca26\"],[1.0,\"#f0f921\"]],\"type\":\"histogram2dcontour\"}],\"mesh3d\":[{\"colorbar\":{\"outlinewidth\":0,\"ticks\":\"\"},\"type\":\"mesh3d\"}],\"parcoords\":[{\"line\":{\"colorbar\":{\"outlinewidth\":0,\"ticks\":\"\"}},\"type\":\"parcoords\"}],\"pie\":[{\"automargin\":true,\"type\":\"pie\"}],\"scatter\":[{\"marker\":{\"colorbar\":{\"outlinewidth\":0,\"ticks\":\"\"}},\"type\":\"scatter\"}],\"scatter3d\":[{\"line\":{\"colorbar\":{\"outlinewidth\":0,\"ticks\":\"\"}},\"marker\":{\"colorbar\":{\"outlinewidth\":0,\"ticks\":\"\"}},\"type\":\"scatter3d\"}],\"scattercarpet\":[{\"marker\":{\"colorbar\":{\"outlinewidth\":0,\"ticks\":\"\"}},\"type\":\"scattercarpet\"}],\"scattergeo\":[{\"marker\":{\"colorbar\":{\"outlinewidth\":0,\"ticks\":\"\"}},\"type\":\"scattergeo\"}],\"scattergl\":[{\"marker\":{\"colorbar\":{\"outlinewidth\":0,\"ticks\":\"\"}},\"type\":\"scattergl\"}],\"scattermapbox\":[{\"marker\":{\"colorbar\":{\"outlinewidth\":0,\"ticks\":\"\"}},\"type\":\"scattermapbox\"}],\"scatterpolar\":[{\"marker\":{\"colorbar\":{\"outlinewidth\":0,\"ticks\":\"\"}},\"type\":\"scatterpolar\"}],\"scatterpolargl\":[{\"marker\":{\"colorbar\":{\"outlinewidth\":0,\"ticks\":\"\"}},\"type\":\"scatterpolargl\"}],\"scatterternary\":[{\"marker\":{\"colorbar\":{\"outlinewidth\":0,\"ticks\":\"\"}},\"type\":\"scatterternary\"}],\"surface\":[{\"colorbar\":{\"outlinewidth\":0,\"ticks\":\"\"},\"colorscale\":[[0.0,\"#0d0887\"],[0.1111111111111111,\"#46039f\"],[0.2222222222222222,\"#7201a8\"],[0.3333333333333333,\"#9c179e\"],[0.4444444444444444,\"#bd3786\"],[0.5555555555555556,\"#d8576b\"],[0.6666666666666666,\"#ed7953\"],[0.7777777777777778,\"#fb9f3a\"],[0.8888888888888888,\"#fdca26\"],[1.0,\"#f0f921\"]],\"type\":\"surface\"}],\"table\":[{\"cells\":{\"fill\":{\"color\":\"#EBF0F8\"},\"line\":{\"color\":\"white\"}},\"header\":{\"fill\":{\"color\":\"#C8D4E3\"},\"line\":{\"color\":\"white\"}},\"type\":\"table\"}]},\"layout\":{\"annotationdefaults\":{\"arrowcolor\":\"#2a3f5f\",\"arrowhead\":0,\"arrowwidth\":1},\"autotypenumbers\":\"strict\",\"coloraxis\":{\"colorbar\":{\"outlinewidth\":0,\"ticks\":\"\"}},\"colorscale\":{\"diverging\":[[0,\"#8e0152\"],[0.1,\"#c51b7d\"],[0.2,\"#de77ae\"],[0.3,\"#f1b6da\"],[0.4,\"#fde0ef\"],[0.5,\"#f7f7f7\"],[0.6,\"#e6f5d0\"],[0.7,\"#b8e186\"],[0.8,\"#7fbc41\"],[0.9,\"#4d9221\"],[1,\"#276419\"]],\"sequential\":[[0.0,\"#0d0887\"],[0.1111111111111111,\"#46039f\"],[0.2222222222222222,\"#7201a8\"],[0.3333333333333333,\"#9c179e\"],[0.4444444444444444,\"#bd3786\"],[0.5555555555555556,\"#d8576b\"],[0.6666666666666666,\"#ed7953\"],[0.7777777777777778,\"#fb9f3a\"],[0.8888888888888888,\"#fdca26\"],[1.0,\"#f0f921\"]],\"sequentialminus\":[[0.0,\"#0d0887\"],[0.1111111111111111,\"#46039f\"],[0.2222222222222222,\"#7201a8\"],[0.3333333333333333,\"#9c179e\"],[0.4444444444444444,\"#bd3786\"],[0.5555555555555556,\"#d8576b\"],[0.6666666666666666,\"#ed7953\"],[0.7777777777777778,\"#fb9f3a\"],[0.8888888888888888,\"#fdca26\"],[1.0,\"#f0f921\"]]},\"colorway\":[\"#636efa\",\"#EF553B\",\"#00cc96\",\"#ab63fa\",\"#FFA15A\",\"#19d3f3\",\"#FF6692\",\"#B6E880\",\"#FF97FF\",\"#FECB52\"],\"font\":{\"color\":\"#2a3f5f\"},\"geo\":{\"bgcolor\":\"white\",\"lakecolor\":\"white\",\"landcolor\":\"#E5ECF6\",\"showlakes\":true,\"showland\":true,\"subunitcolor\":\"white\"},\"hoverlabel\":{\"align\":\"left\"},\"hovermode\":\"closest\",\"mapbox\":{\"style\":\"light\"},\"paper_bgcolor\":\"white\",\"plot_bgcolor\":\"#E5ECF6\",\"polar\":{\"angularaxis\":{\"gridcolor\":\"white\",\"linecolor\":\"white\",\"ticks\":\"\"},\"bgcolor\":\"#E5ECF6\",\"radialaxis\":{\"gridcolor\":\"white\",\"linecolor\":\"white\",\"ticks\":\"\"}},\"scene\":{\"xaxis\":{\"backgroundcolor\":\"#E5ECF6\",\"gridcolor\":\"white\",\"gridwidth\":2,\"linecolor\":\"white\",\"showbackground\":true,\"ticks\":\"\",\"zerolinecolor\":\"white\"},\"yaxis\":{\"backgroundcolor\":\"#E5ECF6\",\"gridcolor\":\"white\",\"gridwidth\":2,\"linecolor\":\"white\",\"showbackground\":true,\"ticks\":\"\",\"zerolinecolor\":\"white\"},\"zaxis\":{\"backgroundcolor\":\"#E5ECF6\",\"gridcolor\":\"white\",\"gridwidth\":2,\"linecolor\":\"white\",\"showbackground\":true,\"ticks\":\"\",\"zerolinecolor\":\"white\"}},\"shapedefaults\":{\"line\":{\"color\":\"#2a3f5f\"}},\"ternary\":{\"aaxis\":{\"gridcolor\":\"white\",\"linecolor\":\"white\",\"ticks\":\"\"},\"baxis\":{\"gridcolor\":\"white\",\"linecolor\":\"white\",\"ticks\":\"\"},\"bgcolor\":\"#E5ECF6\",\"caxis\":{\"gridcolor\":\"white\",\"linecolor\":\"white\",\"ticks\":\"\"}},\"title\":{\"x\":0.05},\"xaxis\":{\"automargin\":true,\"gridcolor\":\"white\",\"linecolor\":\"white\",\"ticks\":\"\",\"title\":{\"standoff\":15},\"zerolinecolor\":\"white\",\"zerolinewidth\":2},\"yaxis\":{\"automargin\":true,\"gridcolor\":\"white\",\"linecolor\":\"white\",\"ticks\":\"\",\"title\":{\"standoff\":15},\"zerolinecolor\":\"white\",\"zerolinewidth\":2}}},\"title\":{\"font\":{\"size\":30},\"text\":\"\\u53f0\\u4e2d\\u5404\\u6e2c\\u7ad9PM2.5\\u6fc3\\u5ea6\\u5e74\\u5e73\\u5747\\u503c\",\"x\":0.5},\"xaxis\":{\"anchor\":\"y\",\"domain\":[0.0,1.0],\"range\":[0,11],\"title\":{\"text\":\"\\u6708\\u4efd\"}},\"yaxis\":{\"anchor\":\"x\",\"domain\":[0.0,1.0],\"title\":{\"text\":\"\\u5e73\\u5747\\u6fc3\\u5ea6(\\u03bcg/m3)\"}}},                        {\"responsive\": true}                    ).then(function(){\n",
       "                            \n",
       "var gd = document.getElementById('8dcc5fe0-de16-4074-be92-753fdc74ac5a');\n",
       "var x = new MutationObserver(function (mutations, observer) {{\n",
       "        var display = window.getComputedStyle(gd).display;\n",
       "        if (!display || display === 'none') {{\n",
       "            console.log([gd, 'removed!']);\n",
       "            Plotly.purge(gd);\n",
       "            observer.disconnect();\n",
       "        }}\n",
       "}});\n",
       "\n",
       "// Listen for the removal of the full notebook cells\n",
       "var notebookContainer = gd.closest('#notebook-container');\n",
       "if (notebookContainer) {{\n",
       "    x.observe(notebookContainer, {childList: true});\n",
       "}}\n",
       "\n",
       "// Listen for the clearing of the current output cell\n",
       "var outputEl = gd.closest('.output');\n",
       "if (outputEl) {{\n",
       "    x.observe(outputEl, {childList: true});\n",
       "}}\n",
       "\n",
       "                        })                };                });            </script>        </div>"
      ]
     },
     "metadata": {},
     "output_type": "display_data"
    }
   ],
   "source": [
    "fig=px.line(\n",
    "    dfall_year_mean, x=dfall_year_mean.index, y=dfall_year_mean.columns,\n",
    "    labels={\"value\": \"平均濃度(μg/m3)\", \"SiteName\": \"區域\", 'MonitorDate':'月份'},\n",
    ")\n",
    "\n",
    "fig.update_traces(mode='markers+lines')\n",
    "\n",
    "fig.update_layout(\n",
    "    title_text='台中各測站PM2.5濃度年平均值',\n",
    "    title_font_size=30,\n",
    "    title_x=0.5,\n",
    "    xaxis_range=[0, 11]\n",
    ")\n",
    "\n",
    "fig.add_shape( # add a horizontal \"target\" line\n",
    "    type=\"line\", line_color=\"green\", line_width=3, line_dash=\"dot\",\n",
    "    x0=0, x1=1, xref=\"paper\", y0=35, y1=35, yref=\"y\"\n",
    ")\n",
    "\n",
    "fig.add_shape( # add a horizontal \"target\" line\n",
    "    type=\"line\", line_color=\"red\", line_width=3, line_dash=\"dot\",\n",
    "    x0=0, x1=1, xref=\"paper\", y0=53, y1=53, yref=\"y\"\n",
    ")\n",
    "\n",
    "fig.show()"
   ]
  },
  {
   "cell_type": "markdown",
   "metadata": {},
   "source": [
    "# 10年平均"
   ]
  },
  {
   "cell_type": "code",
   "execution_count": 17,
   "metadata": {},
   "outputs": [],
   "source": [
    "#將MonitorDate變成顯示年份\n",
    "df_ytest = dfall.copy()\n",
    "df_ytest['MonitorDate'] = [x.strftime('%Y') for x in df_ytest['MonitorDate']]"
   ]
  },
  {
   "cell_type": "code",
   "execution_count": 18,
   "metadata": {},
   "outputs": [
    {
     "data": {
      "text/html": [
       "<div>\n",
       "<style scoped>\n",
       "    .dataframe tbody tr th:only-of-type {\n",
       "        vertical-align: middle;\n",
       "    }\n",
       "\n",
       "    .dataframe tbody tr th {\n",
       "        vertical-align: top;\n",
       "    }\n",
       "\n",
       "    .dataframe thead th {\n",
       "        text-align: right;\n",
       "    }\n",
       "</style>\n",
       "<table border=\"1\" class=\"dataframe\">\n",
       "  <thead>\n",
       "    <tr style=\"text-align: right;\">\n",
       "      <th>SiteName</th>\n",
       "      <th>大里</th>\n",
       "      <th>忠明</th>\n",
       "      <th>沙鹿</th>\n",
       "      <th>西屯</th>\n",
       "      <th>豐原</th>\n",
       "      <th>台中</th>\n",
       "    </tr>\n",
       "    <tr>\n",
       "      <th>MonitorDate</th>\n",
       "      <th></th>\n",
       "      <th></th>\n",
       "      <th></th>\n",
       "      <th></th>\n",
       "      <th></th>\n",
       "      <th></th>\n",
       "    </tr>\n",
       "  </thead>\n",
       "  <tbody>\n",
       "    <tr>\n",
       "      <th>2011</th>\n",
       "      <td>58.094187</td>\n",
       "      <td>52.308223</td>\n",
       "      <td>52.571123</td>\n",
       "      <td>59.062466</td>\n",
       "      <td>56.188603</td>\n",
       "      <td>55.644920</td>\n",
       "    </tr>\n",
       "    <tr>\n",
       "      <th>2012</th>\n",
       "      <td>54.181457</td>\n",
       "      <td>46.761618</td>\n",
       "      <td>46.080306</td>\n",
       "      <td>53.725097</td>\n",
       "      <td>54.570585</td>\n",
       "      <td>51.063813</td>\n",
       "    </tr>\n",
       "    <tr>\n",
       "      <th>2013</th>\n",
       "      <td>55.916154</td>\n",
       "      <td>48.603616</td>\n",
       "      <td>50.095507</td>\n",
       "      <td>55.727060</td>\n",
       "      <td>47.904161</td>\n",
       "      <td>51.649300</td>\n",
       "    </tr>\n",
       "    <tr>\n",
       "      <th>2014</th>\n",
       "      <td>57.784055</td>\n",
       "      <td>49.760630</td>\n",
       "      <td>53.545288</td>\n",
       "      <td>53.890637</td>\n",
       "      <td>45.131758</td>\n",
       "      <td>52.022474</td>\n",
       "    </tr>\n",
       "    <tr>\n",
       "      <th>2015</th>\n",
       "      <td>51.594199</td>\n",
       "      <td>43.642452</td>\n",
       "      <td>50.735276</td>\n",
       "      <td>49.518564</td>\n",
       "      <td>37.112096</td>\n",
       "      <td>46.520517</td>\n",
       "    </tr>\n",
       "    <tr>\n",
       "      <th>2016</th>\n",
       "      <td>47.776658</td>\n",
       "      <td>39.026011</td>\n",
       "      <td>45.754329</td>\n",
       "      <td>45.567967</td>\n",
       "      <td>31.553934</td>\n",
       "      <td>41.935780</td>\n",
       "    </tr>\n",
       "    <tr>\n",
       "      <th>2017</th>\n",
       "      <td>47.844615</td>\n",
       "      <td>36.860826</td>\n",
       "      <td>39.651813</td>\n",
       "      <td>45.318219</td>\n",
       "      <td>34.991298</td>\n",
       "      <td>40.933355</td>\n",
       "    </tr>\n",
       "    <tr>\n",
       "      <th>2018</th>\n",
       "      <td>47.148485</td>\n",
       "      <td>36.745370</td>\n",
       "      <td>39.191099</td>\n",
       "      <td>42.547068</td>\n",
       "      <td>35.613671</td>\n",
       "      <td>40.249139</td>\n",
       "    </tr>\n",
       "    <tr>\n",
       "      <th>2019</th>\n",
       "      <td>35.617535</td>\n",
       "      <td>30.651444</td>\n",
       "      <td>32.022099</td>\n",
       "      <td>37.018329</td>\n",
       "      <td>30.799721</td>\n",
       "      <td>33.221826</td>\n",
       "    </tr>\n",
       "    <tr>\n",
       "      <th>2020</th>\n",
       "      <td>32.121267</td>\n",
       "      <td>27.581126</td>\n",
       "      <td>27.187879</td>\n",
       "      <td>29.644822</td>\n",
       "      <td>26.202149</td>\n",
       "      <td>28.547449</td>\n",
       "    </tr>\n",
       "  </tbody>\n",
       "</table>\n",
       "</div>"
      ],
      "text/plain": [
       "SiteName            大里         忠明         沙鹿         西屯         豐原         台中\n",
       "MonitorDate                                                                  \n",
       "2011         58.094187  52.308223  52.571123  59.062466  56.188603  55.644920\n",
       "2012         54.181457  46.761618  46.080306  53.725097  54.570585  51.063813\n",
       "2013         55.916154  48.603616  50.095507  55.727060  47.904161  51.649300\n",
       "2014         57.784055  49.760630  53.545288  53.890637  45.131758  52.022474\n",
       "2015         51.594199  43.642452  50.735276  49.518564  37.112096  46.520517\n",
       "2016         47.776658  39.026011  45.754329  45.567967  31.553934  41.935780\n",
       "2017         47.844615  36.860826  39.651813  45.318219  34.991298  40.933355\n",
       "2018         47.148485  36.745370  39.191099  42.547068  35.613671  40.249139\n",
       "2019         35.617535  30.651444  32.022099  37.018329  30.799721  33.221826\n",
       "2020         32.121267  27.581126  27.187879  29.644822  26.202149  28.547449"
      ]
     },
     "execution_count": 18,
     "metadata": {},
     "output_type": "execute_result"
    }
   ],
   "source": [
    "#用MonitorDate、MonitorDate分群，且篩選出想要的資料\n",
    "#再創建台中全區的資料\n",
    "dfall_10year_mean = df_ytest.groupby(['MonitorDate', 'SiteName'])['24Hmean'].mean().unstack(1)\n",
    "dfall_10year_mean['台中'] = dfall_10year_mean.iloc[:,0:5].mean(axis=1)\n",
    "dfall_10year_mean"
   ]
  },
  {
   "cell_type": "code",
   "execution_count": 19,
   "metadata": {},
   "outputs": [
    {
     "data": {
      "application/vnd.plotly.v1+json": {
       "config": {
        "plotlyServerURL": "https://plot.ly"
       },
       "data": [
        {
         "hovertemplate": "區域=大里<br>年份=%{x}<br>平均濃度(μg/m3)=%{y}<extra></extra>",
         "legendgroup": "大里",
         "line": {
          "color": "#636efa",
          "dash": "solid"
         },
         "marker": {
          "symbol": "circle"
         },
         "mode": "markers+lines",
         "name": "大里",
         "orientation": "v",
         "showlegend": true,
         "type": "scatter",
         "x": [
          "2011",
          "2012",
          "2013",
          "2014",
          "2015",
          "2016",
          "2017",
          "2018",
          "2019",
          "2020"
         ],
         "xaxis": "x",
         "y": [
          58.09418732782369,
          54.18145714285714,
          55.91615384615385,
          57.78405479452055,
          51.59419889502762,
          47.776657534246574,
          47.84461538461538,
          47.148484848484856,
          35.61753462603878,
          32.12126721763086
         ],
         "yaxis": "y"
        },
        {
         "hovertemplate": "區域=忠明<br>年份=%{x}<br>平均濃度(μg/m3)=%{y}<extra></extra>",
         "legendgroup": "忠明",
         "line": {
          "color": "#EF553B",
          "dash": "solid"
         },
         "marker": {
          "symbol": "circle"
         },
         "mode": "markers+lines",
         "name": "忠明",
         "orientation": "v",
         "showlegend": true,
         "type": "scatter",
         "x": [
          "2011",
          "2012",
          "2013",
          "2014",
          "2015",
          "2016",
          "2017",
          "2018",
          "2019",
          "2020"
         ],
         "xaxis": "x",
         "y": [
          52.308222996515674,
          46.76161764705883,
          48.60361643835616,
          49.76063013698631,
          43.642451790633615,
          39.02601092896175,
          36.86082644628099,
          36.7453698630137,
          30.651444444444447,
          27.581126373626375
         ],
         "yaxis": "y"
        },
        {
         "hovertemplate": "區域=沙鹿<br>年份=%{x}<br>平均濃度(μg/m3)=%{y}<extra></extra>",
         "legendgroup": "沙鹿",
         "line": {
          "color": "#00cc96",
          "dash": "solid"
         },
         "marker": {
          "symbol": "circle"
         },
         "mode": "markers+lines",
         "name": "沙鹿",
         "orientation": "v",
         "showlegend": true,
         "type": "scatter",
         "x": [
          "2011",
          "2012",
          "2013",
          "2014",
          "2015",
          "2016",
          "2017",
          "2018",
          "2019",
          "2020"
         ],
         "xaxis": "x",
         "y": [
          52.57112328767123,
          46.08030640668524,
          50.09550684931507,
          53.54528767123287,
          50.73527624309392,
          45.75432876712329,
          39.651813186813186,
          39.1910989010989,
          32.02209944751381,
          27.18787878787879
         ],
         "yaxis": "y"
        },
        {
         "hovertemplate": "區域=西屯<br>年份=%{x}<br>平均濃度(μg/m3)=%{y}<extra></extra>",
         "legendgroup": "西屯",
         "line": {
          "color": "#ab63fa",
          "dash": "solid"
         },
         "marker": {
          "symbol": "circle"
         },
         "mode": "markers+lines",
         "name": "西屯",
         "orientation": "v",
         "showlegend": true,
         "type": "scatter",
         "x": [
          "2011",
          "2012",
          "2013",
          "2014",
          "2015",
          "2016",
          "2017",
          "2018",
          "2019",
          "2020"
         ],
         "xaxis": "x",
         "y": [
          59.062465753424654,
          53.725097493036216,
          55.72706043956045,
          53.89063711911358,
          49.5185635359116,
          45.56796703296704,
          45.318219178082195,
          42.54706849315068,
          37.0183286908078,
          29.64482191780822
         ],
         "yaxis": "y"
        },
        {
         "hovertemplate": "區域=豐原<br>年份=%{x}<br>平均濃度(μg/m3)=%{y}<extra></extra>",
         "legendgroup": "豐原",
         "line": {
          "color": "#FFA15A",
          "dash": "solid"
         },
         "marker": {
          "symbol": "circle"
         },
         "mode": "markers+lines",
         "name": "豐原",
         "orientation": "v",
         "showlegend": true,
         "type": "scatter",
         "x": [
          "2011",
          "2012",
          "2013",
          "2014",
          "2015",
          "2016",
          "2017",
          "2018",
          "2019",
          "2020"
         ],
         "xaxis": "x",
         "y": [
          56.18860273972603,
          54.57058495821727,
          47.904160583941604,
          45.13175824175824,
          37.112096317280454,
          31.553934426229507,
          34.99129834254144,
          35.61367123287671,
          30.799721448467967,
          26.202148760330576
         ],
         "yaxis": "y"
        },
        {
         "hovertemplate": "區域=台中<br>年份=%{x}<br>平均濃度(μg/m3)=%{y}<extra></extra>",
         "legendgroup": "台中",
         "line": {
          "color": "#19d3f3",
          "dash": "solid"
         },
         "marker": {
          "symbol": "circle"
         },
         "mode": "markers+lines",
         "name": "台中",
         "orientation": "v",
         "showlegend": true,
         "type": "scatter",
         "x": [
          "2011",
          "2012",
          "2013",
          "2014",
          "2015",
          "2016",
          "2017",
          "2018",
          "2019",
          "2020"
         ],
         "xaxis": "x",
         "y": [
          55.64492042103226,
          51.063812729570934,
          51.64929963146542,
          52.02247359272231,
          46.52051735638944,
          41.935779737905634,
          40.933354507666635,
          40.24913866772497,
          33.22182573145456,
          28.54744861145496
         ],
         "yaxis": "y"
        }
       ],
       "layout": {
        "autosize": true,
        "legend": {
         "title": {
          "text": "區域"
         },
         "tracegroupgap": 0
        },
        "margin": {
         "t": 60
        },
        "shapes": [
         {
          "line": {
           "color": "green",
           "dash": "dot",
           "width": 3
          },
          "type": "line",
          "x0": 0,
          "x1": 1,
          "xref": "paper",
          "y0": 35,
          "y1": 35,
          "yref": "y"
         }
        ],
        "template": {
         "data": {
          "bar": [
           {
            "error_x": {
             "color": "#2a3f5f"
            },
            "error_y": {
             "color": "#2a3f5f"
            },
            "marker": {
             "line": {
              "color": "#E5ECF6",
              "width": 0.5
             },
             "pattern": {
              "fillmode": "overlay",
              "size": 10,
              "solidity": 0.2
             }
            },
            "type": "bar"
           }
          ],
          "barpolar": [
           {
            "marker": {
             "line": {
              "color": "#E5ECF6",
              "width": 0.5
             },
             "pattern": {
              "fillmode": "overlay",
              "size": 10,
              "solidity": 0.2
             }
            },
            "type": "barpolar"
           }
          ],
          "carpet": [
           {
            "aaxis": {
             "endlinecolor": "#2a3f5f",
             "gridcolor": "white",
             "linecolor": "white",
             "minorgridcolor": "white",
             "startlinecolor": "#2a3f5f"
            },
            "baxis": {
             "endlinecolor": "#2a3f5f",
             "gridcolor": "white",
             "linecolor": "white",
             "minorgridcolor": "white",
             "startlinecolor": "#2a3f5f"
            },
            "type": "carpet"
           }
          ],
          "choropleth": [
           {
            "colorbar": {
             "outlinewidth": 0,
             "ticks": ""
            },
            "type": "choropleth"
           }
          ],
          "contour": [
           {
            "colorbar": {
             "outlinewidth": 0,
             "ticks": ""
            },
            "colorscale": [
             [
              0,
              "#0d0887"
             ],
             [
              0.1111111111111111,
              "#46039f"
             ],
             [
              0.2222222222222222,
              "#7201a8"
             ],
             [
              0.3333333333333333,
              "#9c179e"
             ],
             [
              0.4444444444444444,
              "#bd3786"
             ],
             [
              0.5555555555555556,
              "#d8576b"
             ],
             [
              0.6666666666666666,
              "#ed7953"
             ],
             [
              0.7777777777777778,
              "#fb9f3a"
             ],
             [
              0.8888888888888888,
              "#fdca26"
             ],
             [
              1,
              "#f0f921"
             ]
            ],
            "type": "contour"
           }
          ],
          "contourcarpet": [
           {
            "colorbar": {
             "outlinewidth": 0,
             "ticks": ""
            },
            "type": "contourcarpet"
           }
          ],
          "heatmap": [
           {
            "colorbar": {
             "outlinewidth": 0,
             "ticks": ""
            },
            "colorscale": [
             [
              0,
              "#0d0887"
             ],
             [
              0.1111111111111111,
              "#46039f"
             ],
             [
              0.2222222222222222,
              "#7201a8"
             ],
             [
              0.3333333333333333,
              "#9c179e"
             ],
             [
              0.4444444444444444,
              "#bd3786"
             ],
             [
              0.5555555555555556,
              "#d8576b"
             ],
             [
              0.6666666666666666,
              "#ed7953"
             ],
             [
              0.7777777777777778,
              "#fb9f3a"
             ],
             [
              0.8888888888888888,
              "#fdca26"
             ],
             [
              1,
              "#f0f921"
             ]
            ],
            "type": "heatmap"
           }
          ],
          "heatmapgl": [
           {
            "colorbar": {
             "outlinewidth": 0,
             "ticks": ""
            },
            "colorscale": [
             [
              0,
              "#0d0887"
             ],
             [
              0.1111111111111111,
              "#46039f"
             ],
             [
              0.2222222222222222,
              "#7201a8"
             ],
             [
              0.3333333333333333,
              "#9c179e"
             ],
             [
              0.4444444444444444,
              "#bd3786"
             ],
             [
              0.5555555555555556,
              "#d8576b"
             ],
             [
              0.6666666666666666,
              "#ed7953"
             ],
             [
              0.7777777777777778,
              "#fb9f3a"
             ],
             [
              0.8888888888888888,
              "#fdca26"
             ],
             [
              1,
              "#f0f921"
             ]
            ],
            "type": "heatmapgl"
           }
          ],
          "histogram": [
           {
            "marker": {
             "pattern": {
              "fillmode": "overlay",
              "size": 10,
              "solidity": 0.2
             }
            },
            "type": "histogram"
           }
          ],
          "histogram2d": [
           {
            "colorbar": {
             "outlinewidth": 0,
             "ticks": ""
            },
            "colorscale": [
             [
              0,
              "#0d0887"
             ],
             [
              0.1111111111111111,
              "#46039f"
             ],
             [
              0.2222222222222222,
              "#7201a8"
             ],
             [
              0.3333333333333333,
              "#9c179e"
             ],
             [
              0.4444444444444444,
              "#bd3786"
             ],
             [
              0.5555555555555556,
              "#d8576b"
             ],
             [
              0.6666666666666666,
              "#ed7953"
             ],
             [
              0.7777777777777778,
              "#fb9f3a"
             ],
             [
              0.8888888888888888,
              "#fdca26"
             ],
             [
              1,
              "#f0f921"
             ]
            ],
            "type": "histogram2d"
           }
          ],
          "histogram2dcontour": [
           {
            "colorbar": {
             "outlinewidth": 0,
             "ticks": ""
            },
            "colorscale": [
             [
              0,
              "#0d0887"
             ],
             [
              0.1111111111111111,
              "#46039f"
             ],
             [
              0.2222222222222222,
              "#7201a8"
             ],
             [
              0.3333333333333333,
              "#9c179e"
             ],
             [
              0.4444444444444444,
              "#bd3786"
             ],
             [
              0.5555555555555556,
              "#d8576b"
             ],
             [
              0.6666666666666666,
              "#ed7953"
             ],
             [
              0.7777777777777778,
              "#fb9f3a"
             ],
             [
              0.8888888888888888,
              "#fdca26"
             ],
             [
              1,
              "#f0f921"
             ]
            ],
            "type": "histogram2dcontour"
           }
          ],
          "mesh3d": [
           {
            "colorbar": {
             "outlinewidth": 0,
             "ticks": ""
            },
            "type": "mesh3d"
           }
          ],
          "parcoords": [
           {
            "line": {
             "colorbar": {
              "outlinewidth": 0,
              "ticks": ""
             }
            },
            "type": "parcoords"
           }
          ],
          "pie": [
           {
            "automargin": true,
            "type": "pie"
           }
          ],
          "scatter": [
           {
            "marker": {
             "colorbar": {
              "outlinewidth": 0,
              "ticks": ""
             }
            },
            "type": "scatter"
           }
          ],
          "scatter3d": [
           {
            "line": {
             "colorbar": {
              "outlinewidth": 0,
              "ticks": ""
             }
            },
            "marker": {
             "colorbar": {
              "outlinewidth": 0,
              "ticks": ""
             }
            },
            "type": "scatter3d"
           }
          ],
          "scattercarpet": [
           {
            "marker": {
             "colorbar": {
              "outlinewidth": 0,
              "ticks": ""
             }
            },
            "type": "scattercarpet"
           }
          ],
          "scattergeo": [
           {
            "marker": {
             "colorbar": {
              "outlinewidth": 0,
              "ticks": ""
             }
            },
            "type": "scattergeo"
           }
          ],
          "scattergl": [
           {
            "marker": {
             "colorbar": {
              "outlinewidth": 0,
              "ticks": ""
             }
            },
            "type": "scattergl"
           }
          ],
          "scattermapbox": [
           {
            "marker": {
             "colorbar": {
              "outlinewidth": 0,
              "ticks": ""
             }
            },
            "type": "scattermapbox"
           }
          ],
          "scatterpolar": [
           {
            "marker": {
             "colorbar": {
              "outlinewidth": 0,
              "ticks": ""
             }
            },
            "type": "scatterpolar"
           }
          ],
          "scatterpolargl": [
           {
            "marker": {
             "colorbar": {
              "outlinewidth": 0,
              "ticks": ""
             }
            },
            "type": "scatterpolargl"
           }
          ],
          "scatterternary": [
           {
            "marker": {
             "colorbar": {
              "outlinewidth": 0,
              "ticks": ""
             }
            },
            "type": "scatterternary"
           }
          ],
          "surface": [
           {
            "colorbar": {
             "outlinewidth": 0,
             "ticks": ""
            },
            "colorscale": [
             [
              0,
              "#0d0887"
             ],
             [
              0.1111111111111111,
              "#46039f"
             ],
             [
              0.2222222222222222,
              "#7201a8"
             ],
             [
              0.3333333333333333,
              "#9c179e"
             ],
             [
              0.4444444444444444,
              "#bd3786"
             ],
             [
              0.5555555555555556,
              "#d8576b"
             ],
             [
              0.6666666666666666,
              "#ed7953"
             ],
             [
              0.7777777777777778,
              "#fb9f3a"
             ],
             [
              0.8888888888888888,
              "#fdca26"
             ],
             [
              1,
              "#f0f921"
             ]
            ],
            "type": "surface"
           }
          ],
          "table": [
           {
            "cells": {
             "fill": {
              "color": "#EBF0F8"
             },
             "line": {
              "color": "white"
             }
            },
            "header": {
             "fill": {
              "color": "#C8D4E3"
             },
             "line": {
              "color": "white"
             }
            },
            "type": "table"
           }
          ]
         },
         "layout": {
          "annotationdefaults": {
           "arrowcolor": "#2a3f5f",
           "arrowhead": 0,
           "arrowwidth": 1
          },
          "autotypenumbers": "strict",
          "coloraxis": {
           "colorbar": {
            "outlinewidth": 0,
            "ticks": ""
           }
          },
          "colorscale": {
           "diverging": [
            [
             0,
             "#8e0152"
            ],
            [
             0.1,
             "#c51b7d"
            ],
            [
             0.2,
             "#de77ae"
            ],
            [
             0.3,
             "#f1b6da"
            ],
            [
             0.4,
             "#fde0ef"
            ],
            [
             0.5,
             "#f7f7f7"
            ],
            [
             0.6,
             "#e6f5d0"
            ],
            [
             0.7,
             "#b8e186"
            ],
            [
             0.8,
             "#7fbc41"
            ],
            [
             0.9,
             "#4d9221"
            ],
            [
             1,
             "#276419"
            ]
           ],
           "sequential": [
            [
             0,
             "#0d0887"
            ],
            [
             0.1111111111111111,
             "#46039f"
            ],
            [
             0.2222222222222222,
             "#7201a8"
            ],
            [
             0.3333333333333333,
             "#9c179e"
            ],
            [
             0.4444444444444444,
             "#bd3786"
            ],
            [
             0.5555555555555556,
             "#d8576b"
            ],
            [
             0.6666666666666666,
             "#ed7953"
            ],
            [
             0.7777777777777778,
             "#fb9f3a"
            ],
            [
             0.8888888888888888,
             "#fdca26"
            ],
            [
             1,
             "#f0f921"
            ]
           ],
           "sequentialminus": [
            [
             0,
             "#0d0887"
            ],
            [
             0.1111111111111111,
             "#46039f"
            ],
            [
             0.2222222222222222,
             "#7201a8"
            ],
            [
             0.3333333333333333,
             "#9c179e"
            ],
            [
             0.4444444444444444,
             "#bd3786"
            ],
            [
             0.5555555555555556,
             "#d8576b"
            ],
            [
             0.6666666666666666,
             "#ed7953"
            ],
            [
             0.7777777777777778,
             "#fb9f3a"
            ],
            [
             0.8888888888888888,
             "#fdca26"
            ],
            [
             1,
             "#f0f921"
            ]
           ]
          },
          "colorway": [
           "#636efa",
           "#EF553B",
           "#00cc96",
           "#ab63fa",
           "#FFA15A",
           "#19d3f3",
           "#FF6692",
           "#B6E880",
           "#FF97FF",
           "#FECB52"
          ],
          "font": {
           "color": "#2a3f5f"
          },
          "geo": {
           "bgcolor": "white",
           "lakecolor": "white",
           "landcolor": "#E5ECF6",
           "showlakes": true,
           "showland": true,
           "subunitcolor": "white"
          },
          "hoverlabel": {
           "align": "left"
          },
          "hovermode": "closest",
          "mapbox": {
           "style": "light"
          },
          "paper_bgcolor": "white",
          "plot_bgcolor": "#E5ECF6",
          "polar": {
           "angularaxis": {
            "gridcolor": "white",
            "linecolor": "white",
            "ticks": ""
           },
           "bgcolor": "#E5ECF6",
           "radialaxis": {
            "gridcolor": "white",
            "linecolor": "white",
            "ticks": ""
           }
          },
          "scene": {
           "xaxis": {
            "backgroundcolor": "#E5ECF6",
            "gridcolor": "white",
            "gridwidth": 2,
            "linecolor": "white",
            "showbackground": true,
            "ticks": "",
            "zerolinecolor": "white"
           },
           "yaxis": {
            "backgroundcolor": "#E5ECF6",
            "gridcolor": "white",
            "gridwidth": 2,
            "linecolor": "white",
            "showbackground": true,
            "ticks": "",
            "zerolinecolor": "white"
           },
           "zaxis": {
            "backgroundcolor": "#E5ECF6",
            "gridcolor": "white",
            "gridwidth": 2,
            "linecolor": "white",
            "showbackground": true,
            "ticks": "",
            "zerolinecolor": "white"
           }
          },
          "shapedefaults": {
           "line": {
            "color": "#2a3f5f"
           }
          },
          "ternary": {
           "aaxis": {
            "gridcolor": "white",
            "linecolor": "white",
            "ticks": ""
           },
           "baxis": {
            "gridcolor": "white",
            "linecolor": "white",
            "ticks": ""
           },
           "bgcolor": "#E5ECF6",
           "caxis": {
            "gridcolor": "white",
            "linecolor": "white",
            "ticks": ""
           }
          },
          "title": {
           "x": 0.05
          },
          "xaxis": {
           "automargin": true,
           "gridcolor": "white",
           "linecolor": "white",
           "ticks": "",
           "title": {
            "standoff": 15
           },
           "zerolinecolor": "white",
           "zerolinewidth": 2
          },
          "yaxis": {
           "automargin": true,
           "gridcolor": "white",
           "linecolor": "white",
           "ticks": "",
           "title": {
            "standoff": 15
           },
           "zerolinecolor": "white",
           "zerolinewidth": 2
          }
         }
        },
        "title": {
         "font": {
          "size": 30
         },
         "text": "台中各測站PM2.5濃度十年平均值",
         "x": 0.5
        },
        "xaxis": {
         "anchor": "y",
         "domain": [
          0,
          1
         ],
         "range": [
          0,
          9
         ],
         "title": {
          "text": "年份"
         },
         "type": "category"
        },
        "yaxis": {
         "anchor": "x",
         "autorange": true,
         "domain": [
          0,
          1
         ],
         "range": [
          23.872273614411384,
          61.39234089934385
         ],
         "title": {
          "text": "平均濃度(μg/m3)"
         },
         "type": "linear"
        }
       }
      },
      "text/html": [
       "<div>                            <div id=\"364c3a7f-1737-4116-adef-343ebff2fdb5\" class=\"plotly-graph-div\" style=\"height:525px; width:100%;\"></div>            <script type=\"text/javascript\">                require([\"plotly\"], function(Plotly) {                    window.PLOTLYENV=window.PLOTLYENV || {};                                    if (document.getElementById(\"364c3a7f-1737-4116-adef-343ebff2fdb5\")) {                    Plotly.newPlot(                        \"364c3a7f-1737-4116-adef-343ebff2fdb5\",                        [{\"hovertemplate\":\"\\u5340\\u57df=\\u5927\\u91cc<br>\\u5e74\\u4efd=%{x}<br>\\u5e73\\u5747\\u6fc3\\u5ea6(\\u03bcg/m3)=%{y}<extra></extra>\",\"legendgroup\":\"\\u5927\\u91cc\",\"line\":{\"color\":\"#636efa\",\"dash\":\"solid\"},\"marker\":{\"symbol\":\"circle\"},\"mode\":\"markers+lines\",\"name\":\"\\u5927\\u91cc\",\"orientation\":\"v\",\"showlegend\":true,\"type\":\"scatter\",\"x\":[\"2011\",\"2012\",\"2013\",\"2014\",\"2015\",\"2016\",\"2017\",\"2018\",\"2019\",\"2020\"],\"xaxis\":\"x\",\"y\":[58.09418732782369,54.18145714285714,55.91615384615385,57.78405479452055,51.59419889502762,47.776657534246574,47.84461538461538,47.148484848484856,35.61753462603878,32.12126721763086],\"yaxis\":\"y\"},{\"hovertemplate\":\"\\u5340\\u57df=\\u5fe0\\u660e<br>\\u5e74\\u4efd=%{x}<br>\\u5e73\\u5747\\u6fc3\\u5ea6(\\u03bcg/m3)=%{y}<extra></extra>\",\"legendgroup\":\"\\u5fe0\\u660e\",\"line\":{\"color\":\"#EF553B\",\"dash\":\"solid\"},\"marker\":{\"symbol\":\"circle\"},\"mode\":\"markers+lines\",\"name\":\"\\u5fe0\\u660e\",\"orientation\":\"v\",\"showlegend\":true,\"type\":\"scatter\",\"x\":[\"2011\",\"2012\",\"2013\",\"2014\",\"2015\",\"2016\",\"2017\",\"2018\",\"2019\",\"2020\"],\"xaxis\":\"x\",\"y\":[52.308222996515674,46.76161764705883,48.60361643835616,49.76063013698631,43.642451790633615,39.02601092896175,36.86082644628099,36.7453698630137,30.651444444444447,27.581126373626375],\"yaxis\":\"y\"},{\"hovertemplate\":\"\\u5340\\u57df=\\u6c99\\u9e7f<br>\\u5e74\\u4efd=%{x}<br>\\u5e73\\u5747\\u6fc3\\u5ea6(\\u03bcg/m3)=%{y}<extra></extra>\",\"legendgroup\":\"\\u6c99\\u9e7f\",\"line\":{\"color\":\"#00cc96\",\"dash\":\"solid\"},\"marker\":{\"symbol\":\"circle\"},\"mode\":\"markers+lines\",\"name\":\"\\u6c99\\u9e7f\",\"orientation\":\"v\",\"showlegend\":true,\"type\":\"scatter\",\"x\":[\"2011\",\"2012\",\"2013\",\"2014\",\"2015\",\"2016\",\"2017\",\"2018\",\"2019\",\"2020\"],\"xaxis\":\"x\",\"y\":[52.57112328767123,46.08030640668524,50.09550684931507,53.54528767123287,50.73527624309392,45.75432876712329,39.651813186813186,39.1910989010989,32.02209944751381,27.18787878787879],\"yaxis\":\"y\"},{\"hovertemplate\":\"\\u5340\\u57df=\\u897f\\u5c6f<br>\\u5e74\\u4efd=%{x}<br>\\u5e73\\u5747\\u6fc3\\u5ea6(\\u03bcg/m3)=%{y}<extra></extra>\",\"legendgroup\":\"\\u897f\\u5c6f\",\"line\":{\"color\":\"#ab63fa\",\"dash\":\"solid\"},\"marker\":{\"symbol\":\"circle\"},\"mode\":\"markers+lines\",\"name\":\"\\u897f\\u5c6f\",\"orientation\":\"v\",\"showlegend\":true,\"type\":\"scatter\",\"x\":[\"2011\",\"2012\",\"2013\",\"2014\",\"2015\",\"2016\",\"2017\",\"2018\",\"2019\",\"2020\"],\"xaxis\":\"x\",\"y\":[59.062465753424654,53.725097493036216,55.72706043956045,53.89063711911358,49.5185635359116,45.56796703296704,45.318219178082195,42.54706849315068,37.0183286908078,29.64482191780822],\"yaxis\":\"y\"},{\"hovertemplate\":\"\\u5340\\u57df=\\u8c50\\u539f<br>\\u5e74\\u4efd=%{x}<br>\\u5e73\\u5747\\u6fc3\\u5ea6(\\u03bcg/m3)=%{y}<extra></extra>\",\"legendgroup\":\"\\u8c50\\u539f\",\"line\":{\"color\":\"#FFA15A\",\"dash\":\"solid\"},\"marker\":{\"symbol\":\"circle\"},\"mode\":\"markers+lines\",\"name\":\"\\u8c50\\u539f\",\"orientation\":\"v\",\"showlegend\":true,\"type\":\"scatter\",\"x\":[\"2011\",\"2012\",\"2013\",\"2014\",\"2015\",\"2016\",\"2017\",\"2018\",\"2019\",\"2020\"],\"xaxis\":\"x\",\"y\":[56.18860273972603,54.57058495821727,47.904160583941604,45.13175824175824,37.112096317280454,31.553934426229507,34.99129834254144,35.61367123287671,30.799721448467967,26.202148760330576],\"yaxis\":\"y\"},{\"hovertemplate\":\"\\u5340\\u57df=\\u53f0\\u4e2d<br>\\u5e74\\u4efd=%{x}<br>\\u5e73\\u5747\\u6fc3\\u5ea6(\\u03bcg/m3)=%{y}<extra></extra>\",\"legendgroup\":\"\\u53f0\\u4e2d\",\"line\":{\"color\":\"#19d3f3\",\"dash\":\"solid\"},\"marker\":{\"symbol\":\"circle\"},\"mode\":\"markers+lines\",\"name\":\"\\u53f0\\u4e2d\",\"orientation\":\"v\",\"showlegend\":true,\"type\":\"scatter\",\"x\":[\"2011\",\"2012\",\"2013\",\"2014\",\"2015\",\"2016\",\"2017\",\"2018\",\"2019\",\"2020\"],\"xaxis\":\"x\",\"y\":[55.64492042103226,51.063812729570934,51.64929963146542,52.02247359272231,46.52051735638944,41.935779737905634,40.933354507666635,40.24913866772497,33.22182573145456,28.54744861145496],\"yaxis\":\"y\"}],                        {\"legend\":{\"title\":{\"text\":\"\\u5340\\u57df\"},\"tracegroupgap\":0},\"margin\":{\"t\":60},\"shapes\":[{\"line\":{\"color\":\"green\",\"dash\":\"dot\",\"width\":3},\"type\":\"line\",\"x0\":0,\"x1\":1,\"xref\":\"paper\",\"y0\":35,\"y1\":35,\"yref\":\"y\"}],\"template\":{\"data\":{\"bar\":[{\"error_x\":{\"color\":\"#2a3f5f\"},\"error_y\":{\"color\":\"#2a3f5f\"},\"marker\":{\"line\":{\"color\":\"#E5ECF6\",\"width\":0.5},\"pattern\":{\"fillmode\":\"overlay\",\"size\":10,\"solidity\":0.2}},\"type\":\"bar\"}],\"barpolar\":[{\"marker\":{\"line\":{\"color\":\"#E5ECF6\",\"width\":0.5},\"pattern\":{\"fillmode\":\"overlay\",\"size\":10,\"solidity\":0.2}},\"type\":\"barpolar\"}],\"carpet\":[{\"aaxis\":{\"endlinecolor\":\"#2a3f5f\",\"gridcolor\":\"white\",\"linecolor\":\"white\",\"minorgridcolor\":\"white\",\"startlinecolor\":\"#2a3f5f\"},\"baxis\":{\"endlinecolor\":\"#2a3f5f\",\"gridcolor\":\"white\",\"linecolor\":\"white\",\"minorgridcolor\":\"white\",\"startlinecolor\":\"#2a3f5f\"},\"type\":\"carpet\"}],\"choropleth\":[{\"colorbar\":{\"outlinewidth\":0,\"ticks\":\"\"},\"type\":\"choropleth\"}],\"contour\":[{\"colorbar\":{\"outlinewidth\":0,\"ticks\":\"\"},\"colorscale\":[[0.0,\"#0d0887\"],[0.1111111111111111,\"#46039f\"],[0.2222222222222222,\"#7201a8\"],[0.3333333333333333,\"#9c179e\"],[0.4444444444444444,\"#bd3786\"],[0.5555555555555556,\"#d8576b\"],[0.6666666666666666,\"#ed7953\"],[0.7777777777777778,\"#fb9f3a\"],[0.8888888888888888,\"#fdca26\"],[1.0,\"#f0f921\"]],\"type\":\"contour\"}],\"contourcarpet\":[{\"colorbar\":{\"outlinewidth\":0,\"ticks\":\"\"},\"type\":\"contourcarpet\"}],\"heatmap\":[{\"colorbar\":{\"outlinewidth\":0,\"ticks\":\"\"},\"colorscale\":[[0.0,\"#0d0887\"],[0.1111111111111111,\"#46039f\"],[0.2222222222222222,\"#7201a8\"],[0.3333333333333333,\"#9c179e\"],[0.4444444444444444,\"#bd3786\"],[0.5555555555555556,\"#d8576b\"],[0.6666666666666666,\"#ed7953\"],[0.7777777777777778,\"#fb9f3a\"],[0.8888888888888888,\"#fdca26\"],[1.0,\"#f0f921\"]],\"type\":\"heatmap\"}],\"heatmapgl\":[{\"colorbar\":{\"outlinewidth\":0,\"ticks\":\"\"},\"colorscale\":[[0.0,\"#0d0887\"],[0.1111111111111111,\"#46039f\"],[0.2222222222222222,\"#7201a8\"],[0.3333333333333333,\"#9c179e\"],[0.4444444444444444,\"#bd3786\"],[0.5555555555555556,\"#d8576b\"],[0.6666666666666666,\"#ed7953\"],[0.7777777777777778,\"#fb9f3a\"],[0.8888888888888888,\"#fdca26\"],[1.0,\"#f0f921\"]],\"type\":\"heatmapgl\"}],\"histogram\":[{\"marker\":{\"pattern\":{\"fillmode\":\"overlay\",\"size\":10,\"solidity\":0.2}},\"type\":\"histogram\"}],\"histogram2d\":[{\"colorbar\":{\"outlinewidth\":0,\"ticks\":\"\"},\"colorscale\":[[0.0,\"#0d0887\"],[0.1111111111111111,\"#46039f\"],[0.2222222222222222,\"#7201a8\"],[0.3333333333333333,\"#9c179e\"],[0.4444444444444444,\"#bd3786\"],[0.5555555555555556,\"#d8576b\"],[0.6666666666666666,\"#ed7953\"],[0.7777777777777778,\"#fb9f3a\"],[0.8888888888888888,\"#fdca26\"],[1.0,\"#f0f921\"]],\"type\":\"histogram2d\"}],\"histogram2dcontour\":[{\"colorbar\":{\"outlinewidth\":0,\"ticks\":\"\"},\"colorscale\":[[0.0,\"#0d0887\"],[0.1111111111111111,\"#46039f\"],[0.2222222222222222,\"#7201a8\"],[0.3333333333333333,\"#9c179e\"],[0.4444444444444444,\"#bd3786\"],[0.5555555555555556,\"#d8576b\"],[0.6666666666666666,\"#ed7953\"],[0.7777777777777778,\"#fb9f3a\"],[0.8888888888888888,\"#fdca26\"],[1.0,\"#f0f921\"]],\"type\":\"histogram2dcontour\"}],\"mesh3d\":[{\"colorbar\":{\"outlinewidth\":0,\"ticks\":\"\"},\"type\":\"mesh3d\"}],\"parcoords\":[{\"line\":{\"colorbar\":{\"outlinewidth\":0,\"ticks\":\"\"}},\"type\":\"parcoords\"}],\"pie\":[{\"automargin\":true,\"type\":\"pie\"}],\"scatter\":[{\"marker\":{\"colorbar\":{\"outlinewidth\":0,\"ticks\":\"\"}},\"type\":\"scatter\"}],\"scatter3d\":[{\"line\":{\"colorbar\":{\"outlinewidth\":0,\"ticks\":\"\"}},\"marker\":{\"colorbar\":{\"outlinewidth\":0,\"ticks\":\"\"}},\"type\":\"scatter3d\"}],\"scattercarpet\":[{\"marker\":{\"colorbar\":{\"outlinewidth\":0,\"ticks\":\"\"}},\"type\":\"scattercarpet\"}],\"scattergeo\":[{\"marker\":{\"colorbar\":{\"outlinewidth\":0,\"ticks\":\"\"}},\"type\":\"scattergeo\"}],\"scattergl\":[{\"marker\":{\"colorbar\":{\"outlinewidth\":0,\"ticks\":\"\"}},\"type\":\"scattergl\"}],\"scattermapbox\":[{\"marker\":{\"colorbar\":{\"outlinewidth\":0,\"ticks\":\"\"}},\"type\":\"scattermapbox\"}],\"scatterpolar\":[{\"marker\":{\"colorbar\":{\"outlinewidth\":0,\"ticks\":\"\"}},\"type\":\"scatterpolar\"}],\"scatterpolargl\":[{\"marker\":{\"colorbar\":{\"outlinewidth\":0,\"ticks\":\"\"}},\"type\":\"scatterpolargl\"}],\"scatterternary\":[{\"marker\":{\"colorbar\":{\"outlinewidth\":0,\"ticks\":\"\"}},\"type\":\"scatterternary\"}],\"surface\":[{\"colorbar\":{\"outlinewidth\":0,\"ticks\":\"\"},\"colorscale\":[[0.0,\"#0d0887\"],[0.1111111111111111,\"#46039f\"],[0.2222222222222222,\"#7201a8\"],[0.3333333333333333,\"#9c179e\"],[0.4444444444444444,\"#bd3786\"],[0.5555555555555556,\"#d8576b\"],[0.6666666666666666,\"#ed7953\"],[0.7777777777777778,\"#fb9f3a\"],[0.8888888888888888,\"#fdca26\"],[1.0,\"#f0f921\"]],\"type\":\"surface\"}],\"table\":[{\"cells\":{\"fill\":{\"color\":\"#EBF0F8\"},\"line\":{\"color\":\"white\"}},\"header\":{\"fill\":{\"color\":\"#C8D4E3\"},\"line\":{\"color\":\"white\"}},\"type\":\"table\"}]},\"layout\":{\"annotationdefaults\":{\"arrowcolor\":\"#2a3f5f\",\"arrowhead\":0,\"arrowwidth\":1},\"autotypenumbers\":\"strict\",\"coloraxis\":{\"colorbar\":{\"outlinewidth\":0,\"ticks\":\"\"}},\"colorscale\":{\"diverging\":[[0,\"#8e0152\"],[0.1,\"#c51b7d\"],[0.2,\"#de77ae\"],[0.3,\"#f1b6da\"],[0.4,\"#fde0ef\"],[0.5,\"#f7f7f7\"],[0.6,\"#e6f5d0\"],[0.7,\"#b8e186\"],[0.8,\"#7fbc41\"],[0.9,\"#4d9221\"],[1,\"#276419\"]],\"sequential\":[[0.0,\"#0d0887\"],[0.1111111111111111,\"#46039f\"],[0.2222222222222222,\"#7201a8\"],[0.3333333333333333,\"#9c179e\"],[0.4444444444444444,\"#bd3786\"],[0.5555555555555556,\"#d8576b\"],[0.6666666666666666,\"#ed7953\"],[0.7777777777777778,\"#fb9f3a\"],[0.8888888888888888,\"#fdca26\"],[1.0,\"#f0f921\"]],\"sequentialminus\":[[0.0,\"#0d0887\"],[0.1111111111111111,\"#46039f\"],[0.2222222222222222,\"#7201a8\"],[0.3333333333333333,\"#9c179e\"],[0.4444444444444444,\"#bd3786\"],[0.5555555555555556,\"#d8576b\"],[0.6666666666666666,\"#ed7953\"],[0.7777777777777778,\"#fb9f3a\"],[0.8888888888888888,\"#fdca26\"],[1.0,\"#f0f921\"]]},\"colorway\":[\"#636efa\",\"#EF553B\",\"#00cc96\",\"#ab63fa\",\"#FFA15A\",\"#19d3f3\",\"#FF6692\",\"#B6E880\",\"#FF97FF\",\"#FECB52\"],\"font\":{\"color\":\"#2a3f5f\"},\"geo\":{\"bgcolor\":\"white\",\"lakecolor\":\"white\",\"landcolor\":\"#E5ECF6\",\"showlakes\":true,\"showland\":true,\"subunitcolor\":\"white\"},\"hoverlabel\":{\"align\":\"left\"},\"hovermode\":\"closest\",\"mapbox\":{\"style\":\"light\"},\"paper_bgcolor\":\"white\",\"plot_bgcolor\":\"#E5ECF6\",\"polar\":{\"angularaxis\":{\"gridcolor\":\"white\",\"linecolor\":\"white\",\"ticks\":\"\"},\"bgcolor\":\"#E5ECF6\",\"radialaxis\":{\"gridcolor\":\"white\",\"linecolor\":\"white\",\"ticks\":\"\"}},\"scene\":{\"xaxis\":{\"backgroundcolor\":\"#E5ECF6\",\"gridcolor\":\"white\",\"gridwidth\":2,\"linecolor\":\"white\",\"showbackground\":true,\"ticks\":\"\",\"zerolinecolor\":\"white\"},\"yaxis\":{\"backgroundcolor\":\"#E5ECF6\",\"gridcolor\":\"white\",\"gridwidth\":2,\"linecolor\":\"white\",\"showbackground\":true,\"ticks\":\"\",\"zerolinecolor\":\"white\"},\"zaxis\":{\"backgroundcolor\":\"#E5ECF6\",\"gridcolor\":\"white\",\"gridwidth\":2,\"linecolor\":\"white\",\"showbackground\":true,\"ticks\":\"\",\"zerolinecolor\":\"white\"}},\"shapedefaults\":{\"line\":{\"color\":\"#2a3f5f\"}},\"ternary\":{\"aaxis\":{\"gridcolor\":\"white\",\"linecolor\":\"white\",\"ticks\":\"\"},\"baxis\":{\"gridcolor\":\"white\",\"linecolor\":\"white\",\"ticks\":\"\"},\"bgcolor\":\"#E5ECF6\",\"caxis\":{\"gridcolor\":\"white\",\"linecolor\":\"white\",\"ticks\":\"\"}},\"title\":{\"x\":0.05},\"xaxis\":{\"automargin\":true,\"gridcolor\":\"white\",\"linecolor\":\"white\",\"ticks\":\"\",\"title\":{\"standoff\":15},\"zerolinecolor\":\"white\",\"zerolinewidth\":2},\"yaxis\":{\"automargin\":true,\"gridcolor\":\"white\",\"linecolor\":\"white\",\"ticks\":\"\",\"title\":{\"standoff\":15},\"zerolinecolor\":\"white\",\"zerolinewidth\":2}}},\"title\":{\"font\":{\"size\":30},\"text\":\"\\u53f0\\u4e2d\\u5404\\u6e2c\\u7ad9PM2.5\\u6fc3\\u5ea6\\u5341\\u5e74\\u5e73\\u5747\\u503c\",\"x\":0.5},\"xaxis\":{\"anchor\":\"y\",\"domain\":[0.0,1.0],\"range\":[0,9],\"title\":{\"text\":\"\\u5e74\\u4efd\"}},\"yaxis\":{\"anchor\":\"x\",\"domain\":[0.0,1.0],\"title\":{\"text\":\"\\u5e73\\u5747\\u6fc3\\u5ea6(\\u03bcg/m3)\"}}},                        {\"responsive\": true}                    ).then(function(){\n",
       "                            \n",
       "var gd = document.getElementById('364c3a7f-1737-4116-adef-343ebff2fdb5');\n",
       "var x = new MutationObserver(function (mutations, observer) {{\n",
       "        var display = window.getComputedStyle(gd).display;\n",
       "        if (!display || display === 'none') {{\n",
       "            console.log([gd, 'removed!']);\n",
       "            Plotly.purge(gd);\n",
       "            observer.disconnect();\n",
       "        }}\n",
       "}});\n",
       "\n",
       "// Listen for the removal of the full notebook cells\n",
       "var notebookContainer = gd.closest('#notebook-container');\n",
       "if (notebookContainer) {{\n",
       "    x.observe(notebookContainer, {childList: true});\n",
       "}}\n",
       "\n",
       "// Listen for the clearing of the current output cell\n",
       "var outputEl = gd.closest('.output');\n",
       "if (outputEl) {{\n",
       "    x.observe(outputEl, {childList: true});\n",
       "}}\n",
       "\n",
       "                        })                };                });            </script>        </div>"
      ]
     },
     "metadata": {},
     "output_type": "display_data"
    }
   ],
   "source": [
    "fig=px.line(\n",
    "    dfall_10year_mean, x=dfall_10year_mean.index, y=dfall_10year_mean.columns,\n",
    "    #title='台中各測站PM2.5濃度年平均值',\n",
    "    labels={\"value\": \"平均濃度(μg/m3)\", \"SiteName\": \"區域\", 'MonitorDate':'年份'}\n",
    ")\n",
    "\n",
    "fig.update_traces(mode='markers+lines')\n",
    "\n",
    "\n",
    "fig.update_layout(\n",
    "    title_text='台中各測站PM2.5濃度十年平均值',\n",
    "    title_font_size=30,\n",
    "    title_x=0.5,\n",
    "    xaxis_range=[0, 9]\n",
    ")\n",
    "\n",
    "\n",
    "fig.add_shape( # add a horizontal \"target\" line\n",
    "    type=\"line\", line_color=\"green\", line_width=3, line_dash=\"dot\",\n",
    "    x0=0, x1=1, xref=\"paper\", y0=35, y1=35, yref=\"y\"\n",
    ")\n",
    "\n",
    "\n",
    "fig.show()"
   ]
  }
 ],
 "metadata": {
  "interpreter": {
   "hash": "2e6daa8d2ad32b271c059e970ebde12700e84f3bd19438179d96bb9c21007e90"
  },
  "kernelspec": {
   "display_name": "tensorflow",
   "language": "python",
   "name": "selenium"
  },
  "language_info": {
   "codemirror_mode": {
    "name": "ipython",
    "version": 3
   },
   "file_extension": ".py",
   "mimetype": "text/x-python",
   "name": "python",
   "nbconvert_exporter": "python",
   "pygments_lexer": "ipython3",
   "version": "3.8.3"
  }
 },
 "nbformat": 4,
 "nbformat_minor": 4
}
